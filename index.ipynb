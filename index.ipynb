{
 "cells": [
  {
   "cell_type": "code",
   "execution_count": 107,
   "metadata": {},
   "outputs": [],
   "source": [
    "# claims = []\n",
    "# import requests\n",
    "# for i in range(0, 50):\n",
    "#     skipvalue = i*1000\n",
    "#     url = f\"https://www.fema.gov/api/open/v1/FimaNfipClaims?$filter=reportedCity eq 'HOUSTON'&$select=reportedCity,dateOfLoss,latitude,longitude,amountPaidOnBuildingClaim,amountPaidOnContentsClaim,yearofLoss,reportedZipcode,floodZone,elevatedBuildingIndicator,lowestFloodElevation&$skip={skipvalue}\"\n",
    "#     response = requests.get(url)\n",
    "#     response_claims = response.json()['FimaNfipClaims']\n",
    "#     claims = claims + response_claims\n",
    "    "
   ]
  },
  {
   "cell_type": "code",
   "execution_count": 104,
   "metadata": {},
   "outputs": [
    {
     "data": {
      "text/plain": [
       "50000"
      ]
     },
     "execution_count": 104,
     "metadata": {},
     "output_type": "execute_result"
    }
   ],
   "source": [
    "len(claims)"
   ]
  },
  {
   "cell_type": "code",
   "execution_count": 105,
   "metadata": {},
   "outputs": [],
   "source": [
    "import pandas as pd\n",
    "claims_df = pd.DataFrame(claims)"
   ]
  },
  {
   "cell_type": "code",
   "execution_count": 100,
   "metadata": {},
   "outputs": [],
   "source": [
    "claims_df.to_csv('./flood_claims.csv')"
   ]
  },
  {
   "cell_type": "code",
   "execution_count": 86,
   "metadata": {},
   "outputs": [],
   "source": [
    "url = f\"https://www.fema.gov/api/open/v1/FimaNfipClaims?$filter=reportedCity eq 'HOUSTON'&$select=reportedCity,dateOfLoss,latitude,longitude,amountPaidOnBuildingClaim,amountPaidOnContentsClaim,yearofLoss,reportedZipcode,floodZone,elevatedBuildingIndicator,lowestFloodElevation&$skip={skipvalue}\""
   ]
  },
  {
   "cell_type": "code",
   "execution_count": 87,
   "metadata": {},
   "outputs": [],
   "source": [
    "response = requests.get(url)\n",
    "response_claims = response.json()"
   ]
  },
  {
   "cell_type": "code",
   "execution_count": 101,
   "metadata": {},
   "outputs": [],
   "source": [
    "# response_claims"
   ]
  },
  {
   "cell_type": "code",
   "execution_count": 54,
   "metadata": {},
   "outputs": [],
   "source": [
    "claims[0].keys()\n",
    "\n",
    "selected_keys = ['reportedCity', 'dateOfLoss', 'latitude', 'longitude',\n",
    "                 'amountPaidOnBuildingClaim', 'amountPaidOnContentsClaim',\n",
    "                 'yearofLoss', 'reportedZipcode', 'floodZone',\n",
    "                 'elevatedBuildingIndicator', 'lowestFloodElevation']"
   ]
  },
  {
   "cell_type": "code",
   "execution_count": 102,
   "metadata": {},
   "outputs": [],
   "source": [
    "# [{k:v for k,v in claim.items() if k in selected_keys} for claim in claims]"
   ]
  },
  {
   "cell_type": "code",
   "execution_count": null,
   "metadata": {},
   "outputs": [],
   "source": []
  },
  {
   "cell_type": "code",
   "execution_count": null,
   "metadata": {},
   "outputs": [],
   "source": []
  }
 ],
 "metadata": {
  "kernelspec": {
   "display_name": "Python 3",
   "language": "python",
   "name": "python3"
  },
  "language_info": {
   "codemirror_mode": {
    "name": "ipython",
    "version": 3
   },
   "file_extension": ".py",
   "mimetype": "text/x-python",
   "name": "python",
   "nbconvert_exporter": "python",
   "pygments_lexer": "ipython3",
   "version": "3.8.3"
  }
 },
 "nbformat": 4,
 "nbformat_minor": 4
}
