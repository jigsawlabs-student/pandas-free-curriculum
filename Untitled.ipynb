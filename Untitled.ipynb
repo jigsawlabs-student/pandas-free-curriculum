{
 "cells": [
  {
   "cell_type": "code",
   "execution_count": null,
   "metadata": {},
   "outputs": [],
   "source": []
  },
  {
   "cell_type": "code",
   "execution_count": 12,
   "metadata": {},
   "outputs": [],
   "source": [
    "import pandas as pd\n",
    "df_claims = pd.read_csv('./houston_claims.csv', index_col = 0)"
   ]
  },
  {
   "cell_type": "code",
   "execution_count": 23,
   "metadata": {},
   "outputs": [
    {
     "data": {
      "text/plain": [
       "reportedCity                                  HOUSTON\n",
       "dateOfLoss                   2017-08-27T00:00:00.000Z\n",
       "elevatedBuildingIndicator                       False\n",
       "floodZone                                           X\n",
       "latitude                                           30\n",
       "longitude                                       -95.5\n",
       "lowestFloodElevation                              NaN\n",
       "amountPaidOnBuildingClaim                           0\n",
       "amountPaidOnContentsClaim                           0\n",
       "yearofLoss                   2017-01-01T00:00:00.000Z\n",
       "reportedZipcode                                 77069\n",
       "id                           5e398da074cbd479fc8d8231\n",
       "Name: 15999, dtype: object"
      ]
     },
     "execution_count": 23,
     "metadata": {},
     "output_type": "execute_result"
    }
   ],
   "source": [
    "df_claims.iloc[15999]"
   ]
  },
  {
   "cell_type": "code",
   "execution_count": null,
   "metadata": {},
   "outputs": [],
   "source": []
  }
 ],
 "metadata": {
  "kernelspec": {
   "display_name": "Python 3",
   "language": "python",
   "name": "python3"
  },
  "language_info": {
   "codemirror_mode": {
    "name": "ipython",
    "version": 3
   },
   "file_extension": ".py",
   "mimetype": "text/x-python",
   "name": "python",
   "nbconvert_exporter": "python",
   "pygments_lexer": "ipython3",
   "version": "3.8.8"
  }
 },
 "nbformat": 4,
 "nbformat_minor": 4
}
