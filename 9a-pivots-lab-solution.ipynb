{
 "cells": [
  {
   "cell_type": "markdown",
   "metadata": {},
   "source": [
    "# Pivot Tables"
   ]
  },
  {
   "cell_type": "markdown",
   "metadata": {},
   "source": [
    "### Introduction"
   ]
  },
  {
   "cell_type": "markdown",
   "metadata": {},
   "source": [
    "In this lesson, we'll get some practice working with pivot tables in pandas.  Whereas groupby is good for grouping our data by one dimension, pivot tables can be useful when grouping our data by multiple dimensions.  \n",
    "\n",
    "We'll practice using data in this lab from using education data from NYC."
   ]
  },
  {
   "cell_type": "markdown",
   "metadata": {},
   "source": [
    "### Loading our Data"
   ]
  },
  {
   "cell_type": "markdown",
   "metadata": {},
   "source": [
    "Let's begin by loading up our data."
   ]
  },
  {
   "cell_type": "code",
   "execution_count": 2,
   "metadata": {},
   "outputs": [],
   "source": [
    "import pandas as pd"
   ]
  },
  {
   "cell_type": "code",
   "execution_count": null,
   "metadata": {},
   "outputs": [],
   "source": [
    "url = \"https://raw.githubusercontent.com/jigsawlabs-student/exploring-pandas/master/regents-results.csv\"\n",
    "regents_df = pd.read_csv(url)"
   ]
  },
  {
   "cell_type": "code",
   "execution_count": null,
   "metadata": {},
   "outputs": [],
   "source": [
    "regents_df[:3]"
   ]
  },
  {
   "cell_type": "markdown",
   "metadata": {},
   "source": [
    "As we can see, there is a good amount of categorical data in these columns.  This could be a good candidate for grouping by multiple columns.  But to begin with, let's reduce some of our data."
   ]
  },
  {
   "cell_type": "code",
   "execution_count": 5,
   "metadata": {},
   "outputs": [
    {
     "data": {
      "text/plain": [
       "Index(['Unnamed Column', 'School DBN', 'School Name', 'School Type',\n",
       "       'School Level', 'Regents Exam', 'Year', 'Category', 'Total Tested',\n",
       "       'Mean Score', 'Number Scoring Below 65', 'Percent Scoring Below 65',\n",
       "       'Number Scoring 65 or Above', 'Percent Scoring 65 or Above',\n",
       "       'Number Scoring 80 or Above', 'Percent Scoring 80 or Above',\n",
       "       'Number Scoring CR', 'Percent Scoring CR'],\n",
       "      dtype='object')"
      ]
     },
     "execution_count": 5,
     "metadata": {},
     "output_type": "execute_result"
    }
   ],
   "source": [
    "regents_df.columns"
   ]
  },
  {
   "cell_type": "code",
   "execution_count": 38,
   "metadata": {},
   "outputs": [],
   "source": [
    "selected_cols = ['School DBN', 'School Name', 'School Level', 'Regents Exam', 'Year', 'Total Tested', 'Mean Score', 'Percent Scoring 80 or Above', 'Percent Scoring Below 65']"
   ]
  },
  {
   "cell_type": "code",
   "execution_count": 39,
   "metadata": {},
   "outputs": [],
   "source": [
    "reduced_df = regents_df[selected_cols]"
   ]
  },
  {
   "cell_type": "code",
   "execution_count": 40,
   "metadata": {},
   "outputs": [
    {
     "data": {
      "text/html": [
       "<div>\n",
       "<style scoped>\n",
       "    .dataframe tbody tr th:only-of-type {\n",
       "        vertical-align: middle;\n",
       "    }\n",
       "\n",
       "    .dataframe tbody tr th {\n",
       "        vertical-align: top;\n",
       "    }\n",
       "\n",
       "    .dataframe thead th {\n",
       "        text-align: right;\n",
       "    }\n",
       "</style>\n",
       "<table border=\"1\" class=\"dataframe\">\n",
       "  <thead>\n",
       "    <tr style=\"text-align: right;\">\n",
       "      <th></th>\n",
       "      <th>School DBN</th>\n",
       "      <th>School Name</th>\n",
       "      <th>School Level</th>\n",
       "      <th>Regents Exam</th>\n",
       "      <th>Year</th>\n",
       "      <th>Total Tested</th>\n",
       "      <th>Mean Score</th>\n",
       "      <th>Percent Scoring 80 or Above</th>\n",
       "      <th>Percent Scoring Below 65</th>\n",
       "    </tr>\n",
       "  </thead>\n",
       "  <tbody>\n",
       "    <tr>\n",
       "      <th>0</th>\n",
       "      <td>01M034</td>\n",
       "      <td>P.S. 034 Franklin D. Roosevelt</td>\n",
       "      <td>K-8</td>\n",
       "      <td>Living Environment</td>\n",
       "      <td>2015</td>\n",
       "      <td>16</td>\n",
       "      <td>77.9</td>\n",
       "      <td>43.8</td>\n",
       "      <td>6.3</td>\n",
       "    </tr>\n",
       "    <tr>\n",
       "      <th>1</th>\n",
       "      <td>01M034</td>\n",
       "      <td>P.S. 034 Franklin D. Roosevelt</td>\n",
       "      <td>K-8</td>\n",
       "      <td>Living Environment</td>\n",
       "      <td>2016</td>\n",
       "      <td>9</td>\n",
       "      <td>74.0</td>\n",
       "      <td>22.2</td>\n",
       "      <td>11.1</td>\n",
       "    </tr>\n",
       "    <tr>\n",
       "      <th>2</th>\n",
       "      <td>01M034</td>\n",
       "      <td>P.S. 034 Franklin D. Roosevelt</td>\n",
       "      <td>K-8</td>\n",
       "      <td>Common Core Algebra</td>\n",
       "      <td>2017</td>\n",
       "      <td>4</td>\n",
       "      <td>s</td>\n",
       "      <td>s</td>\n",
       "      <td>s</td>\n",
       "    </tr>\n",
       "  </tbody>\n",
       "</table>\n",
       "</div>"
      ],
      "text/plain": [
       "  School DBN                     School Name School Level  \\\n",
       "0     01M034  P.S. 034 Franklin D. Roosevelt          K-8   \n",
       "1     01M034  P.S. 034 Franklin D. Roosevelt          K-8   \n",
       "2     01M034  P.S. 034 Franklin D. Roosevelt          K-8   \n",
       "\n",
       "          Regents Exam  Year  Total Tested Mean Score  \\\n",
       "0   Living Environment  2015            16       77.9   \n",
       "1   Living Environment  2016             9       74.0   \n",
       "2  Common Core Algebra  2017             4          s   \n",
       "\n",
       "  Percent Scoring 80 or Above Percent Scoring Below 65  \n",
       "0                        43.8                      6.3  \n",
       "1                        22.2                     11.1  \n",
       "2                           s                        s  "
      ]
     },
     "execution_count": 40,
     "metadata": {},
     "output_type": "execute_result"
    }
   ],
   "source": [
    "reduced_df[:3]"
   ]
  },
  {
   "cell_type": "markdown",
   "metadata": {},
   "source": [
    "### Querying our Data"
   ]
  },
  {
   "cell_type": "markdown",
   "metadata": {},
   "source": [
    "Ok, let's begin by looking at the different school levels in our dataset, and the related counts of each."
   ]
  },
  {
   "cell_type": "code",
   "execution_count": null,
   "metadata": {},
   "outputs": [],
   "source": [
    "reduced_df['School Level'].value_counts()\n",
    "\n",
    "# High school                        22456\n",
    "# Secondary School                    4766\n",
    "# Junior High-Intermediate-Middle     2900\n",
    "# K-12 all grades                     1516\n",
    "# K-8                                 1374\n",
    "# Elementary                            17\n",
    "# Ungraded                               2"
   ]
  },
  {
   "cell_type": "markdown",
   "metadata": {},
   "source": [
    "Let's only select High school data."
   ]
  },
  {
   "cell_type": "code",
   "execution_count": 47,
   "metadata": {},
   "outputs": [],
   "source": [
    "high_school_df = reduced_df[selected_df['School Level'] == 'High school']"
   ]
  },
  {
   "cell_type": "code",
   "execution_count": 48,
   "metadata": {},
   "outputs": [
    {
     "data": {
      "text/plain": [
       "(22456, 9)"
      ]
     },
     "execution_count": 48,
     "metadata": {},
     "output_type": "execute_result"
    }
   ],
   "source": [
    "high_school_df.shape\n",
    "\n",
    "# (22456, 8)"
   ]
  },
  {
   "cell_type": "markdown",
   "metadata": {},
   "source": [
    "Now each school may have had many different tests per year."
   ]
  },
  {
   "cell_type": "code",
   "execution_count": 49,
   "metadata": {},
   "outputs": [
    {
     "data": {
      "text/html": [
       "<div>\n",
       "<style scoped>\n",
       "    .dataframe tbody tr th:only-of-type {\n",
       "        vertical-align: middle;\n",
       "    }\n",
       "\n",
       "    .dataframe tbody tr th {\n",
       "        vertical-align: top;\n",
       "    }\n",
       "\n",
       "    .dataframe thead th {\n",
       "        text-align: right;\n",
       "    }\n",
       "</style>\n",
       "<table border=\"1\" class=\"dataframe\">\n",
       "  <thead>\n",
       "    <tr style=\"text-align: right;\">\n",
       "      <th></th>\n",
       "      <th>School DBN</th>\n",
       "      <th>School Name</th>\n",
       "      <th>School Level</th>\n",
       "      <th>Regents Exam</th>\n",
       "      <th>Year</th>\n",
       "      <th>Total Tested</th>\n",
       "      <th>Mean Score</th>\n",
       "      <th>Percent Scoring 80 or Above</th>\n",
       "      <th>Percent Scoring Below 65</th>\n",
       "    </tr>\n",
       "  </thead>\n",
       "  <tbody>\n",
       "    <tr>\n",
       "      <th>32</th>\n",
       "      <td>01M292</td>\n",
       "      <td>Orchard Collegiate Academy</td>\n",
       "      <td>High school</td>\n",
       "      <td>Algebra2/Trigonometry</td>\n",
       "      <td>2015</td>\n",
       "      <td>5</td>\n",
       "      <td>s</td>\n",
       "      <td>s</td>\n",
       "      <td>s</td>\n",
       "    </tr>\n",
       "    <tr>\n",
       "      <th>33</th>\n",
       "      <td>01M292</td>\n",
       "      <td>Orchard Collegiate Academy</td>\n",
       "      <td>High school</td>\n",
       "      <td>Chinese</td>\n",
       "      <td>2015</td>\n",
       "      <td>1</td>\n",
       "      <td>s</td>\n",
       "      <td>s</td>\n",
       "      <td>s</td>\n",
       "    </tr>\n",
       "    <tr>\n",
       "      <th>34</th>\n",
       "      <td>01M292</td>\n",
       "      <td>Orchard Collegiate Academy</td>\n",
       "      <td>High school</td>\n",
       "      <td>Common Core Algebra</td>\n",
       "      <td>2015</td>\n",
       "      <td>12</td>\n",
       "      <td>52.3</td>\n",
       "      <td>0.0</td>\n",
       "      <td>91.7</td>\n",
       "    </tr>\n",
       "  </tbody>\n",
       "</table>\n",
       "</div>"
      ],
      "text/plain": [
       "   School DBN                 School Name School Level           Regents Exam  \\\n",
       "32     01M292  Orchard Collegiate Academy  High school  Algebra2/Trigonometry   \n",
       "33     01M292  Orchard Collegiate Academy  High school                Chinese   \n",
       "34     01M292  Orchard Collegiate Academy  High school    Common Core Algebra   \n",
       "\n",
       "    Year  Total Tested Mean Score Percent Scoring 80 or Above  \\\n",
       "32  2015             5          s                           s   \n",
       "33  2015             1          s                           s   \n",
       "34  2015            12       52.3                         0.0   \n",
       "\n",
       "   Percent Scoring Below 65  \n",
       "32                        s  \n",
       "33                        s  \n",
       "34                     91.7  "
      ]
     },
     "execution_count": 49,
     "metadata": {},
     "output_type": "execute_result"
    }
   ],
   "source": [
    "high_school_df[:3]\n",
    "\n",
    "# \tSchool DBN\tSchool Name\tSchool Level\tRegents Exam\tYear\tTotal Tested\tMean Score\tPercent Scoring 80 or Above\tPercent Scoring Below 65\n",
    "# 32\t01M292\tOrchard Collegiate Academy\tHigh school\tAlgebra2/Trigonometry\t2015\t5\ts\ts\ts\n",
    "# 33\t01M292\tOrchard Collegiate Academy\tHigh school\tChinese\t2015\t1\ts\ts\ts\n",
    "# 34\t01M292\tOrchard Collegiate Academy\tHigh school\tCommon Core Algebra\t2015\t12\t52.3\t0.0\t91.7"
   ]
  },
  {
   "cell_type": "markdown",
   "metadata": {},
   "source": [
    "The s values look like missing data, let's replace them across our dataframe with the value `na`."
   ]
  },
  {
   "cell_type": "code",
   "execution_count": 51,
   "metadata": {},
   "outputs": [],
   "source": [
    "import numpy as np\n",
    "filled_hs = high_school_df.replace('s', np.na)"
   ]
  },
  {
   "cell_type": "code",
   "execution_count": 52,
   "metadata": {},
   "outputs": [
    {
     "data": {
      "text/html": [
       "<div>\n",
       "<style scoped>\n",
       "    .dataframe tbody tr th:only-of-type {\n",
       "        vertical-align: middle;\n",
       "    }\n",
       "\n",
       "    .dataframe tbody tr th {\n",
       "        vertical-align: top;\n",
       "    }\n",
       "\n",
       "    .dataframe thead th {\n",
       "        text-align: right;\n",
       "    }\n",
       "</style>\n",
       "<table border=\"1\" class=\"dataframe\">\n",
       "  <thead>\n",
       "    <tr style=\"text-align: right;\">\n",
       "      <th></th>\n",
       "      <th>School DBN</th>\n",
       "      <th>School Name</th>\n",
       "      <th>School Level</th>\n",
       "      <th>Regents Exam</th>\n",
       "      <th>Year</th>\n",
       "      <th>Total Tested</th>\n",
       "      <th>Mean Score</th>\n",
       "      <th>Percent Scoring 80 or Above</th>\n",
       "      <th>Percent Scoring Below 65</th>\n",
       "    </tr>\n",
       "  </thead>\n",
       "  <tbody>\n",
       "    <tr>\n",
       "      <th>32</th>\n",
       "      <td>01M292</td>\n",
       "      <td>Orchard Collegiate Academy</td>\n",
       "      <td>High school</td>\n",
       "      <td>Algebra2/Trigonometry</td>\n",
       "      <td>2015</td>\n",
       "      <td>5</td>\n",
       "      <td>NaN</td>\n",
       "      <td>NaN</td>\n",
       "      <td>NaN</td>\n",
       "    </tr>\n",
       "    <tr>\n",
       "      <th>33</th>\n",
       "      <td>01M292</td>\n",
       "      <td>Orchard Collegiate Academy</td>\n",
       "      <td>High school</td>\n",
       "      <td>Chinese</td>\n",
       "      <td>2015</td>\n",
       "      <td>1</td>\n",
       "      <td>NaN</td>\n",
       "      <td>NaN</td>\n",
       "      <td>NaN</td>\n",
       "    </tr>\n",
       "    <tr>\n",
       "      <th>34</th>\n",
       "      <td>01M292</td>\n",
       "      <td>Orchard Collegiate Academy</td>\n",
       "      <td>High school</td>\n",
       "      <td>Common Core Algebra</td>\n",
       "      <td>2015</td>\n",
       "      <td>12</td>\n",
       "      <td>52.3</td>\n",
       "      <td>0.0</td>\n",
       "      <td>91.7</td>\n",
       "    </tr>\n",
       "  </tbody>\n",
       "</table>\n",
       "</div>"
      ],
      "text/plain": [
       "   School DBN                 School Name School Level           Regents Exam  \\\n",
       "32     01M292  Orchard Collegiate Academy  High school  Algebra2/Trigonometry   \n",
       "33     01M292  Orchard Collegiate Academy  High school                Chinese   \n",
       "34     01M292  Orchard Collegiate Academy  High school    Common Core Algebra   \n",
       "\n",
       "    Year  Total Tested Mean Score Percent Scoring 80 or Above  \\\n",
       "32  2015             5        NaN                         NaN   \n",
       "33  2015             1        NaN                         NaN   \n",
       "34  2015            12       52.3                         0.0   \n",
       "\n",
       "   Percent Scoring Below 65  \n",
       "32                      NaN  \n",
       "33                      NaN  \n",
       "34                     91.7  "
      ]
     },
     "execution_count": 52,
     "metadata": {},
     "output_type": "execute_result"
    }
   ],
   "source": [
    "filled_hs_df[:3]"
   ]
  },
  {
   "cell_type": "markdown",
   "metadata": {},
   "source": [
    "Now let's see the nan values across all columns."
   ]
  },
  {
   "cell_type": "code",
   "execution_count": 54,
   "metadata": {},
   "outputs": [
    {
     "data": {
      "text/plain": [
       "School DBN                        0\n",
       "School Name                       0\n",
       "School Level                      0\n",
       "Regents Exam                      0\n",
       "Year                              0\n",
       "Total Tested                      0\n",
       "Mean Score                     2146\n",
       "Percent Scoring 80 or Above    2146\n",
       "Percent Scoring Below 65       2146\n",
       "dtype: int64"
      ]
     },
     "execution_count": 54,
     "metadata": {},
     "output_type": "execute_result"
    }
   ],
   "source": [
    "filled_hs_df.isna().sum()\n",
    "\n",
    "# School DBN                        0\n",
    "# School Name                       0\n",
    "# School Level                      0\n",
    "# Regents Exam                      0\n",
    "# Year                              0\n",
    "# Total Tested                      0\n",
    "# Mean Score                     2146\n",
    "# Percent Scoring 80 or Above    2146\n",
    "# Percent Scoring Below 65       2146\n",
    "# dtype: int64"
   ]
  },
  {
   "cell_type": "code",
   "execution_count": 55,
   "metadata": {},
   "outputs": [
    {
     "data": {
      "text/plain": [
       "(22456, 9)"
      ]
     },
     "execution_count": 55,
     "metadata": {},
     "output_type": "execute_result"
    }
   ],
   "source": [
    "filled_hs_df.shape"
   ]
  },
  {
   "cell_type": "markdown",
   "metadata": {},
   "source": [
    "It looks like 10 percent of our data is missing."
   ]
  },
  {
   "cell_type": "markdown",
   "metadata": {},
   "source": [
    "Now use numpy to remove all of the rows where the last three columns are na."
   ]
  },
  {
   "cell_type": "code",
   "execution_count": 71,
   "metadata": {},
   "outputs": [],
   "source": [
    "import numpy as np\n",
    "hs_df_non_na = filled_hs_df[~np.all(filled_hs_df.iloc[:, -3:].isna(), axis = 1)]"
   ]
  },
  {
   "cell_type": "code",
   "execution_count": 79,
   "metadata": {},
   "outputs": [
    {
     "data": {
      "text/plain": [
       "(20310, 9)"
      ]
     },
     "execution_count": 79,
     "metadata": {},
     "output_type": "execute_result"
    }
   ],
   "source": [
    "hs_df_non_na.shape\n",
    "\n",
    "# (20310, 9)"
   ]
  },
  {
   "cell_type": "markdown",
   "metadata": {},
   "source": [
    "Now let's check our datatypes."
   ]
  },
  {
   "cell_type": "code",
   "execution_count": 82,
   "metadata": {},
   "outputs": [
    {
     "data": {
      "text/plain": [
       "School DBN                     object\n",
       "School Name                    object\n",
       "School Level                   object\n",
       "Regents Exam                   object\n",
       "Year                            int64\n",
       "Total Tested                    int64\n",
       "Mean Score                     object\n",
       "Percent Scoring 80 or Above    object\n",
       "Percent Scoring Below 65       object\n",
       "dtype: object"
      ]
     },
     "execution_count": 82,
     "metadata": {},
     "output_type": "execute_result"
    }
   ],
   "source": [
    "hs_df_non_na.dtypes\n",
    "\n",
    "# School DBN                     object\n",
    "# School Name                    object\n",
    "# School Level                   object\n",
    "# Regents Exam                   object\n",
    "# Year                            int64\n",
    "# Total Tested                    int64\n",
    "# Mean Score                     object\n",
    "# Percent Scoring 80 or Above    object\n",
    "# Percent Scoring Below 65       object\n",
    "# dtype: object"
   ]
  },
  {
   "cell_type": "markdown",
   "metadata": {},
   "source": [
    "Correct them to the appropriate types."
   ]
  },
  {
   "cell_type": "code",
   "execution_count": 90,
   "metadata": {},
   "outputs": [],
   "source": [
    "coerced_cols = hs_df_non_na.iloc[:, -3:].astype(np.float_)"
   ]
  },
  {
   "cell_type": "code",
   "execution_count": 91,
   "metadata": {},
   "outputs": [
    {
     "data": {
      "text/html": [
       "<div>\n",
       "<style scoped>\n",
       "    .dataframe tbody tr th:only-of-type {\n",
       "        vertical-align: middle;\n",
       "    }\n",
       "\n",
       "    .dataframe tbody tr th {\n",
       "        vertical-align: top;\n",
       "    }\n",
       "\n",
       "    .dataframe thead th {\n",
       "        text-align: right;\n",
       "    }\n",
       "</style>\n",
       "<table border=\"1\" class=\"dataframe\">\n",
       "  <thead>\n",
       "    <tr style=\"text-align: right;\">\n",
       "      <th></th>\n",
       "      <th>Mean Score</th>\n",
       "      <th>Percent Scoring 80 or Above</th>\n",
       "      <th>Percent Scoring Below 65</th>\n",
       "    </tr>\n",
       "  </thead>\n",
       "  <tbody>\n",
       "    <tr>\n",
       "      <th>34</th>\n",
       "      <td>52.3</td>\n",
       "      <td>0.0</td>\n",
       "      <td>91.7</td>\n",
       "    </tr>\n",
       "    <tr>\n",
       "      <th>35</th>\n",
       "      <td>61.5</td>\n",
       "      <td>26.5</td>\n",
       "      <td>44.1</td>\n",
       "    </tr>\n",
       "    <tr>\n",
       "      <th>36</th>\n",
       "      <td>49.2</td>\n",
       "      <td>0.0</td>\n",
       "      <td>90.0</td>\n",
       "    </tr>\n",
       "  </tbody>\n",
       "</table>\n",
       "</div>"
      ],
      "text/plain": [
       "    Mean Score  Percent Scoring 80 or Above  Percent Scoring Below 65\n",
       "34        52.3                          0.0                      91.7\n",
       "35        61.5                         26.5                      44.1\n",
       "36        49.2                          0.0                      90.0"
      ]
     },
     "execution_count": 91,
     "metadata": {},
     "output_type": "execute_result"
    }
   ],
   "source": [
    "coerced_cols"
   ]
  },
  {
   "cell_type": "code",
   "execution_count": 95,
   "metadata": {},
   "outputs": [],
   "source": [
    "coerced_df = hs_df_non_na.iloc[:, :5].merge(coerced_cols, left_index = True, right_index = True)\n"
   ]
  },
  {
   "cell_type": "code",
   "execution_count": 97,
   "metadata": {},
   "outputs": [
    {
     "data": {
      "text/plain": [
       "School DBN                      object\n",
       "School Name                     object\n",
       "School Level                    object\n",
       "Regents Exam                    object\n",
       "Year                             int64\n",
       "Mean Score                     float64\n",
       "Percent Scoring 80 or Above    float64\n",
       "Percent Scoring Below 65       float64\n",
       "dtype: object"
      ]
     },
     "execution_count": 97,
     "metadata": {},
     "output_type": "execute_result"
    }
   ],
   "source": [
    "coerced_df.dtypes\n",
    "\n",
    "# School DBN                      object\n",
    "# School Name                     object\n",
    "# School Level                    object\n",
    "# Regents Exam                    object\n",
    "# Year                             int64\n",
    "# Mean Score                     float64\n",
    "# Percent Scoring 80 or Above    float64\n",
    "# Percent Scoring Below 65       float64\n",
    "# dtype: object"
   ]
  },
  {
   "cell_type": "markdown",
   "metadata": {},
   "source": [
    "### Using Pivot Tables"
   ]
  },
  {
   "cell_type": "markdown",
   "metadata": {},
   "source": [
    "Ok, now let's see if we can use pivot tables to query some of our data."
   ]
  },
  {
   "cell_type": "code",
   "execution_count": 98,
   "metadata": {},
   "outputs": [
    {
     "data": {
      "text/html": [
       "<div>\n",
       "<style scoped>\n",
       "    .dataframe tbody tr th:only-of-type {\n",
       "        vertical-align: middle;\n",
       "    }\n",
       "\n",
       "    .dataframe tbody tr th {\n",
       "        vertical-align: top;\n",
       "    }\n",
       "\n",
       "    .dataframe thead th {\n",
       "        text-align: right;\n",
       "    }\n",
       "</style>\n",
       "<table border=\"1\" class=\"dataframe\">\n",
       "  <thead>\n",
       "    <tr style=\"text-align: right;\">\n",
       "      <th></th>\n",
       "      <th>School DBN</th>\n",
       "      <th>School Name</th>\n",
       "      <th>School Level</th>\n",
       "      <th>Regents Exam</th>\n",
       "      <th>Year</th>\n",
       "      <th>Total Tested</th>\n",
       "      <th>Mean Score</th>\n",
       "      <th>Percent Scoring 80 or Above</th>\n",
       "      <th>Percent Scoring Below 65</th>\n",
       "    </tr>\n",
       "  </thead>\n",
       "  <tbody>\n",
       "    <tr>\n",
       "      <th>34</th>\n",
       "      <td>01M292</td>\n",
       "      <td>Orchard Collegiate Academy</td>\n",
       "      <td>High school</td>\n",
       "      <td>Common Core Algebra</td>\n",
       "      <td>2015</td>\n",
       "      <td>12</td>\n",
       "      <td>52.3</td>\n",
       "      <td>0.0</td>\n",
       "      <td>91.7</td>\n",
       "    </tr>\n",
       "    <tr>\n",
       "      <th>35</th>\n",
       "      <td>01M292</td>\n",
       "      <td>Orchard Collegiate Academy</td>\n",
       "      <td>High school</td>\n",
       "      <td>Common Core English</td>\n",
       "      <td>2015</td>\n",
       "      <td>34</td>\n",
       "      <td>61.5</td>\n",
       "      <td>26.5</td>\n",
       "      <td>44.1</td>\n",
       "    </tr>\n",
       "    <tr>\n",
       "      <th>36</th>\n",
       "      <td>01M292</td>\n",
       "      <td>Orchard Collegiate Academy</td>\n",
       "      <td>High school</td>\n",
       "      <td>Common Core Geometry</td>\n",
       "      <td>2015</td>\n",
       "      <td>10</td>\n",
       "      <td>49.2</td>\n",
       "      <td>0.0</td>\n",
       "      <td>90.0</td>\n",
       "    </tr>\n",
       "  </tbody>\n",
       "</table>\n",
       "</div>"
      ],
      "text/plain": [
       "   School DBN                 School Name School Level          Regents Exam  \\\n",
       "34     01M292  Orchard Collegiate Academy  High school   Common Core Algebra   \n",
       "35     01M292  Orchard Collegiate Academy  High school   Common Core English   \n",
       "36     01M292  Orchard Collegiate Academy  High school  Common Core Geometry   \n",
       "\n",
       "    Year  Total Tested Mean Score Percent Scoring 80 or Above  \\\n",
       "34  2015            12       52.3                         0.0   \n",
       "35  2015            34       61.5                        26.5   \n",
       "36  2015            10       49.2                         0.0   \n",
       "\n",
       "   Percent Scoring Below 65  \n",
       "34                     91.7  \n",
       "35                     44.1  \n",
       "36                     90.0  "
      ]
     },
     "execution_count": 98,
     "metadata": {},
     "output_type": "execute_result"
    }
   ],
   "source": [
    "hs_df_non_na[:3]"
   ]
  },
  {
   "cell_type": "markdown",
   "metadata": {},
   "source": [
    "Let's start by having a pivot table that displays total mean score, averaged across tests, per school, per year."
   ]
  },
  {
   "cell_type": "code",
   "execution_count": null,
   "metadata": {},
   "outputs": [],
   "source": [
    "df_pivot = pd.pivot_table(df[df['year'] > 2010], index=[\"year\"], columns=[\"genre\"], \n",
    "               values=[\"revenue\"], aggfunc=np.mean)"
   ]
  },
  {
   "cell_type": "code",
   "execution_count": 102,
   "metadata": {},
   "outputs": [],
   "source": [
    "pivoted_mean_by_year = pd.pivot_table(coerced_df, values = ['Mean Score'], \n",
    "               index = ['Year'], \n",
    "               columns = ['School Name'],\n",
    "               aggfunc=np.mean)"
   ]
  },
  {
   "cell_type": "code",
   "execution_count": 105,
   "metadata": {},
   "outputs": [
    {
     "data": {
      "text/html": [
       "<div>\n",
       "<style scoped>\n",
       "    .dataframe tbody tr th:only-of-type {\n",
       "        vertical-align: middle;\n",
       "    }\n",
       "\n",
       "    .dataframe tbody tr th {\n",
       "        vertical-align: top;\n",
       "    }\n",
       "\n",
       "    .dataframe thead tr th {\n",
       "        text-align: left;\n",
       "    }\n",
       "\n",
       "    .dataframe thead tr:last-of-type th {\n",
       "        text-align: right;\n",
       "    }\n",
       "</style>\n",
       "<table border=\"1\" class=\"dataframe\">\n",
       "  <thead>\n",
       "    <tr>\n",
       "      <th></th>\n",
       "      <th colspan=\"21\" halign=\"left\">Mean Score</th>\n",
       "    </tr>\n",
       "    <tr>\n",
       "      <th>School Name</th>\n",
       "      <th>47 The American Sign Language and English Secondar</th>\n",
       "      <th>A. Philip Randolph Campus High School</th>\n",
       "      <th>ACORN Community High School</th>\n",
       "      <th>Abraham Lincoln High School</th>\n",
       "      <th>Abraham Lincoln Yabc</th>\n",
       "      <th>Academy for Careers in Television and Film</th>\n",
       "      <th>Academy for Conservation and the Environment</th>\n",
       "      <th>Academy for Environmental Leadership</th>\n",
       "      <th>Academy for Health Careers</th>\n",
       "      <th>Academy for Language and Technology</th>\n",
       "      <th>...</th>\n",
       "      <th>Westchester Square Academy</th>\n",
       "      <th>William Cullen Bryant High School</th>\n",
       "      <th>William E. Grady Career and Technical Education Hi</th>\n",
       "      <th>Williamsburg Charter High School</th>\n",
       "      <th>Williamsburg High School for Architecture and Desi</th>\n",
       "      <th>Williamsburg Preparatory School</th>\n",
       "      <th>Wings Academy</th>\n",
       "      <th>Women's Academy of Excellence</th>\n",
       "      <th>World Academy for Total Community Health High Scho</th>\n",
       "      <th>World View High School</th>\n",
       "    </tr>\n",
       "    <tr>\n",
       "      <th>Year</th>\n",
       "      <th></th>\n",
       "      <th></th>\n",
       "      <th></th>\n",
       "      <th></th>\n",
       "      <th></th>\n",
       "      <th></th>\n",
       "      <th></th>\n",
       "      <th></th>\n",
       "      <th></th>\n",
       "      <th></th>\n",
       "      <th></th>\n",
       "      <th></th>\n",
       "      <th></th>\n",
       "      <th></th>\n",
       "      <th></th>\n",
       "      <th></th>\n",
       "      <th></th>\n",
       "      <th></th>\n",
       "      <th></th>\n",
       "      <th></th>\n",
       "      <th></th>\n",
       "    </tr>\n",
       "  </thead>\n",
       "  <tbody>\n",
       "    <tr>\n",
       "      <th>2015</th>\n",
       "      <td>58.850000</td>\n",
       "      <td>68.207143</td>\n",
       "      <td>60.961538</td>\n",
       "      <td>62.292857</td>\n",
       "      <td>58.050000</td>\n",
       "      <td>67.600000</td>\n",
       "      <td>57.700000</td>\n",
       "      <td>59.5000</td>\n",
       "      <td>64.488889</td>\n",
       "      <td>66.191667</td>\n",
       "      <td>...</td>\n",
       "      <td>66.276923</td>\n",
       "      <td>71.975000</td>\n",
       "      <td>57.909091</td>\n",
       "      <td>61.807692</td>\n",
       "      <td>68.054545</td>\n",
       "      <td>69.978571</td>\n",
       "      <td>58.569231</td>\n",
       "      <td>65.236364</td>\n",
       "      <td>64.975000</td>\n",
       "      <td>64.000000</td>\n",
       "    </tr>\n",
       "    <tr>\n",
       "      <th>2016</th>\n",
       "      <td>56.866667</td>\n",
       "      <td>66.456250</td>\n",
       "      <td>60.445455</td>\n",
       "      <td>63.086667</td>\n",
       "      <td>58.857143</td>\n",
       "      <td>68.381818</td>\n",
       "      <td>55.258333</td>\n",
       "      <td>57.4900</td>\n",
       "      <td>60.660000</td>\n",
       "      <td>62.709091</td>\n",
       "      <td>...</td>\n",
       "      <td>65.986667</td>\n",
       "      <td>67.831250</td>\n",
       "      <td>59.118182</td>\n",
       "      <td>60.800000</td>\n",
       "      <td>68.840000</td>\n",
       "      <td>69.875000</td>\n",
       "      <td>58.100000</td>\n",
       "      <td>62.578571</td>\n",
       "      <td>62.054545</td>\n",
       "      <td>62.600000</td>\n",
       "    </tr>\n",
       "    <tr>\n",
       "      <th>2017</th>\n",
       "      <td>63.333333</td>\n",
       "      <td>67.023077</td>\n",
       "      <td>60.762500</td>\n",
       "      <td>65.690909</td>\n",
       "      <td>59.080000</td>\n",
       "      <td>68.745455</td>\n",
       "      <td>59.425000</td>\n",
       "      <td>60.7875</td>\n",
       "      <td>63.785714</td>\n",
       "      <td>61.130000</td>\n",
       "      <td>...</td>\n",
       "      <td>65.363636</td>\n",
       "      <td>67.345455</td>\n",
       "      <td>55.411111</td>\n",
       "      <td>59.318182</td>\n",
       "      <td>65.370000</td>\n",
       "      <td>69.427273</td>\n",
       "      <td>59.962500</td>\n",
       "      <td>64.787500</td>\n",
       "      <td>63.377778</td>\n",
       "      <td>62.055556</td>\n",
       "    </tr>\n",
       "  </tbody>\n",
       "</table>\n",
       "<p>3 rows × 459 columns</p>\n",
       "</div>"
      ],
      "text/plain": [
       "                                                    Mean Score  \\\n",
       "School Name 47 The American Sign Language and English Secondar   \n",
       "Year                                                             \n",
       "2015                                                 58.850000   \n",
       "2016                                                 56.866667   \n",
       "2017                                                 63.333333   \n",
       "\n",
       "                                                                               \\\n",
       "School Name A. Philip Randolph Campus High School ACORN Community High School   \n",
       "Year                                                                            \n",
       "2015                                    68.207143                   60.961538   \n",
       "2016                                    66.456250                   60.445455   \n",
       "2017                                    67.023077                   60.762500   \n",
       "\n",
       "                                                              \\\n",
       "School Name Abraham Lincoln High School Abraham Lincoln Yabc   \n",
       "Year                                                           \n",
       "2015                          62.292857            58.050000   \n",
       "2016                          63.086667            58.857143   \n",
       "2017                          65.690909            59.080000   \n",
       "\n",
       "                                                        \\\n",
       "School Name Academy for Careers in Television and Film   \n",
       "Year                                                     \n",
       "2015                                         67.600000   \n",
       "2016                                         68.381818   \n",
       "2017                                         68.745455   \n",
       "\n",
       "                                                          \\\n",
       "School Name Academy for Conservation and the Environment   \n",
       "Year                                                       \n",
       "2015                                           57.700000   \n",
       "2016                                           55.258333   \n",
       "2017                                           59.425000   \n",
       "\n",
       "                                                                             \\\n",
       "School Name Academy for Environmental Leadership Academy for Health Careers   \n",
       "Year                                                                          \n",
       "2015                                     59.5000                  64.488889   \n",
       "2016                                     57.4900                  60.660000   \n",
       "2017                                     60.7875                  63.785714   \n",
       "\n",
       "                                                 ...  \\\n",
       "School Name Academy for Language and Technology  ...   \n",
       "Year                                             ...   \n",
       "2015                                  66.191667  ...   \n",
       "2016                                  62.709091  ...   \n",
       "2017                                  61.130000  ...   \n",
       "\n",
       "                                                                          \\\n",
       "School Name Westchester Square Academy William Cullen Bryant High School   \n",
       "Year                                                                       \n",
       "2015                         66.276923                         71.975000   \n",
       "2016                         65.986667                         67.831250   \n",
       "2017                         65.363636                         67.345455   \n",
       "\n",
       "                                                                \\\n",
       "School Name William E. Grady Career and Technical Education Hi   \n",
       "Year                                                             \n",
       "2015                                                 57.909091   \n",
       "2016                                                 59.118182   \n",
       "2017                                                 55.411111   \n",
       "\n",
       "                                              \\\n",
       "School Name Williamsburg Charter High School   \n",
       "Year                                           \n",
       "2015                               61.807692   \n",
       "2016                               60.800000   \n",
       "2017                               59.318182   \n",
       "\n",
       "                                                                \\\n",
       "School Name Williamsburg High School for Architecture and Desi   \n",
       "Year                                                             \n",
       "2015                                                 68.054545   \n",
       "2016                                                 68.840000   \n",
       "2017                                                 65.370000   \n",
       "\n",
       "                                                           \\\n",
       "School Name Williamsburg Preparatory School Wings Academy   \n",
       "Year                                                        \n",
       "2015                              69.978571     58.569231   \n",
       "2016                              69.875000     58.100000   \n",
       "2017                              69.427273     59.962500   \n",
       "\n",
       "                                           \\\n",
       "School Name Women's Academy of Excellence   \n",
       "Year                                        \n",
       "2015                            65.236364   \n",
       "2016                            62.578571   \n",
       "2017                            64.787500   \n",
       "\n",
       "                                                                \\\n",
       "School Name World Academy for Total Community Health High Scho   \n",
       "Year                                                             \n",
       "2015                                                 64.975000   \n",
       "2016                                                 62.054545   \n",
       "2017                                                 63.377778   \n",
       "\n",
       "                                    \n",
       "School Name World View High School  \n",
       "Year                                \n",
       "2015                     64.000000  \n",
       "2016                     62.600000  \n",
       "2017                     62.055556  \n",
       "\n",
       "[3 rows x 459 columns]"
      ]
     },
     "execution_count": 105,
     "metadata": {},
     "output_type": "execute_result"
    }
   ],
   "source": [
    "pivoted_mean_by_year[:3]\n",
    "# \tMean Score\n",
    "# School Name\t47 The American Sign Language and English Secondar\tA. Philip Randolph Campus High School\tACORN Community High School\tAbraham Lincoln High School\tAbraham Lincoln Yabc\tAcademy for Careers in Television and Film\tAcademy for Conservation and the Environment\tAcademy for Environmental Leadership\tAcademy for Health Careers\tAcademy for Language and Technology\t...\tWestchester Square Academy\tWilliam Cullen Bryant High School\tWilliam E. Grady Career and Technical Education Hi\tWilliamsburg Charter High School\tWilliamsburg High School for Architecture and Desi\tWilliamsburg Preparatory School\tWings Academy\tWomen's Academy of Excellence\tWorld Academy for Total Community Health High Scho\tWorld View High School\n",
    "# Year\t\t\t\t\t\t\t\t\t\t\t\t\t\t\t\t\t\t\t\t\t\n",
    "# 2015\t58.850000\t68.207143\t60.961538\t62.292857\t58.050000\t67.600000\t57.700000\t59.500000\t64.488889\t66.191667\t...\t66.276923\t71.975000\t57.909091\t61.807692\t68.054545\t69.978571\t58.569231\t65.236364\t64.975000\t64.000000\n",
    "# 2016\t56.866667\t66.456250\t60.445455\t63.086667\t58.857143\t68.381818\t55.258333\t57.490000\t60.660000\t62.709091\t...\t65.986667\t67.831250\t59.118182\t60.800000\t68.840000\t69.875000\t58.100000\t62.578571\t62.054545\t62.600000\n",
    "# 2017\t63.333333\t67.023077\t60.762500\t65.690909\t59.080000\t68.745455"
   ]
  },
  {
   "cell_type": "markdown",
   "metadata": {},
   "source": [
    "Now let's use the `pivot_table` function to present this in the other direction.  Change the index to be the school name and the column to be the years."
   ]
  },
  {
   "cell_type": "code",
   "execution_count": 106,
   "metadata": {},
   "outputs": [],
   "source": [
    "pivoted_mean_by_school = pd.pivot_table(coerced_df, values = ['Mean Score'], \n",
    "               index = ['School Name'], \n",
    "               columns = ['Year'],\n",
    "               aggfunc=np.mean)"
   ]
  },
  {
   "cell_type": "code",
   "execution_count": 108,
   "metadata": {},
   "outputs": [
    {
     "data": {
      "text/html": [
       "<div>\n",
       "<style scoped>\n",
       "    .dataframe tbody tr th:only-of-type {\n",
       "        vertical-align: middle;\n",
       "    }\n",
       "\n",
       "    .dataframe tbody tr th {\n",
       "        vertical-align: top;\n",
       "    }\n",
       "\n",
       "    .dataframe thead tr th {\n",
       "        text-align: left;\n",
       "    }\n",
       "\n",
       "    .dataframe thead tr:last-of-type th {\n",
       "        text-align: right;\n",
       "    }\n",
       "</style>\n",
       "<table border=\"1\" class=\"dataframe\">\n",
       "  <thead>\n",
       "    <tr>\n",
       "      <th></th>\n",
       "      <th colspan=\"5\" halign=\"left\">Mean Score</th>\n",
       "    </tr>\n",
       "    <tr>\n",
       "      <th>Year</th>\n",
       "      <th>2015</th>\n",
       "      <th>2016</th>\n",
       "      <th>2017</th>\n",
       "      <th>2018</th>\n",
       "      <th>2019</th>\n",
       "    </tr>\n",
       "    <tr>\n",
       "      <th>School Name</th>\n",
       "      <th></th>\n",
       "      <th></th>\n",
       "      <th></th>\n",
       "      <th></th>\n",
       "      <th></th>\n",
       "    </tr>\n",
       "  </thead>\n",
       "  <tbody>\n",
       "    <tr>\n",
       "      <th>47 The American Sign Language and English Secondar</th>\n",
       "      <td>58.850000</td>\n",
       "      <td>56.866667</td>\n",
       "      <td>63.333333</td>\n",
       "      <td>65.550000</td>\n",
       "      <td>64.500000</td>\n",
       "    </tr>\n",
       "    <tr>\n",
       "      <th>A. Philip Randolph Campus High School</th>\n",
       "      <td>68.207143</td>\n",
       "      <td>66.456250</td>\n",
       "      <td>67.023077</td>\n",
       "      <td>69.208333</td>\n",
       "      <td>67.841667</td>\n",
       "    </tr>\n",
       "    <tr>\n",
       "      <th>ACORN Community High School</th>\n",
       "      <td>60.961538</td>\n",
       "      <td>60.445455</td>\n",
       "      <td>60.762500</td>\n",
       "      <td>55.544444</td>\n",
       "      <td>56.985714</td>\n",
       "    </tr>\n",
       "  </tbody>\n",
       "</table>\n",
       "</div>"
      ],
      "text/plain": [
       "                                                   Mean Score             \\\n",
       "Year                                                     2015       2016   \n",
       "School Name                                                                \n",
       "47 The American Sign Language and English Secondar  58.850000  56.866667   \n",
       "A. Philip Randolph Campus High School               68.207143  66.456250   \n",
       "ACORN Community High School                         60.961538  60.445455   \n",
       "\n",
       "                                                                          \\\n",
       "Year                                                     2017       2018   \n",
       "School Name                                                                \n",
       "47 The American Sign Language and English Secondar  63.333333  65.550000   \n",
       "A. Philip Randolph Campus High School               67.023077  69.208333   \n",
       "ACORN Community High School                         60.762500  55.544444   \n",
       "\n",
       "                                                               \n",
       "Year                                                     2019  \n",
       "School Name                                                    \n",
       "47 The American Sign Language and English Secondar  64.500000  \n",
       "A. Philip Randolph Campus High School               67.841667  \n",
       "ACORN Community High School                         56.985714  "
      ]
     },
     "execution_count": 108,
     "metadata": {},
     "output_type": "execute_result"
    }
   ],
   "source": [
    "pivoted_mean_by_school[:3]"
   ]
  },
  {
   "cell_type": "markdown",
   "metadata": {},
   "source": [
    "Ok, let's sort this dataframe by the top mean scores for 2019."
   ]
  },
  {
   "cell_type": "markdown",
   "metadata": {},
   "source": [
    "[To see how, look here.](https://stackoverflow.com/questions/41119623/pandas-pivot-table-sort-values-by-columns)"
   ]
  },
  {
   "cell_type": "code",
   "execution_count": 113,
   "metadata": {},
   "outputs": [],
   "source": [
    "df = None"
   ]
  },
  {
   "cell_type": "markdown",
   "metadata": {},
   "source": [
    "> `df = df_pivot.reindex(df_pivot['Value'].sort_values(by=2012, ascending=False).index)`"
   ]
  },
  {
   "cell_type": "code",
   "execution_count": 115,
   "metadata": {},
   "outputs": [
    {
     "data": {
      "text/html": [
       "<div>\n",
       "<style scoped>\n",
       "    .dataframe tbody tr th:only-of-type {\n",
       "        vertical-align: middle;\n",
       "    }\n",
       "\n",
       "    .dataframe tbody tr th {\n",
       "        vertical-align: top;\n",
       "    }\n",
       "\n",
       "    .dataframe thead tr th {\n",
       "        text-align: left;\n",
       "    }\n",
       "\n",
       "    .dataframe thead tr:last-of-type th {\n",
       "        text-align: right;\n",
       "    }\n",
       "</style>\n",
       "<table border=\"1\" class=\"dataframe\">\n",
       "  <thead>\n",
       "    <tr>\n",
       "      <th></th>\n",
       "      <th colspan=\"5\" halign=\"left\">Mean Score</th>\n",
       "    </tr>\n",
       "    <tr>\n",
       "      <th>Year</th>\n",
       "      <th>2015</th>\n",
       "      <th>2016</th>\n",
       "      <th>2017</th>\n",
       "      <th>2018</th>\n",
       "      <th>2019</th>\n",
       "    </tr>\n",
       "    <tr>\n",
       "      <th>School Name</th>\n",
       "      <th></th>\n",
       "      <th></th>\n",
       "      <th></th>\n",
       "      <th></th>\n",
       "      <th></th>\n",
       "    </tr>\n",
       "  </thead>\n",
       "  <tbody>\n",
       "    <tr>\n",
       "      <th>Stuyvesant High School</th>\n",
       "      <td>92.186667</td>\n",
       "      <td>90.378571</td>\n",
       "      <td>90.707692</td>\n",
       "      <td>92.508333</td>\n",
       "      <td>93.166667</td>\n",
       "    </tr>\n",
       "    <tr>\n",
       "      <th>The Bronx High School of Science</th>\n",
       "      <td>91.613333</td>\n",
       "      <td>90.285714</td>\n",
       "      <td>90.292308</td>\n",
       "      <td>91.400000</td>\n",
       "      <td>91.753846</td>\n",
       "    </tr>\n",
       "    <tr>\n",
       "      <th>Townsend Harris High School</th>\n",
       "      <td>91.192857</td>\n",
       "      <td>90.391667</td>\n",
       "      <td>88.966667</td>\n",
       "      <td>91.945455</td>\n",
       "      <td>91.145455</td>\n",
       "    </tr>\n",
       "    <tr>\n",
       "      <th>High School for Mathematics, Science and Engineeri</th>\n",
       "      <td>86.881818</td>\n",
       "      <td>86.236364</td>\n",
       "      <td>88.010000</td>\n",
       "      <td>89.070000</td>\n",
       "      <td>90.670000</td>\n",
       "    </tr>\n",
       "    <tr>\n",
       "      <th>High School of American Studies at Lehman College</th>\n",
       "      <td>88.516667</td>\n",
       "      <td>88.691667</td>\n",
       "      <td>90.145455</td>\n",
       "      <td>90.260000</td>\n",
       "      <td>90.290000</td>\n",
       "    </tr>\n",
       "    <tr>\n",
       "      <th>Queens High School for the Sciences at York Colleg</th>\n",
       "      <td>88.208333</td>\n",
       "      <td>88.625000</td>\n",
       "      <td>89.436364</td>\n",
       "      <td>91.109091</td>\n",
       "      <td>90.181818</td>\n",
       "    </tr>\n",
       "    <tr>\n",
       "      <th>Staten Island Technical High School</th>\n",
       "      <td>89.810000</td>\n",
       "      <td>87.910000</td>\n",
       "      <td>89.411111</td>\n",
       "      <td>89.511111</td>\n",
       "      <td>89.244444</td>\n",
       "    </tr>\n",
       "    <tr>\n",
       "      <th>Brooklyn Technical High School</th>\n",
       "      <td>87.668750</td>\n",
       "      <td>85.575000</td>\n",
       "      <td>84.314286</td>\n",
       "      <td>87.623077</td>\n",
       "      <td>88.630769</td>\n",
       "    </tr>\n",
       "    <tr>\n",
       "      <th>Eleanor Roosevelt High School</th>\n",
       "      <td>87.100000</td>\n",
       "      <td>85.225000</td>\n",
       "      <td>85.963636</td>\n",
       "      <td>87.781818</td>\n",
       "      <td>87.781818</td>\n",
       "    </tr>\n",
       "    <tr>\n",
       "      <th>Millennium High School</th>\n",
       "      <td>80.357143</td>\n",
       "      <td>82.575000</td>\n",
       "      <td>84.133333</td>\n",
       "      <td>86.470000</td>\n",
       "      <td>87.680000</td>\n",
       "    </tr>\n",
       "  </tbody>\n",
       "</table>\n",
       "</div>"
      ],
      "text/plain": [
       "                                                   Mean Score             \\\n",
       "Year                                                     2015       2016   \n",
       "School Name                                                                \n",
       "Stuyvesant High School                              92.186667  90.378571   \n",
       "The Bronx High School of Science                    91.613333  90.285714   \n",
       "Townsend Harris High School                         91.192857  90.391667   \n",
       "High School for Mathematics, Science and Engineeri  86.881818  86.236364   \n",
       "High School of American Studies at Lehman College   88.516667  88.691667   \n",
       "Queens High School for the Sciences at York Colleg  88.208333  88.625000   \n",
       "Staten Island Technical High School                 89.810000  87.910000   \n",
       "Brooklyn Technical High School                      87.668750  85.575000   \n",
       "Eleanor Roosevelt High School                       87.100000  85.225000   \n",
       "Millennium High School                              80.357143  82.575000   \n",
       "\n",
       "                                                                          \\\n",
       "Year                                                     2017       2018   \n",
       "School Name                                                                \n",
       "Stuyvesant High School                              90.707692  92.508333   \n",
       "The Bronx High School of Science                    90.292308  91.400000   \n",
       "Townsend Harris High School                         88.966667  91.945455   \n",
       "High School for Mathematics, Science and Engineeri  88.010000  89.070000   \n",
       "High School of American Studies at Lehman College   90.145455  90.260000   \n",
       "Queens High School for the Sciences at York Colleg  89.436364  91.109091   \n",
       "Staten Island Technical High School                 89.411111  89.511111   \n",
       "Brooklyn Technical High School                      84.314286  87.623077   \n",
       "Eleanor Roosevelt High School                       85.963636  87.781818   \n",
       "Millennium High School                              84.133333  86.470000   \n",
       "\n",
       "                                                               \n",
       "Year                                                     2019  \n",
       "School Name                                                    \n",
       "Stuyvesant High School                              93.166667  \n",
       "The Bronx High School of Science                    91.753846  \n",
       "Townsend Harris High School                         91.145455  \n",
       "High School for Mathematics, Science and Engineeri  90.670000  \n",
       "High School of American Studies at Lehman College   90.290000  \n",
       "Queens High School for the Sciences at York Colleg  90.181818  \n",
       "Staten Island Technical High School                 89.244444  \n",
       "Brooklyn Technical High School                      88.630769  \n",
       "Eleanor Roosevelt High School                       87.781818  \n",
       "Millennium High School                              87.680000  "
      ]
     },
     "execution_count": 115,
     "metadata": {},
     "output_type": "execute_result"
    }
   ],
   "source": [
    "df[:10]"
   ]
  },
  {
   "cell_type": "markdown",
   "metadata": {},
   "source": [
    "Seems right :)"
   ]
  },
  {
   "cell_type": "markdown",
   "metadata": {},
   "source": [
    "Let's select the top three, and then  plot the changes in the scores over time.  \n",
    "\n",
    "> We may need to transpose the plot to get it to look how we like."
   ]
  },
  {
   "cell_type": "code",
   "execution_count": 122,
   "metadata": {},
   "outputs": [
    {
     "data": {
      "image/png": "[encoded data removed]",
      "text/plain": [
       "<Figure size 864x432 with 1 Axes>"
      ]
     },
     "metadata": {
      "needs_background": "light"
     },
     "output_type": "display_data"
    }
   ],
   "source": [
    "import matplotlib.pyplot as plt\n",
    "ax = df[:3].T.plot()\n",
    "fig = plt.gcf()\n",
    "fig.set_size_inches(12, 6)"
   ]
  },
  {
   "cell_type": "markdown",
   "metadata": {},
   "source": [
    "Now see if you can use a pivot table to get a count of all of the students taking a regents exam per school, and produce a similar plot like we did for the average scores above."
   ]
  },
  {
   "cell_type": "code",
   "execution_count": null,
   "metadata": {},
   "outputs": [],
   "source": []
  }
 ],
 "metadata": {
  "kernelspec": {
   "display_name": "Python 3",
   "language": "python",
   "name": "python3"
  },
  "language_info": {
   "codemirror_mode": {
    "name": "ipython",
    "version": 3
   },
   "file_extension": ".py",
   "mimetype": "text/x-python",
   "name": "python",
   "nbconvert_exporter": "python",
   "pygments_lexer": "ipython3",
   "version": "3.8.3"
  }
 },
 "nbformat": 4,
 "nbformat_minor": 4
}
