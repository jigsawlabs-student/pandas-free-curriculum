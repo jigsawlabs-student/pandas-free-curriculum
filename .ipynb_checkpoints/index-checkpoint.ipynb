{
 "cells": [
  {
   "cell_type": "code",
   "execution_count": 16,
   "metadata": {},
   "outputs": [],
   "source": [
    "import requests\n",
    "\n",
    "url = \"https://www.fema.gov/api/open/v1/FimaNfipClaims?$filter=reportedCity%20eq%20%27HOUSTON%27%20&%20$orderBy=yearofLoss&$top=3\"\n",
    "response = requests.get(url)"
   ]
  },
  {
   "cell_type": "code",
   "execution_count": 19,
   "metadata": {},
   "outputs": [],
   "source": [
    "claims = response.json()['FimaNfipClaims']"
   ]
  },
  {
   "cell_type": "code",
   "execution_count": 21,
   "metadata": {},
   "outputs": [
    {
     "data": {
      "text/plain": [
       "dict_keys(['agricultureStructureIndicator', 'asOfDate', 'baseFloodElevation', 'basementEnclosureCrawlspace', 'reportedCity', 'condominiumIndicator', 'policyCount', 'countyCode', 'communityRatingSystemDiscount', 'dateOfLoss', 'elevatedBuildingIndicator', 'elevationCertificateIndicator', 'elevationDifference', 'censusTract', 'floodZone', 'houseWorship', 'latitude', 'longitude', 'locationOfContents', 'lowestAdjacentGrade', 'lowestFloodElevation', 'numberOfFloorsInTheInsuredBuilding', 'nonProfitIndicator', 'obstructionType', 'occupancyType', 'originalConstructionDate', 'originalNBDate', 'amountPaidOnBuildingClaim', 'amountPaidOnContentsClaim', 'amountPaidOnIncreasedCostOfComplianceClaim', 'postFIRMConstructionIndicator', 'rateMethod', 'smallBusinessIndicatorBuilding', 'state', 'totalBuildingInsuranceCoverage', 'totalContentsInsuranceCoverage', 'yearofLoss', 'reportedZipcode', 'primaryResidence', 'id'])"
      ]
     },
     "execution_count": 21,
     "metadata": {},
     "output_type": "execute_result"
    }
   ],
   "source": [
    "claims[0].keys()"
   ]
  },
  {
   "cell_type": "code",
   "execution_count": null,
   "metadata": {},
   "outputs": [],
   "source": []
  }
 ],
 "metadata": {
  "kernelspec": {
   "display_name": "Python 3",
   "language": "python",
   "name": "python3"
  },
  "language_info": {
   "codemirror_mode": {
    "name": "ipython",
    "version": 3
   },
   "file_extension": ".py",
   "mimetype": "text/x-python",
   "name": "python",
   "nbconvert_exporter": "python",
   "pygments_lexer": "ipython3",
   "version": "3.8.3"
  }
 },
 "nbformat": 4,
 "nbformat_minor": 4
}
