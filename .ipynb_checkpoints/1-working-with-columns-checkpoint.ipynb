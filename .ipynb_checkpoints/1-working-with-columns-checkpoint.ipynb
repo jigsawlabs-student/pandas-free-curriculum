{
 "cells": [
  {
   "cell_type": "markdown",
   "metadata": {},
   "source": [
    "# Working with columns"
   ]
  },
  {
   "cell_type": "markdown",
   "metadata": {},
   "source": [
    "### Introduction"
   ]
  },
  {
   "cell_type": "markdown",
   "metadata": {},
   "source": [
    "In the last lesson, we learned about selecting loading in data with a pandas dataframe, and learning about the datatypes of dataframe, series, and index.  In this lesson, we'll dig further into selecting *columns* -- after all this is a lot of what we'll do in pandas.  \n",
    "\n",
    "For example, there are many columns that we simply don't need, and then there are other columns that we may want to explore more closely.  Ok, let's see this."
   ]
  },
  {
   "cell_type": "markdown",
   "metadata": {},
   "source": [
    "### Exploring Columns"
   ]
  },
  {
   "cell_type": "markdown",
   "metadata": {},
   "source": [
    "We'll start by loading up our data once again."
   ]
  },
  {
   "cell_type": "code",
   "execution_count": 3,
   "metadata": {},
   "outputs": [
    {
     "data": {
      "text/html": [
       "<div>\n",
       "<style scoped>\n",
       "    .dataframe tbody tr th:only-of-type {\n",
       "        vertical-align: middle;\n",
       "    }\n",
       "\n",
       "    .dataframe tbody tr th {\n",
       "        vertical-align: top;\n",
       "    }\n",
       "\n",
       "    .dataframe thead th {\n",
       "        text-align: right;\n",
       "    }\n",
       "</style>\n",
       "<table border=\"1\" class=\"dataframe\">\n",
       "  <thead>\n",
       "    <tr style=\"text-align: right;\">\n",
       "      <th></th>\n",
       "      <th>reportedCity</th>\n",
       "      <th>dateOfLoss</th>\n",
       "      <th>elevatedBuildingIndicator</th>\n",
       "      <th>floodZone</th>\n",
       "      <th>latitude</th>\n",
       "      <th>longitude</th>\n",
       "      <th>lowestFloodElevation</th>\n",
       "      <th>amountPaidOnBuildingClaim</th>\n",
       "      <th>amountPaidOnContentsClaim</th>\n",
       "      <th>yearofLoss</th>\n",
       "      <th>reportedZipcode</th>\n",
       "      <th>id</th>\n",
       "    </tr>\n",
       "  </thead>\n",
       "  <tbody>\n",
       "    <tr>\n",
       "      <th>0</th>\n",
       "      <td>HOUSTON</td>\n",
       "      <td>2017-08-27T00:00:00.000Z</td>\n",
       "      <td>False</td>\n",
       "      <td>X</td>\n",
       "      <td>29.7</td>\n",
       "      <td>-95.5</td>\n",
       "      <td>NaN</td>\n",
       "      <td>195857.43</td>\n",
       "      <td>0.0</td>\n",
       "      <td>2017-01-01T00:00:00.000Z</td>\n",
       "      <td>77096</td>\n",
       "      <td>5e398d6774cbd479fc898dea</td>\n",
       "    </tr>\n",
       "  </tbody>\n",
       "</table>\n",
       "</div>"
      ],
      "text/plain": [
       "  reportedCity                dateOfLoss elevatedBuildingIndicator floodZone  \\\n",
       "0      HOUSTON  2017-08-27T00:00:00.000Z                     False         X   \n",
       "\n",
       "   latitude  longitude  lowestFloodElevation  amountPaidOnBuildingClaim  \\\n",
       "0      29.7      -95.5                   NaN                  195857.43   \n",
       "\n",
       "   amountPaidOnContentsClaim                yearofLoss  reportedZipcode  \\\n",
       "0                        0.0  2017-01-01T00:00:00.000Z            77096   \n",
       "\n",
       "                         id  \n",
       "0  5e398d6774cbd479fc898dea  "
      ]
     },
     "execution_count": 3,
     "metadata": {},
     "output_type": "execute_result"
    }
   ],
   "source": [
    "import pandas as pd\n",
    "url = 'houston_claims.csv'\n",
    "df = pd.read_csv(url, index_col = 0)\n",
    "df[:1]"
   ]
  },
  {
   "cell_type": "markdown",
   "metadata": {},
   "source": [
    "Now we can use the `columns` method to see a list of all of the columns in our dataframe."
   ]
  },
  {
   "cell_type": "code",
   "execution_count": 4,
   "metadata": {},
   "outputs": [
    {
     "data": {
      "text/plain": [
       "Index(['reportedCity', 'dateOfLoss', 'elevatedBuildingIndicator', 'floodZone',\n",
       "       'latitude', 'longitude', 'lowestFloodElevation',\n",
       "       'amountPaidOnBuildingClaim', 'amountPaidOnContentsClaim', 'yearofLoss',\n",
       "       'reportedZipcode', 'id'],\n",
       "      dtype='object')"
      ]
     },
     "execution_count": 4,
     "metadata": {},
     "output_type": "execute_result"
    }
   ],
   "source": [
    "df.columns"
   ]
  },
  {
   "cell_type": "markdown",
   "metadata": {},
   "source": [
    "### Selecting a single column"
   ]
  },
  {
   "cell_type": "markdown",
   "metadata": {},
   "source": [
    "And from there, we can see a specific column, by using the bracket accessors `[]`."
   ]
  },
  {
   "cell_type": "code",
   "execution_count": 5,
   "metadata": {},
   "outputs": [
    {
     "data": {
      "text/plain": [
       "0        2017-08-27T00:00:00.000Z\n",
       "1        2008-09-12T00:00:00.000Z\n",
       "2        2004-06-29T00:00:00.000Z\n",
       "3        2009-04-28T00:00:00.000Z\n",
       "4        2001-06-09T00:00:00.000Z\n",
       "                   ...           \n",
       "19995    2017-08-26T00:00:00.000Z\n",
       "19996    2015-05-26T00:00:00.000Z\n",
       "19997    2017-08-27T00:00:00.000Z\n",
       "19998    2016-04-18T00:00:00.000Z\n",
       "19999    2017-08-26T00:00:00.000Z\n",
       "Name: dateOfLoss, Length: 20000, dtype: object"
      ]
     },
     "execution_count": 5,
     "metadata": {},
     "output_type": "execute_result"
    }
   ],
   "source": [
    "df['dateOfLoss']"
   ]
  },
  {
   "cell_type": "markdown",
   "metadata": {},
   "source": [
    "Ok, so we just saw that we can select a column with our bracket accessors.  Another way to select a specific column is with the dot notation and the name of the column."
   ]
  },
  {
   "cell_type": "code",
   "execution_count": 6,
   "metadata": {},
   "outputs": [
    {
     "data": {
      "text/plain": [
       "0        2017-08-27T00:00:00.000Z\n",
       "1        2008-09-12T00:00:00.000Z\n",
       "2        2004-06-29T00:00:00.000Z\n",
       "3        2009-04-28T00:00:00.000Z\n",
       "4        2001-06-09T00:00:00.000Z\n",
       "                   ...           \n",
       "19995    2017-08-26T00:00:00.000Z\n",
       "19996    2015-05-26T00:00:00.000Z\n",
       "19997    2017-08-27T00:00:00.000Z\n",
       "19998    2016-04-18T00:00:00.000Z\n",
       "19999    2017-08-26T00:00:00.000Z\n",
       "Name: dateOfLoss, Length: 20000, dtype: object"
      ]
     },
     "execution_count": 6,
     "metadata": {},
     "output_type": "execute_result"
    }
   ],
   "source": [
    "df.dateOfLoss"
   ]
  },
  {
   "cell_type": "markdown",
   "metadata": {},
   "source": [
    "Now we oftentimes, we will want to hold onto a column by assigning a selected column to a variable.  Let's assign the column `amountPaidOnBuildingClaim` to the variable `building_amount`."
   ]
  },
  {
   "cell_type": "code",
   "execution_count": 7,
   "metadata": {},
   "outputs": [],
   "source": [
    "building_amount = None"
   ]
  },
  {
   "cell_type": "markdown",
   "metadata": {},
   "source": [
    "### Selecting mulitple columns"
   ]
  },
  {
   "cell_type": "markdown",
   "metadata": {},
   "source": [
    "Now let's move onto selecting multiple columns.  Once again, we'll start by looking at all of our columns."
   ]
  },
  {
   "cell_type": "code",
   "execution_count": 8,
   "metadata": {},
   "outputs": [
    {
     "data": {
      "text/plain": [
       "Index(['reportedCity', 'dateOfLoss', 'elevatedBuildingIndicator', 'floodZone',\n",
       "       'latitude', 'longitude', 'lowestFloodElevation',\n",
       "       'amountPaidOnBuildingClaim', 'amountPaidOnContentsClaim', 'yearofLoss',\n",
       "       'reportedZipcode', 'id'],\n",
       "      dtype='object')"
      ]
     },
     "execution_count": 8,
     "metadata": {},
     "output_type": "execute_result"
    }
   ],
   "source": [
    "df.columns"
   ]
  },
  {
   "cell_type": "markdown",
   "metadata": {},
   "source": [
    "And now let's select use the bracket accessors to select the columns `latitude` and `longitude` and `amountPaidOnBuildingClaim`."
   ]
  },
  {
   "cell_type": "code",
   "execution_count": 12,
   "metadata": {},
   "outputs": [
    {
     "data": {
      "text/html": [
       "<div>\n",
       "<style scoped>\n",
       "    .dataframe tbody tr th:only-of-type {\n",
       "        vertical-align: middle;\n",
       "    }\n",
       "\n",
       "    .dataframe tbody tr th {\n",
       "        vertical-align: top;\n",
       "    }\n",
       "\n",
       "    .dataframe thead th {\n",
       "        text-align: right;\n",
       "    }\n",
       "</style>\n",
       "<table border=\"1\" class=\"dataframe\">\n",
       "  <thead>\n",
       "    <tr style=\"text-align: right;\">\n",
       "      <th></th>\n",
       "      <th>latitude</th>\n",
       "      <th>longitude</th>\n",
       "      <th>amountPaidOnBuildingClaim</th>\n",
       "    </tr>\n",
       "  </thead>\n",
       "  <tbody>\n",
       "    <tr>\n",
       "      <th>0</th>\n",
       "      <td>29.7</td>\n",
       "      <td>-95.5</td>\n",
       "      <td>195857.43</td>\n",
       "    </tr>\n",
       "    <tr>\n",
       "      <th>1</th>\n",
       "      <td>29.5</td>\n",
       "      <td>-95.1</td>\n",
       "      <td>0.00</td>\n",
       "    </tr>\n",
       "    <tr>\n",
       "      <th>2</th>\n",
       "      <td>29.8</td>\n",
       "      <td>-95.6</td>\n",
       "      <td>1420.89</td>\n",
       "    </tr>\n",
       "  </tbody>\n",
       "</table>\n",
       "</div>"
      ],
      "text/plain": [
       "   latitude  longitude  amountPaidOnBuildingClaim\n",
       "0      29.7      -95.5                  195857.43\n",
       "1      29.5      -95.1                       0.00\n",
       "2      29.8      -95.6                    1420.89"
      ]
     },
     "execution_count": 12,
     "metadata": {},
     "output_type": "execute_result"
    }
   ],
   "source": [
    "columns = ['latitude', 'longitude', 'amountPaidOnBuildingClaim']\n",
    "selected_df = df[columns]\n",
    "selected_df[:3]"
   ]
  },
  {
   "cell_type": "markdown",
   "metadata": {},
   "source": [
    "So we just greatly reduced the number of columns, and assigned this smaller dataframe to `selected_df`.  Let's go over how we did this."
   ]
  },
  {
   "cell_type": "markdown",
   "metadata": {},
   "source": [
    "We used the following format:"
   ]
  },
  {
   "cell_type": "markdown",
   "metadata": {},
   "source": [
    "* dataframe, bracket accessors, list of columns "
   ]
  },
  {
   "cell_type": "markdown",
   "metadata": {},
   "source": [
    "```python\n",
    "df[ ['col_1', 'col_2']]\n",
    "```"
   ]
  },
  {
   "cell_type": "markdown",
   "metadata": {},
   "source": [
    "It can be hard to keep track of all of those brackets, so it is nice to first assign the list of columns to a variable."
   ]
  },
  {
   "cell_type": "code",
   "execution_count": 11,
   "metadata": {},
   "outputs": [
    {
     "data": {
      "text/html": [
       "<div>\n",
       "<style scoped>\n",
       "    .dataframe tbody tr th:only-of-type {\n",
       "        vertical-align: middle;\n",
       "    }\n",
       "\n",
       "    .dataframe tbody tr th {\n",
       "        vertical-align: top;\n",
       "    }\n",
       "\n",
       "    .dataframe thead th {\n",
       "        text-align: right;\n",
       "    }\n",
       "</style>\n",
       "<table border=\"1\" class=\"dataframe\">\n",
       "  <thead>\n",
       "    <tr style=\"text-align: right;\">\n",
       "      <th></th>\n",
       "      <th>latitude</th>\n",
       "      <th>longitude</th>\n",
       "      <th>amountPaidOnBuildingClaim</th>\n",
       "    </tr>\n",
       "  </thead>\n",
       "  <tbody>\n",
       "    <tr>\n",
       "      <th>0</th>\n",
       "      <td>29.7</td>\n",
       "      <td>-95.5</td>\n",
       "      <td>195857.43</td>\n",
       "    </tr>\n",
       "    <tr>\n",
       "      <th>1</th>\n",
       "      <td>29.5</td>\n",
       "      <td>-95.1</td>\n",
       "      <td>0.00</td>\n",
       "    </tr>\n",
       "    <tr>\n",
       "      <th>2</th>\n",
       "      <td>29.8</td>\n",
       "      <td>-95.6</td>\n",
       "      <td>1420.89</td>\n",
       "    </tr>\n",
       "  </tbody>\n",
       "</table>\n",
       "</div>"
      ],
      "text/plain": [
       "   latitude  longitude  amountPaidOnBuildingClaim\n",
       "0      29.7      -95.5                  195857.43\n",
       "1      29.5      -95.1                       0.00\n",
       "2      29.8      -95.6                    1420.89"
      ]
     },
     "execution_count": 11,
     "metadata": {},
     "output_type": "execute_result"
    }
   ],
   "source": [
    "columns = ['latitude', 'longitude', 'amountPaidOnBuildingClaim']\n",
    "selected_df = df[columns]\n",
    "selected_df[:3]"
   ]
  },
  {
   "cell_type": "markdown",
   "metadata": {},
   "source": [
    "Notice that if we select a single column from a dataframe, we are working with a series."
   ]
  },
  {
   "cell_type": "code",
   "execution_count": 13,
   "metadata": {},
   "outputs": [
    {
     "data": {
      "text/plain": [
       "pandas.core.series.Series"
      ]
     },
     "execution_count": 13,
     "metadata": {},
     "output_type": "execute_result"
    }
   ],
   "source": [
    "type(df['amountPaidOnBuildingClaim'])"
   ]
  },
  {
   "cell_type": "markdown",
   "metadata": {},
   "source": [
    "But if we select multiple columns from a dataframe, we have a dataframe."
   ]
  },
  {
   "cell_type": "code",
   "execution_count": 14,
   "metadata": {},
   "outputs": [
    {
     "data": {
      "text/plain": [
       "pandas.core.frame.DataFrame"
      ]
     },
     "execution_count": 14,
     "metadata": {},
     "output_type": "execute_result"
    }
   ],
   "source": [
    "type(df[['latitude', 'longitude']])"
   ]
  },
  {
   "cell_type": "markdown",
   "metadata": {},
   "source": [
    "### Dropping Columns"
   ]
  },
  {
   "cell_type": "markdown",
   "metadata": {},
   "source": [
    "Just like we can select columns, we can also drop columns."
   ]
  },
  {
   "cell_type": "markdown",
   "metadata": {},
   "source": [
    "> Let's load up our data again."
   ]
  },
  {
   "cell_type": "code",
   "execution_count": 17,
   "metadata": {},
   "outputs": [
    {
     "data": {
      "text/html": [
       "<div>\n",
       "<style scoped>\n",
       "    .dataframe tbody tr th:only-of-type {\n",
       "        vertical-align: middle;\n",
       "    }\n",
       "\n",
       "    .dataframe tbody tr th {\n",
       "        vertical-align: top;\n",
       "    }\n",
       "\n",
       "    .dataframe thead th {\n",
       "        text-align: right;\n",
       "    }\n",
       "</style>\n",
       "<table border=\"1\" class=\"dataframe\">\n",
       "  <thead>\n",
       "    <tr style=\"text-align: right;\">\n",
       "      <th></th>\n",
       "      <th>reportedCity</th>\n",
       "      <th>dateOfLoss</th>\n",
       "      <th>elevatedBuildingIndicator</th>\n",
       "      <th>floodZone</th>\n",
       "      <th>latitude</th>\n",
       "      <th>longitude</th>\n",
       "      <th>lowestFloodElevation</th>\n",
       "      <th>amountPaidOnBuildingClaim</th>\n",
       "      <th>amountPaidOnContentsClaim</th>\n",
       "      <th>yearofLoss</th>\n",
       "      <th>reportedZipcode</th>\n",
       "      <th>id</th>\n",
       "    </tr>\n",
       "  </thead>\n",
       "  <tbody>\n",
       "    <tr>\n",
       "      <th>0</th>\n",
       "      <td>HOUSTON</td>\n",
       "      <td>2017-08-27T00:00:00.000Z</td>\n",
       "      <td>False</td>\n",
       "      <td>X</td>\n",
       "      <td>29.7</td>\n",
       "      <td>-95.5</td>\n",
       "      <td>NaN</td>\n",
       "      <td>195857.43</td>\n",
       "      <td>0.0</td>\n",
       "      <td>2017-01-01T00:00:00.000Z</td>\n",
       "      <td>77096</td>\n",
       "      <td>5e398d6774cbd479fc898dea</td>\n",
       "    </tr>\n",
       "    <tr>\n",
       "      <th>1</th>\n",
       "      <td>HOUSTON</td>\n",
       "      <td>2008-09-12T00:00:00.000Z</td>\n",
       "      <td>False</td>\n",
       "      <td>X</td>\n",
       "      <td>29.5</td>\n",
       "      <td>-95.1</td>\n",
       "      <td>NaN</td>\n",
       "      <td>0.00</td>\n",
       "      <td>0.0</td>\n",
       "      <td>2008-01-01T00:00:00.000Z</td>\n",
       "      <td>77058</td>\n",
       "      <td>5e398d6774cbd479fc898dfc</td>\n",
       "    </tr>\n",
       "  </tbody>\n",
       "</table>\n",
       "</div>"
      ],
      "text/plain": [
       "  reportedCity                dateOfLoss elevatedBuildingIndicator floodZone  \\\n",
       "0      HOUSTON  2017-08-27T00:00:00.000Z                     False         X   \n",
       "1      HOUSTON  2008-09-12T00:00:00.000Z                     False         X   \n",
       "\n",
       "   latitude  longitude  lowestFloodElevation  amountPaidOnBuildingClaim  \\\n",
       "0      29.7      -95.5                   NaN                  195857.43   \n",
       "1      29.5      -95.1                   NaN                       0.00   \n",
       "\n",
       "   amountPaidOnContentsClaim                yearofLoss  reportedZipcode  \\\n",
       "0                        0.0  2017-01-01T00:00:00.000Z            77096   \n",
       "1                        0.0  2008-01-01T00:00:00.000Z            77058   \n",
       "\n",
       "                         id  \n",
       "0  5e398d6774cbd479fc898dea  \n",
       "1  5e398d6774cbd479fc898dfc  "
      ]
     },
     "execution_count": 17,
     "metadata": {},
     "output_type": "execute_result"
    }
   ],
   "source": [
    "import pandas as pd\n",
    "url = 'houston_claims.csv'\n",
    "df = pd.read_csv(url, index_col = 0)\n",
    "df[:2]"
   ]
  },
  {
   "cell_type": "code",
   "execution_count": 19,
   "metadata": {},
   "outputs": [
    {
     "data": {
      "text/plain": [
       "Index(['reportedCity', 'dateOfLoss', 'elevatedBuildingIndicator', 'floodZone',\n",
       "       'latitude', 'longitude', 'lowestFloodElevation',\n",
       "       'amountPaidOnBuildingClaim', 'amountPaidOnContentsClaim', 'yearofLoss',\n",
       "       'reportedZipcode', 'id'],\n",
       "      dtype='object')"
      ]
     },
     "execution_count": 19,
     "metadata": {},
     "output_type": "execute_result"
    }
   ],
   "source": [
    "df.columns"
   ]
  },
  {
   "cell_type": "markdown",
   "metadata": {},
   "source": [
    "With the `drop` method we can provide a list of columns to drop.  The method returns to us a new dataframe with the specified columns removed."
   ]
  },
  {
   "cell_type": "code",
   "execution_count": 20,
   "metadata": {},
   "outputs": [
    {
     "data": {
      "text/html": [
       "<div>\n",
       "<style scoped>\n",
       "    .dataframe tbody tr th:only-of-type {\n",
       "        vertical-align: middle;\n",
       "    }\n",
       "\n",
       "    .dataframe tbody tr th {\n",
       "        vertical-align: top;\n",
       "    }\n",
       "\n",
       "    .dataframe thead th {\n",
       "        text-align: right;\n",
       "    }\n",
       "</style>\n",
       "<table border=\"1\" class=\"dataframe\">\n",
       "  <thead>\n",
       "    <tr style=\"text-align: right;\">\n",
       "      <th></th>\n",
       "      <th>floodZone</th>\n",
       "      <th>latitude</th>\n",
       "      <th>longitude</th>\n",
       "      <th>lowestFloodElevation</th>\n",
       "      <th>amountPaidOnBuildingClaim</th>\n",
       "      <th>amountPaidOnContentsClaim</th>\n",
       "      <th>yearofLoss</th>\n",
       "      <th>reportedZipcode</th>\n",
       "      <th>id</th>\n",
       "    </tr>\n",
       "  </thead>\n",
       "  <tbody>\n",
       "    <tr>\n",
       "      <th>0</th>\n",
       "      <td>X</td>\n",
       "      <td>29.7</td>\n",
       "      <td>-95.5</td>\n",
       "      <td>NaN</td>\n",
       "      <td>195857.43</td>\n",
       "      <td>0.0</td>\n",
       "      <td>2017-01-01T00:00:00.000Z</td>\n",
       "      <td>77096</td>\n",
       "      <td>5e398d6774cbd479fc898dea</td>\n",
       "    </tr>\n",
       "    <tr>\n",
       "      <th>1</th>\n",
       "      <td>X</td>\n",
       "      <td>29.5</td>\n",
       "      <td>-95.1</td>\n",
       "      <td>NaN</td>\n",
       "      <td>0.00</td>\n",
       "      <td>0.0</td>\n",
       "      <td>2008-01-01T00:00:00.000Z</td>\n",
       "      <td>77058</td>\n",
       "      <td>5e398d6774cbd479fc898dfc</td>\n",
       "    </tr>\n",
       "    <tr>\n",
       "      <th>2</th>\n",
       "      <td>X</td>\n",
       "      <td>29.8</td>\n",
       "      <td>-95.6</td>\n",
       "      <td>NaN</td>\n",
       "      <td>1420.89</td>\n",
       "      <td>0.0</td>\n",
       "      <td>2004-01-01T00:00:00.000Z</td>\n",
       "      <td>77042</td>\n",
       "      <td>5e398d6774cbd479fc898e4b</td>\n",
       "    </tr>\n",
       "    <tr>\n",
       "      <th>3</th>\n",
       "      <td>X</td>\n",
       "      <td>29.8</td>\n",
       "      <td>-95.6</td>\n",
       "      <td>NaN</td>\n",
       "      <td>2019.66</td>\n",
       "      <td>0.0</td>\n",
       "      <td>2009-01-01T00:00:00.000Z</td>\n",
       "      <td>77042</td>\n",
       "      <td>5e398d6774cbd479fc898e4c</td>\n",
       "    </tr>\n",
       "  </tbody>\n",
       "</table>\n",
       "</div>"
      ],
      "text/plain": [
       "  floodZone  latitude  longitude  lowestFloodElevation  \\\n",
       "0         X      29.7      -95.5                   NaN   \n",
       "1         X      29.5      -95.1                   NaN   \n",
       "2         X      29.8      -95.6                   NaN   \n",
       "3         X      29.8      -95.6                   NaN   \n",
       "\n",
       "   amountPaidOnBuildingClaim  amountPaidOnContentsClaim  \\\n",
       "0                  195857.43                        0.0   \n",
       "1                       0.00                        0.0   \n",
       "2                    1420.89                        0.0   \n",
       "3                    2019.66                        0.0   \n",
       "\n",
       "                 yearofLoss  reportedZipcode                        id  \n",
       "0  2017-01-01T00:00:00.000Z            77096  5e398d6774cbd479fc898dea  \n",
       "1  2008-01-01T00:00:00.000Z            77058  5e398d6774cbd479fc898dfc  \n",
       "2  2004-01-01T00:00:00.000Z            77042  5e398d6774cbd479fc898e4b  \n",
       "3  2009-01-01T00:00:00.000Z            77042  5e398d6774cbd479fc898e4c  "
      ]
     },
     "execution_count": 20,
     "metadata": {},
     "output_type": "execute_result"
    }
   ],
   "source": [
    "df_dropped = df.drop(columns = ['reportedCity', 'dateOfLoss', 'elevatedBuildingIndicator'])\n",
    "df_dropped[:4]"
   ]
  },
  {
   "cell_type": "markdown",
   "metadata": {},
   "source": [
    "### Summary"
   ]
  },
  {
   "cell_type": "markdown",
   "metadata": {},
   "source": [
    "In this lesson, we learned about how to select columns from our pandas dataframe.  We can start by seeing all of the columns with `columns` method."
   ]
  },
  {
   "cell_type": "code",
   "execution_count": 21,
   "metadata": {},
   "outputs": [
    {
     "data": {
      "text/plain": [
       "Index(['reportedCity', 'dateOfLoss', 'elevatedBuildingIndicator', 'floodZone',\n",
       "       'latitude', 'longitude', 'lowestFloodElevation',\n",
       "       'amountPaidOnBuildingClaim', 'amountPaidOnContentsClaim', 'yearofLoss',\n",
       "       'reportedZipcode', 'id'],\n",
       "      dtype='object')"
      ]
     },
     "execution_count": 21,
     "metadata": {},
     "output_type": "execute_result"
    }
   ],
   "source": [
    "df.columns"
   ]
  },
  {
   "cell_type": "markdown",
   "metadata": {},
   "source": [
    "We can select a single column by either using the bracket accessors or the dot notation, and then assign that column a variable."
   ]
  },
  {
   "cell_type": "code",
   "execution_count": 22,
   "metadata": {},
   "outputs": [],
   "source": [
    "loss_date = df['dateOfLoss']"
   ]
  },
  {
   "cell_type": "code",
   "execution_count": 24,
   "metadata": {},
   "outputs": [],
   "source": [
    "loss_date = df.dateOfLoss"
   ]
  },
  {
   "cell_type": "markdown",
   "metadata": {},
   "source": [
    "We can select multiple columns by still using the bracket accessors, and then passing through a list of columns that we would like to select."
   ]
  },
  {
   "cell_type": "code",
   "execution_count": 25,
   "metadata": {},
   "outputs": [
    {
     "data": {
      "text/html": [
       "<div>\n",
       "<style scoped>\n",
       "    .dataframe tbody tr th:only-of-type {\n",
       "        vertical-align: middle;\n",
       "    }\n",
       "\n",
       "    .dataframe tbody tr th {\n",
       "        vertical-align: top;\n",
       "    }\n",
       "\n",
       "    .dataframe thead th {\n",
       "        text-align: right;\n",
       "    }\n",
       "</style>\n",
       "<table border=\"1\" class=\"dataframe\">\n",
       "  <thead>\n",
       "    <tr style=\"text-align: right;\">\n",
       "      <th></th>\n",
       "      <th>reportedCity</th>\n",
       "      <th>dateOfLoss</th>\n",
       "      <th>elevatedBuildingIndicator</th>\n",
       "    </tr>\n",
       "  </thead>\n",
       "  <tbody>\n",
       "    <tr>\n",
       "      <th>0</th>\n",
       "      <td>HOUSTON</td>\n",
       "      <td>2017-08-27T00:00:00.000Z</td>\n",
       "      <td>False</td>\n",
       "    </tr>\n",
       "    <tr>\n",
       "      <th>1</th>\n",
       "      <td>HOUSTON</td>\n",
       "      <td>2008-09-12T00:00:00.000Z</td>\n",
       "      <td>False</td>\n",
       "    </tr>\n",
       "    <tr>\n",
       "      <th>2</th>\n",
       "      <td>HOUSTON</td>\n",
       "      <td>2004-06-29T00:00:00.000Z</td>\n",
       "      <td>False</td>\n",
       "    </tr>\n",
       "  </tbody>\n",
       "</table>\n",
       "</div>"
      ],
      "text/plain": [
       "  reportedCity                dateOfLoss elevatedBuildingIndicator\n",
       "0      HOUSTON  2017-08-27T00:00:00.000Z                     False\n",
       "1      HOUSTON  2008-09-12T00:00:00.000Z                     False\n",
       "2      HOUSTON  2004-06-29T00:00:00.000Z                     False"
      ]
     },
     "execution_count": 25,
     "metadata": {},
     "output_type": "execute_result"
    }
   ],
   "source": [
    "columns = ['reportedCity', 'dateOfLoss', 'elevatedBuildingIndicator']\n",
    "selected = df[columns]\n",
    "selected[:3]"
   ]
  },
  {
   "cell_type": "markdown",
   "metadata": {},
   "source": [
    "We can also drop multiple columns with the `drop` method."
   ]
  },
  {
   "cell_type": "code",
   "execution_count": 26,
   "metadata": {},
   "outputs": [
    {
     "data": {
      "text/html": [
       "<div>\n",
       "<style scoped>\n",
       "    .dataframe tbody tr th:only-of-type {\n",
       "        vertical-align: middle;\n",
       "    }\n",
       "\n",
       "    .dataframe tbody tr th {\n",
       "        vertical-align: top;\n",
       "    }\n",
       "\n",
       "    .dataframe thead th {\n",
       "        text-align: right;\n",
       "    }\n",
       "</style>\n",
       "<table border=\"1\" class=\"dataframe\">\n",
       "  <thead>\n",
       "    <tr style=\"text-align: right;\">\n",
       "      <th></th>\n",
       "      <th>floodZone</th>\n",
       "      <th>latitude</th>\n",
       "      <th>longitude</th>\n",
       "      <th>lowestFloodElevation</th>\n",
       "      <th>amountPaidOnBuildingClaim</th>\n",
       "      <th>amountPaidOnContentsClaim</th>\n",
       "      <th>yearofLoss</th>\n",
       "      <th>reportedZipcode</th>\n",
       "      <th>id</th>\n",
       "    </tr>\n",
       "  </thead>\n",
       "  <tbody>\n",
       "    <tr>\n",
       "      <th>0</th>\n",
       "      <td>X</td>\n",
       "      <td>29.7</td>\n",
       "      <td>-95.5</td>\n",
       "      <td>NaN</td>\n",
       "      <td>195857.43</td>\n",
       "      <td>0.0</td>\n",
       "      <td>2017-01-01T00:00:00.000Z</td>\n",
       "      <td>77096</td>\n",
       "      <td>5e398d6774cbd479fc898dea</td>\n",
       "    </tr>\n",
       "    <tr>\n",
       "      <th>1</th>\n",
       "      <td>X</td>\n",
       "      <td>29.5</td>\n",
       "      <td>-95.1</td>\n",
       "      <td>NaN</td>\n",
       "      <td>0.00</td>\n",
       "      <td>0.0</td>\n",
       "      <td>2008-01-01T00:00:00.000Z</td>\n",
       "      <td>77058</td>\n",
       "      <td>5e398d6774cbd479fc898dfc</td>\n",
       "    </tr>\n",
       "    <tr>\n",
       "      <th>2</th>\n",
       "      <td>X</td>\n",
       "      <td>29.8</td>\n",
       "      <td>-95.6</td>\n",
       "      <td>NaN</td>\n",
       "      <td>1420.89</td>\n",
       "      <td>0.0</td>\n",
       "      <td>2004-01-01T00:00:00.000Z</td>\n",
       "      <td>77042</td>\n",
       "      <td>5e398d6774cbd479fc898e4b</td>\n",
       "    </tr>\n",
       "    <tr>\n",
       "      <th>3</th>\n",
       "      <td>X</td>\n",
       "      <td>29.8</td>\n",
       "      <td>-95.6</td>\n",
       "      <td>NaN</td>\n",
       "      <td>2019.66</td>\n",
       "      <td>0.0</td>\n",
       "      <td>2009-01-01T00:00:00.000Z</td>\n",
       "      <td>77042</td>\n",
       "      <td>5e398d6774cbd479fc898e4c</td>\n",
       "    </tr>\n",
       "  </tbody>\n",
       "</table>\n",
       "</div>"
      ],
      "text/plain": [
       "  floodZone  latitude  longitude  lowestFloodElevation  \\\n",
       "0         X      29.7      -95.5                   NaN   \n",
       "1         X      29.5      -95.1                   NaN   \n",
       "2         X      29.8      -95.6                   NaN   \n",
       "3         X      29.8      -95.6                   NaN   \n",
       "\n",
       "   amountPaidOnBuildingClaim  amountPaidOnContentsClaim  \\\n",
       "0                  195857.43                        0.0   \n",
       "1                       0.00                        0.0   \n",
       "2                    1420.89                        0.0   \n",
       "3                    2019.66                        0.0   \n",
       "\n",
       "                 yearofLoss  reportedZipcode                        id  \n",
       "0  2017-01-01T00:00:00.000Z            77096  5e398d6774cbd479fc898dea  \n",
       "1  2008-01-01T00:00:00.000Z            77058  5e398d6774cbd479fc898dfc  \n",
       "2  2004-01-01T00:00:00.000Z            77042  5e398d6774cbd479fc898e4b  \n",
       "3  2009-01-01T00:00:00.000Z            77042  5e398d6774cbd479fc898e4c  "
      ]
     },
     "execution_count": 26,
     "metadata": {},
     "output_type": "execute_result"
    }
   ],
   "source": [
    "df_dropped = df.drop(columns = ['reportedCity', 'dateOfLoss', 'elevatedBuildingIndicator'])\n",
    "df_dropped[:4]"
   ]
  }
 ],
 "metadata": {
  "kernelspec": {
   "display_name": "Python 3",
   "language": "python",
   "name": "python3"
  },
  "language_info": {
   "codemirror_mode": {
    "name": "ipython",
    "version": 3
   },
   "file_extension": ".py",
   "mimetype": "text/x-python",
   "name": "python",
   "nbconvert_exporter": "python",
   "pygments_lexer": "ipython3",
   "version": "3.8.3"
  }
 },
 "nbformat": 4,
 "nbformat_minor": 4
}
