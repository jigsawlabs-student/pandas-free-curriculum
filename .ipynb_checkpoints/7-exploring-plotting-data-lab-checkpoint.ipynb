{
 "cells": [
  {
   "cell_type": "markdown",
   "metadata": {},
   "source": [
    "# Exploring and Plotting Data"
   ]
  },
  {
   "cell_type": "markdown",
   "metadata": {},
   "source": [
    "### Introduction"
   ]
  },
  {
   "cell_type": "markdown",
   "metadata": {},
   "source": [
    "In the last lesson, we saw how we can use pandas to explore our data, both with sample statistics, and plotting different features of our data.  In this lesson, we'll practice this with our imdb dataset to explore various movie data.  Let's get started."
   ]
  },
  {
   "cell_type": "markdown",
   "metadata": {},
   "source": [
    "### Exploring a DataFrame"
   ]
  },
  {
   "cell_type": "markdown",
   "metadata": {},
   "source": [
    "So let's get a better sense of the data in our 538 moves dataset.  The first thing we'll do is load up the data."
   ]
  },
  {
   "cell_type": "code",
   "execution_count": 2,
   "metadata": {},
   "outputs": [],
   "source": [
    "import pandas as pd\n",
    "url = \"https://raw.githubusercontent.com/jigsawlabs-student/pandas-free-curriculum/master/imdb_movies.csv\"\n",
    "movies_df = pd.read_csv(url)"
   ]
  },
  {
   "cell_type": "code",
   "execution_count": 2,
   "metadata": {},
   "outputs": [
    {
     "data": {
      "text/plain": [
       "Index(['title', 'genre', 'budget', 'runtime', 'year', 'month', 'revenue'], dtype='object')"
      ]
     },
     "execution_count": 2,
     "metadata": {},
     "output_type": "execute_result"
    }
   ],
   "source": [
    "movies_df.columns"
   ]
  },
  {
   "cell_type": "markdown",
   "metadata": {},
   "source": [
    "It may be difficult to understand what information is in these columns so perhaps we want to look at some of the initial values, which we can do with the `head` or `tail` methods.\n",
    "\n",
    "> First use the `head` method to select the first five rows of data."
   ]
  },
  {
   "cell_type": "code",
   "execution_count": 5,
   "metadata": {},
   "outputs": [
    {
     "data": {
      "text/html": [
       "<div>\n",
       "<style scoped>\n",
       "    .dataframe tbody tr th:only-of-type {\n",
       "        vertical-align: middle;\n",
       "    }\n",
       "\n",
       "    .dataframe tbody tr th {\n",
       "        vertical-align: top;\n",
       "    }\n",
       "\n",
       "    .dataframe thead th {\n",
       "        text-align: right;\n",
       "    }\n",
       "</style>\n",
       "<table border=\"1\" class=\"dataframe\">\n",
       "  <thead>\n",
       "    <tr style=\"text-align: right;\">\n",
       "      <th></th>\n",
       "      <th>title</th>\n",
       "      <th>genre</th>\n",
       "      <th>budget</th>\n",
       "      <th>runtime</th>\n",
       "      <th>year</th>\n",
       "      <th>month</th>\n",
       "      <th>revenue</th>\n",
       "    </tr>\n",
       "  </thead>\n",
       "  <tbody>\n",
       "    <tr>\n",
       "      <th>0</th>\n",
       "      <td>Avatar</td>\n",
       "      <td>Action</td>\n",
       "      <td>237000000</td>\n",
       "      <td>162.0</td>\n",
       "      <td>2009</td>\n",
       "      <td>12</td>\n",
       "      <td>2787965087</td>\n",
       "    </tr>\n",
       "    <tr>\n",
       "      <th>1</th>\n",
       "      <td>Pirates of the Caribbean: At World's End</td>\n",
       "      <td>Adventure</td>\n",
       "      <td>300000000</td>\n",
       "      <td>169.0</td>\n",
       "      <td>2007</td>\n",
       "      <td>5</td>\n",
       "      <td>961000000</td>\n",
       "    </tr>\n",
       "    <tr>\n",
       "      <th>2</th>\n",
       "      <td>Spectre</td>\n",
       "      <td>Action</td>\n",
       "      <td>245000000</td>\n",
       "      <td>148.0</td>\n",
       "      <td>2015</td>\n",
       "      <td>10</td>\n",
       "      <td>880674609</td>\n",
       "    </tr>\n",
       "    <tr>\n",
       "      <th>3</th>\n",
       "      <td>The Dark Knight Rises</td>\n",
       "      <td>Action</td>\n",
       "      <td>250000000</td>\n",
       "      <td>165.0</td>\n",
       "      <td>2012</td>\n",
       "      <td>7</td>\n",
       "      <td>1084939099</td>\n",
       "    </tr>\n",
       "    <tr>\n",
       "      <th>4</th>\n",
       "      <td>John Carter</td>\n",
       "      <td>Action</td>\n",
       "      <td>260000000</td>\n",
       "      <td>132.0</td>\n",
       "      <td>2012</td>\n",
       "      <td>3</td>\n",
       "      <td>284139100</td>\n",
       "    </tr>\n",
       "  </tbody>\n",
       "</table>\n",
       "</div>"
      ],
      "text/plain": [
       "                                      title      genre     budget  runtime  \\\n",
       "0                                    Avatar     Action  237000000    162.0   \n",
       "1  Pirates of the Caribbean: At World's End  Adventure  300000000    169.0   \n",
       "2                                   Spectre     Action  245000000    148.0   \n",
       "3                     The Dark Knight Rises     Action  250000000    165.0   \n",
       "4                               John Carter     Action  260000000    132.0   \n",
       "\n",
       "   year  month     revenue  \n",
       "0  2009     12  2787965087  \n",
       "1  2007      5   961000000  \n",
       "2  2015     10   880674609  \n",
       "3  2012      7  1084939099  \n",
       "4  2012      3   284139100  "
      ]
     },
     "execution_count": 5,
     "metadata": {},
     "output_type": "execute_result"
    }
   ],
   "source": [
    "# write code in the line below\n",
    "\n",
    "\n",
    "\n",
    "# title\tgenre\tbudget\truntime\tyear\tmonth\trevenue\n",
    "# 0\tAvatar\tAction\t237000000\t162.0\t2009\t12\t2787965087\n",
    "# 1\tPirates of the Caribbean: At World's End\tAdventure\t300000000\t169.0\t2007\t5\t961000000\n",
    "# 2\tSpectre\tAction\t245000000\t148.0\t2015\t10\t880674609\n",
    "# 3\tThe Dark Knight Rises\tAction\t250000000\t165.0\t2012\t7\t1084939099\n",
    "# 4\tJohn Carter\tAction\t260000000\t132.0\t2012\t3\t284139100"
   ]
  },
  {
   "cell_type": "markdown",
   "metadata": {},
   "source": [
    "Next, let's use the `describe` method to get an overview of the data in the various columns."
   ]
  },
  {
   "cell_type": "code",
   "execution_count": 7,
   "metadata": {},
   "outputs": [
    {
     "data": {
      "text/html": [
       "<div>\n",
       "<style scoped>\n",
       "    .dataframe tbody tr th:only-of-type {\n",
       "        vertical-align: middle;\n",
       "    }\n",
       "\n",
       "    .dataframe tbody tr th {\n",
       "        vertical-align: top;\n",
       "    }\n",
       "\n",
       "    .dataframe thead th {\n",
       "        text-align: right;\n",
       "    }\n",
       "</style>\n",
       "<table border=\"1\" class=\"dataframe\">\n",
       "  <thead>\n",
       "    <tr style=\"text-align: right;\">\n",
       "      <th></th>\n",
       "      <th>budget</th>\n",
       "      <th>runtime</th>\n",
       "      <th>year</th>\n",
       "      <th>month</th>\n",
       "      <th>revenue</th>\n",
       "    </tr>\n",
       "  </thead>\n",
       "  <tbody>\n",
       "    <tr>\n",
       "      <th>count</th>\n",
       "      <td>2.000000e+03</td>\n",
       "      <td>2000.000000</td>\n",
       "      <td>2000.00000</td>\n",
       "      <td>2000.000000</td>\n",
       "      <td>2.000000e+03</td>\n",
       "    </tr>\n",
       "    <tr>\n",
       "      <th>mean</th>\n",
       "      <td>6.043686e+07</td>\n",
       "      <td>113.267500</td>\n",
       "      <td>2004.42650</td>\n",
       "      <td>7.044000</td>\n",
       "      <td>1.643506e+08</td>\n",
       "    </tr>\n",
       "    <tr>\n",
       "      <th>std</th>\n",
       "      <td>4.692045e+07</td>\n",
       "      <td>21.073728</td>\n",
       "      <td>7.95319</td>\n",
       "      <td>3.398947</td>\n",
       "      <td>2.186816e+08</td>\n",
       "    </tr>\n",
       "    <tr>\n",
       "      <th>min</th>\n",
       "      <td>0.000000e+00</td>\n",
       "      <td>0.000000</td>\n",
       "      <td>1940.00000</td>\n",
       "      <td>1.000000</td>\n",
       "      <td>0.000000e+00</td>\n",
       "    </tr>\n",
       "    <tr>\n",
       "      <th>25%</th>\n",
       "      <td>3.000000e+07</td>\n",
       "      <td>98.000000</td>\n",
       "      <td>2000.00000</td>\n",
       "      <td>4.000000</td>\n",
       "      <td>3.103408e+07</td>\n",
       "    </tr>\n",
       "    <tr>\n",
       "      <th>50%</th>\n",
       "      <td>4.800000e+07</td>\n",
       "      <td>110.000000</td>\n",
       "      <td>2005.00000</td>\n",
       "      <td>7.000000</td>\n",
       "      <td>9.400000e+07</td>\n",
       "    </tr>\n",
       "    <tr>\n",
       "      <th>75%</th>\n",
       "      <td>7.500000e+07</td>\n",
       "      <td>125.000000</td>\n",
       "      <td>2011.00000</td>\n",
       "      <td>10.000000</td>\n",
       "      <td>2.026695e+08</td>\n",
       "    </tr>\n",
       "    <tr>\n",
       "      <th>max</th>\n",
       "      <td>3.800000e+08</td>\n",
       "      <td>254.000000</td>\n",
       "      <td>2016.00000</td>\n",
       "      <td>12.000000</td>\n",
       "      <td>2.787965e+09</td>\n",
       "    </tr>\n",
       "  </tbody>\n",
       "</table>\n",
       "</div>"
      ],
      "text/plain": [
       "             budget      runtime        year        month       revenue\n",
       "count  2.000000e+03  2000.000000  2000.00000  2000.000000  2.000000e+03\n",
       "mean   6.043686e+07   113.267500  2004.42650     7.044000  1.643506e+08\n",
       "std    4.692045e+07    21.073728     7.95319     3.398947  2.186816e+08\n",
       "min    0.000000e+00     0.000000  1940.00000     1.000000  0.000000e+00\n",
       "25%    3.000000e+07    98.000000  2000.00000     4.000000  3.103408e+07\n",
       "50%    4.800000e+07   110.000000  2005.00000     7.000000  9.400000e+07\n",
       "75%    7.500000e+07   125.000000  2011.00000    10.000000  2.026695e+08\n",
       "max    3.800000e+08   254.000000  2016.00000    12.000000  2.787965e+09"
      ]
     },
     "execution_count": 7,
     "metadata": {},
     "output_type": "execute_result"
    }
   ],
   "source": [
    "\n",
    "\n",
    "\n",
    "# budget\truntime\tyear\tmonth\trevenue\n",
    "# count\t2.000000e+03\t2000.000000\t2000.00000\t2000.000000\t2.000000e+03\n",
    "# mean\t6.043686e+07\t113.267500\t2004.42650\t7.044000\t1.643506e+08\n",
    "# std\t4.692045e+07\t21.073728\t7.95319\t3.398947\t2.186816e+08\n",
    "# min\t0.000000e+00\t0.000000\t1940.00000\t1.000000\t0.000000e+00\n",
    "# 25%\t3.000000e+07\t98.000000\t2000.00000\t4.000000\t3.103408e+07\n",
    "# 50%\t4.800000e+07\t110.000000\t2005.00000\t7.000000\t9.400000e+07\n",
    "# 75%\t7.500000e+07\t125.000000\t2011.00000\t10.000000\t2.026695e+08\n",
    "# max\t3.800000e+08\t254.000000\t2016.00000\t12.000000\t2.787965e+09"
   ]
  },
  {
   "cell_type": "markdown",
   "metadata": {},
   "source": [
    "So we can see that the average year is 2004, with a minimum year of 1940, and a maximum year of 2016."
   ]
  },
  {
   "cell_type": "markdown",
   "metadata": {},
   "source": [
    "### Auditing our dataset"
   ]
  },
  {
   "cell_type": "markdown",
   "metadata": {},
   "source": [
    "Before moving forward with our data, it's good to get a sense of how representative our data is.  For example, does our data have similar amounts of movies per each year, or an expected proportion of different genres?  If not, then this may limit the conclusions that we can draw from our data.\n",
    "\n",
    "Let's start off by getting a count of each of the genres in our data."
   ]
  },
  {
   "cell_type": "code",
   "execution_count": 8,
   "metadata": {},
   "outputs": [
    {
     "data": {
      "text/plain": [
       "Action             483\n",
       "Drama              365\n",
       "Comedy             359\n",
       "Adventure          236\n",
       "Animation           93\n",
       "Fantasy             80\n",
       "Crime               76\n",
       "Thriller            73\n",
       "Horror              59\n",
       "Science Fiction     52\n",
       "Romance             40\n",
       "Name: genre, dtype: int64"
      ]
     },
     "execution_count": 8,
     "metadata": {},
     "output_type": "execute_result"
    }
   ],
   "source": [
    "# write code here \n",
    "\n",
    "\n",
    "\n",
    "# Action             483\n",
    "# Drama              365\n",
    "# Comedy             359\n",
    "# Adventure          236\n",
    "# Animation           93\n",
    "# Fantasy             80\n",
    "# Crime               76\n",
    "# Thriller            73\n",
    "# Horror              59\n",
    "# Science Fiction     52\n",
    "# Romance             40\n",
    "# Name: genre, dtype: int64"
   ]
  },
  {
   "cell_type": "markdown",
   "metadata": {},
   "source": [
    "It does look we more action movies than any other category, which perhaps makes sense.  Or it may indicate a dataset that leans on more recent data.  Let's plot a histogram that displays the number of movies for each year represented in our dataset."
   ]
  },
  {
   "cell_type": "code",
   "execution_count": null,
   "metadata": {},
   "outputs": [],
   "source": [
    "# write code here\n"
   ]
  },
  {
   "cell_type": "markdown",
   "metadata": {},
   "source": [
    "> Answer: <img src=\"./movie-years.png\" width=\"60%\">"
   ]
  },
  {
   "cell_type": "markdown",
   "metadata": {},
   "source": [
    "So it looks like the vast majority of our data is between 2000, and perhaps 2016.  Use the `value_counts` method to confirm this.  \n",
    "\n",
    "Assign the result to `movies_count_by_year`."
   ]
  },
  {
   "cell_type": "code",
   "execution_count": 16,
   "metadata": {},
   "outputs": [
    {
     "data": {
      "text/plain": [
       "2005    105\n",
       "2011    105\n",
       "2004    104\n",
       "2009    100\n",
       "2008     98\n",
       "2010     95\n",
       "2006     95\n",
       "2013     94\n",
       "2001     92\n",
       "2012     91\n",
       "2002     91\n",
       "2014     87\n",
       "2015     84\n",
       "Name: year, dtype: int64"
      ]
     },
     "execution_count": 16,
     "metadata": {},
     "output_type": "execute_result"
    }
   ],
   "source": [
    "movies_count_by_year = None\n",
    "\n",
    "movies_count_by_year[:13]"
   ]
  },
  {
   "cell_type": "markdown",
   "metadata": {},
   "source": [
    "So we see that most of our movies are from the year 2001 or greater.  Let's scope our data down to only have movies from the year 2001 or later.  Return a dataframe of those movies below."
   ]
  },
  {
   "cell_type": "code",
   "execution_count": 17,
   "metadata": {},
   "outputs": [],
   "source": [
    "movies_post_2000 = None"
   ]
  },
  {
   "cell_type": "code",
   "execution_count": 18,
   "metadata": {},
   "outputs": [
    {
     "data": {
      "text/plain": [
       "(1445, 7)"
      ]
     },
     "execution_count": 18,
     "metadata": {},
     "output_type": "execute_result"
    }
   ],
   "source": [
    "movies_post_2000.shape\n",
    "\n",
    "# (1445, 7)"
   ]
  },
  {
   "cell_type": "markdown",
   "metadata": {},
   "source": [
    "### Performing Analysis"
   ]
  },
  {
   "cell_type": "markdown",
   "metadata": {},
   "source": [
    "Now that we have scoped down our data to only have include movies from 2001 to 2016, let's plot some of the relationships between data.\n",
    "\n",
    "Begin by using the `plot` method to create scatter plot of our `movies_post_2000` data with `budget` on the x axis and `revenue` on the y axis."
   ]
  },
  {
   "cell_type": "code",
   "execution_count": 20,
   "metadata": {},
   "outputs": [
    {
     "data": {
      "text/plain": [
       "<matplotlib.axes._subplots.AxesSubplot at 0x11ea76460>"
      ]
     },
     "execution_count": 20,
     "metadata": {},
     "output_type": "execute_result"
    },
    {
     "data": {
      "image/png": "[encoded data removed]",
      "text/plain": [
       "<Figure size 432x288 with 1 Axes>"
      ]
     },
     "metadata": {
      "needs_background": "light"
     },
     "output_type": "display_data"
    }
   ],
   "source": [
    "# write code below\n"
   ]
  },
  {
   "cell_type": "markdown",
   "metadata": {},
   "source": [
    "<img src=\"./rev-budget-scatter.png\" width=\"40%\">"
   ]
  },
  {
   "cell_type": "markdown",
   "metadata": {},
   "source": [
    "Let's try to limit our data so that we can get a better picture of it.  "
   ]
  },
  {
   "cell_type": "markdown",
   "metadata": {},
   "source": [
    "Let's use `xlim` and `ylim` to only plot movies between 0 and 300,000,000 and movies with revenue between 0 and 1 billion."
   ]
  },
  {
   "cell_type": "code",
   "execution_count": 3,
   "metadata": {},
   "outputs": [],
   "source": [
    "# write code below \n",
    "\n"
   ]
  },
  {
   "cell_type": "markdown",
   "metadata": {},
   "source": [
    "<img src=\"./budget-vs-rev-lim.png\" width=\"40%\">"
   ]
  },
  {
   "cell_type": "markdown",
   "metadata": {},
   "source": [
    "So it appears that while there is a trend between budget and revenue, that the spread in the data also tends to increase as more is spent on the movie.\n",
    "\n",
    "> Bonus: If we would like a matrix of scatter plots for every potential pair of columns, press shift + enter to run the code below."
   ]
  },
  {
   "cell_type": "code",
   "execution_count": 49,
   "metadata": {},
   "outputs": [],
   "source": [
    "pd.plotting.scatter_matrix(movies_df)"
   ]
  },
  {
   "cell_type": "markdown",
   "metadata": {},
   "source": [
    "### Summary"
   ]
  },
  {
   "cell_type": "markdown",
   "metadata": {},
   "source": [
    "In this lesson, we practiced various methods to get an understanding of our data.  For a numerical overview of our data, we used the `describe` method to get a sense of the data across our numerical columns, and the `value_counts` method to get a better sense of our categorical data.  \n",
    "\n",
    "We also plotted data to get a better understand our data.  We used the `hist` method to see the distribution of a single column, and the `plot` method with `kind = 'scatter'` to create a scatter that shows the relationship between a movie's budget and revenue.  We zoomed in on a subset of the data with the `xlim` and `ylim` data.  To go further in our analysis, in seeing relationships between data, it may be best to lean on statistical or machine learning algorithms.  "
   ]
  }
 ],
 "metadata": {
  "kernelspec": {
   "display_name": "Python 3",
   "language": "python",
   "name": "python3"
  },
  "language_info": {
   "codemirror_mode": {
    "name": "ipython",
    "version": 3
   },
   "file_extension": ".py",
   "mimetype": "text/x-python",
   "name": "python",
   "nbconvert_exporter": "python",
   "pygments_lexer": "ipython3",
   "version": "3.8.8"
  }
 },
 "nbformat": 4,
 "nbformat_minor": 4
}
