{
 "cells": [
  {
   "cell_type": "markdown",
   "metadata": {},
   "source": [
    "## Introduction to Pandas dataframes"
   ]
  },
  {
   "cell_type": "markdown",
   "metadata": {},
   "source": [
    "> \"If you count something you find interesting, you will learn something interesting.\"\n",
    "\n",
    "> Atul Gawande"
   ]
  },
  {
   "cell_type": "markdown",
   "metadata": {},
   "source": [
    "### Introduction"
   ]
  },
  {
   "cell_type": "markdown",
   "metadata": {},
   "source": [
    "The principal goal in statistics and data science is to describe and explain our world.  There are really two kinds of statistics.  \n",
    "\n",
    "* If we are simply *describing* our world with data involves **descriptive statistics**.  \n",
    "* In we are making predictions about our world or explaining the causes behind events, this is **inferential statistics**.  \n",
    "\n",
    "For this next set of lessons, let's stick with *describing* our past and present world, descriptive statistics, and leave the predictions for later.\n",
    "\n",
    "Over the next series of lessons, we'll do this using the pandas library to gather and explore flooding in Houston.  In this lesson, we'll get started with a sort of tour of pandas.  We'll do so by focusing on the three main datatypes in Pandas, the dataframe, the series, and the index."
   ]
  },
  {
   "cell_type": "markdown",
   "metadata": {},
   "source": [
    "### Gathering our data"
   ]
  },
  {
   "cell_type": "markdown",
   "metadata": {},
   "source": [
    "Let's explore these datatypes by working with some data.  For flooding data, we can look at claims from the [FEMA website](https://www.fema.gov/about/openfema/api), which tracks insurance claims for flooding.  Below, we'll use pandas to load up data on various [flood insurance claims](https://www.fema.gov/openfema-data-page/fima-nfip-redacted-claims) by county."
   ]
  },
  {
   "cell_type": "markdown",
   "metadata": {},
   "source": [
    "Let's load up some data, and then we'll explore what data we have."
   ]
  },
  {
   "cell_type": "code",
   "execution_count": 1,
   "metadata": {},
   "outputs": [
    {
     "data": {
      "text/html": [
       "<div>\n",
       "<style scoped>\n",
       "    .dataframe tbody tr th:only-of-type {\n",
       "        vertical-align: middle;\n",
       "    }\n",
       "\n",
       "    .dataframe tbody tr th {\n",
       "        vertical-align: top;\n",
       "    }\n",
       "\n",
       "    .dataframe thead th {\n",
       "        text-align: right;\n",
       "    }\n",
       "</style>\n",
       "<table border=\"1\" class=\"dataframe\">\n",
       "  <thead>\n",
       "    <tr style=\"text-align: right;\">\n",
       "      <th></th>\n",
       "      <th>reportedCity</th>\n",
       "      <th>dateOfLoss</th>\n",
       "      <th>elevatedBuildingIndicator</th>\n",
       "      <th>floodZone</th>\n",
       "      <th>latitude</th>\n",
       "      <th>longitude</th>\n",
       "      <th>lowestFloodElevation</th>\n",
       "      <th>amountPaidOnBuildingClaim</th>\n",
       "      <th>amountPaidOnContentsClaim</th>\n",
       "      <th>yearofLoss</th>\n",
       "      <th>reportedZipcode</th>\n",
       "      <th>id</th>\n",
       "    </tr>\n",
       "  </thead>\n",
       "  <tbody>\n",
       "    <tr>\n",
       "      <th>0</th>\n",
       "      <td>HOUSTON</td>\n",
       "      <td>2017-08-27T00:00:00.000Z</td>\n",
       "      <td>False</td>\n",
       "      <td>X</td>\n",
       "      <td>29.7</td>\n",
       "      <td>-95.5</td>\n",
       "      <td>NaN</td>\n",
       "      <td>195857.43</td>\n",
       "      <td>0.0</td>\n",
       "      <td>2017-01-01T00:00:00.000Z</td>\n",
       "      <td>77096</td>\n",
       "      <td>5e398d6774cbd479fc898dea</td>\n",
       "    </tr>\n",
       "    <tr>\n",
       "      <th>1</th>\n",
       "      <td>HOUSTON</td>\n",
       "      <td>2008-09-12T00:00:00.000Z</td>\n",
       "      <td>False</td>\n",
       "      <td>X</td>\n",
       "      <td>29.5</td>\n",
       "      <td>-95.1</td>\n",
       "      <td>NaN</td>\n",
       "      <td>0.00</td>\n",
       "      <td>0.0</td>\n",
       "      <td>2008-01-01T00:00:00.000Z</td>\n",
       "      <td>77058</td>\n",
       "      <td>5e398d6774cbd479fc898dfc</td>\n",
       "    </tr>\n",
       "    <tr>\n",
       "      <th>2</th>\n",
       "      <td>HOUSTON</td>\n",
       "      <td>2004-06-29T00:00:00.000Z</td>\n",
       "      <td>False</td>\n",
       "      <td>X</td>\n",
       "      <td>29.8</td>\n",
       "      <td>-95.6</td>\n",
       "      <td>NaN</td>\n",
       "      <td>1420.89</td>\n",
       "      <td>0.0</td>\n",
       "      <td>2004-01-01T00:00:00.000Z</td>\n",
       "      <td>77042</td>\n",
       "      <td>5e398d6774cbd479fc898e4b</td>\n",
       "    </tr>\n",
       "  </tbody>\n",
       "</table>\n",
       "</div>"
      ],
      "text/plain": [
       "  reportedCity                dateOfLoss elevatedBuildingIndicator floodZone  \\\n",
       "0      HOUSTON  2017-08-27T00:00:00.000Z                     False         X   \n",
       "1      HOUSTON  2008-09-12T00:00:00.000Z                     False         X   \n",
       "2      HOUSTON  2004-06-29T00:00:00.000Z                     False         X   \n",
       "\n",
       "   latitude  longitude  lowestFloodElevation  amountPaidOnBuildingClaim  \\\n",
       "0      29.7      -95.5                   NaN                  195857.43   \n",
       "1      29.5      -95.1                   NaN                       0.00   \n",
       "2      29.8      -95.6                   NaN                    1420.89   \n",
       "\n",
       "   amountPaidOnContentsClaim                yearofLoss  reportedZipcode  \\\n",
       "0                        0.0  2017-01-01T00:00:00.000Z            77096   \n",
       "1                        0.0  2008-01-01T00:00:00.000Z            77058   \n",
       "2                        0.0  2004-01-01T00:00:00.000Z            77042   \n",
       "\n",
       "                         id  \n",
       "0  5e398d6774cbd479fc898dea  \n",
       "1  5e398d6774cbd479fc898dfc  \n",
       "2  5e398d6774cbd479fc898e4b  "
      ]
     },
     "execution_count": 1,
     "metadata": {},
     "output_type": "execute_result"
    }
   ],
   "source": [
    "import pandas as pd\n",
    "url = \"https://raw.githubusercontent.com/jigsawlabs-student/pandas-free-curriculum/master/houston_claims.csv\"\n",
    "claims_df = pd.read_csv(url, index_col = 0)\n",
    "\n",
    "claims_df[:3]"
   ]
  },
  {
   "cell_type": "markdown",
   "metadata": {},
   "source": [
    "> Press shift + enter to run the cell above."
   ]
  },
  {
   "cell_type": "markdown",
   "metadata": {},
   "source": [
    "We can see from the above that we have information about each flood insurance claim.  We have selected claims from Houston, and we have provided various information about the location of the claims (longitude, latitude, city and zip), as well as the nature of the claim (various amounts paid on the claim)."
   ]
  },
  {
   "cell_type": "markdown",
   "metadata": {},
   "source": [
    "Now let's take another look at how we collected this information."
   ]
  },
  {
   "cell_type": "markdown",
   "metadata": {},
   "source": [
    "```python\n",
    "import pandas as pd\n",
    "url = \"https://raw.githubusercontent.com/jigsawlabs-student/pandas-free-curriculum/master/houston_claims.csv\"\n",
    "claims_df = pd.read_csv(url, index_col = 0)\n",
    "\n",
    "claims_df[:3]\n",
    "```"
   ]
  },
  {
   "cell_type": "markdown",
   "metadata": {},
   "source": [
    "The key part from the above is the `pd.read_csv`, where we specify to read data from our `csv` file located at the url.\n",
    "\n",
    "If we go to [that url](https://raw.githubusercontent.com/jigsawlabs-student/pandas-free-curriculum/master/houston_claims.csv), we'll see a CSV file."
   ]
  },
  {
   "cell_type": "markdown",
   "metadata": {},
   "source": [
    "> A CSV file is just a file of data separated by commas.  And if we go to [https://raw.githubusercontent.com/jigsawlabs-student/pandas-free-curriculum/master/houston_claims.csv](https://raw.githubusercontent.com/jigsawlabs-student/pandas-free-curriculum/master/houston_claims.csv) we'll in fact see a number of values separated by commas."
   ]
  },
  {
   "cell_type": "markdown",
   "metadata": {},
   "source": [
    "<img src=\"./raw-csv.png\" width=\"90%\">"
   ]
  },
  {
   "cell_type": "markdown",
   "metadata": {},
   "source": [
    "Still looking at our code above, after reading the csv file, we assigned the result to `claims_df`.  \n",
    "\n",
    "Ok, let's take a deeper look at this variable."
   ]
  },
  {
   "cell_type": "code",
   "execution_count": 8,
   "metadata": {},
   "outputs": [
    {
     "data": {
      "text/plain": [
       "pandas.core.frame.DataFrame"
      ]
     },
     "execution_count": 8,
     "metadata": {},
     "output_type": "execute_result"
    }
   ],
   "source": [
    "type(claims_df)"
   ]
  },
  {
   "cell_type": "markdown",
   "metadata": {},
   "source": [
    "> By using the `type`, we can see this is a *Dataframe* from the pandas library."
   ]
  },
  {
   "cell_type": "markdown",
   "metadata": {},
   "source": [
    "## What's a Dataframe?"
   ]
  },
  {
   "cell_type": "markdown",
   "metadata": {},
   "source": [
    "A pandas dataframe is essentially a table of data, and we can select the three rows of the dataframe just like slicing elements from a list in Python.  "
   ]
  },
  {
   "cell_type": "code",
   "execution_count": 2,
   "metadata": {},
   "outputs": [
    {
     "data": {
      "text/html": [
       "<div>\n",
       "<style scoped>\n",
       "    .dataframe tbody tr th:only-of-type {\n",
       "        vertical-align: middle;\n",
       "    }\n",
       "\n",
       "    .dataframe tbody tr th {\n",
       "        vertical-align: top;\n",
       "    }\n",
       "\n",
       "    .dataframe thead th {\n",
       "        text-align: right;\n",
       "    }\n",
       "</style>\n",
       "<table border=\"1\" class=\"dataframe\">\n",
       "  <thead>\n",
       "    <tr style=\"text-align: right;\">\n",
       "      <th></th>\n",
       "      <th>reportedCity</th>\n",
       "      <th>dateOfLoss</th>\n",
       "      <th>elevatedBuildingIndicator</th>\n",
       "      <th>floodZone</th>\n",
       "      <th>latitude</th>\n",
       "      <th>longitude</th>\n",
       "      <th>lowestFloodElevation</th>\n",
       "      <th>amountPaidOnBuildingClaim</th>\n",
       "      <th>amountPaidOnContentsClaim</th>\n",
       "      <th>yearofLoss</th>\n",
       "      <th>reportedZipcode</th>\n",
       "      <th>id</th>\n",
       "    </tr>\n",
       "  </thead>\n",
       "  <tbody>\n",
       "    <tr>\n",
       "      <th>0</th>\n",
       "      <td>HOUSTON</td>\n",
       "      <td>2017-08-27T00:00:00.000Z</td>\n",
       "      <td>False</td>\n",
       "      <td>X</td>\n",
       "      <td>29.7</td>\n",
       "      <td>-95.5</td>\n",
       "      <td>NaN</td>\n",
       "      <td>195857.43</td>\n",
       "      <td>0.0</td>\n",
       "      <td>2017-01-01T00:00:00.000Z</td>\n",
       "      <td>77096</td>\n",
       "      <td>5e398d6774cbd479fc898dea</td>\n",
       "    </tr>\n",
       "    <tr>\n",
       "      <th>1</th>\n",
       "      <td>HOUSTON</td>\n",
       "      <td>2008-09-12T00:00:00.000Z</td>\n",
       "      <td>False</td>\n",
       "      <td>X</td>\n",
       "      <td>29.5</td>\n",
       "      <td>-95.1</td>\n",
       "      <td>NaN</td>\n",
       "      <td>0.00</td>\n",
       "      <td>0.0</td>\n",
       "      <td>2008-01-01T00:00:00.000Z</td>\n",
       "      <td>77058</td>\n",
       "      <td>5e398d6774cbd479fc898dfc</td>\n",
       "    </tr>\n",
       "    <tr>\n",
       "      <th>2</th>\n",
       "      <td>HOUSTON</td>\n",
       "      <td>2004-06-29T00:00:00.000Z</td>\n",
       "      <td>False</td>\n",
       "      <td>X</td>\n",
       "      <td>29.8</td>\n",
       "      <td>-95.6</td>\n",
       "      <td>NaN</td>\n",
       "      <td>1420.89</td>\n",
       "      <td>0.0</td>\n",
       "      <td>2004-01-01T00:00:00.000Z</td>\n",
       "      <td>77042</td>\n",
       "      <td>5e398d6774cbd479fc898e4b</td>\n",
       "    </tr>\n",
       "  </tbody>\n",
       "</table>\n",
       "</div>"
      ],
      "text/plain": [
       "  reportedCity                dateOfLoss elevatedBuildingIndicator floodZone  \\\n",
       "0      HOUSTON  2017-08-27T00:00:00.000Z                     False         X   \n",
       "1      HOUSTON  2008-09-12T00:00:00.000Z                     False         X   \n",
       "2      HOUSTON  2004-06-29T00:00:00.000Z                     False         X   \n",
       "\n",
       "   latitude  longitude  lowestFloodElevation  amountPaidOnBuildingClaim  \\\n",
       "0      29.7      -95.5                   NaN                  195857.43   \n",
       "1      29.5      -95.1                   NaN                       0.00   \n",
       "2      29.8      -95.6                   NaN                    1420.89   \n",
       "\n",
       "   amountPaidOnContentsClaim                yearofLoss  reportedZipcode  \\\n",
       "0                        0.0  2017-01-01T00:00:00.000Z            77096   \n",
       "1                        0.0  2008-01-01T00:00:00.000Z            77058   \n",
       "2                        0.0  2004-01-01T00:00:00.000Z            77042   \n",
       "\n",
       "                         id  \n",
       "0  5e398d6774cbd479fc898dea  \n",
       "1  5e398d6774cbd479fc898dfc  \n",
       "2  5e398d6774cbd479fc898e4b  "
      ]
     },
     "execution_count": 2,
     "metadata": {},
     "output_type": "execute_result"
    }
   ],
   "source": [
    "claims_df[:3]"
   ]
  },
  {
   "cell_type": "markdown",
   "metadata": {},
   "source": [
    "> So in the first row of our dataframe, we see the `dateOfLoss`, when flooding first occurred as `08-27-2017`, and it occurred at the location of latitude `29.7` and longitude of `-95.5`."
   ]
  },
  {
   "cell_type": "markdown",
   "metadata": {},
   "source": [
    "Just like working with tables in excel, we can think of our dataframe as consisting of rows and columns.  Or, if we're familiar with Python, another way to think of our dataframe is as a list of dictionaries where each row is a dictionary. "
   ]
  },
  {
   "cell_type": "markdown",
   "metadata": {},
   "source": [
    "In fact, we can even convert our dataframe into a list of dictionaries like so:"
   ]
  },
  {
   "cell_type": "code",
   "execution_count": 3,
   "metadata": {},
   "outputs": [
    {
     "data": {
      "text/plain": [
       "[{'reportedCity': 'HOUSTON',\n",
       "  'dateOfLoss': '2017-08-27T00:00:00.000Z',\n",
       "  'elevatedBuildingIndicator': False,\n",
       "  'floodZone': 'X',\n",
       "  'latitude': 29.7,\n",
       "  'longitude': -95.5,\n",
       "  'lowestFloodElevation': nan,\n",
       "  'amountPaidOnBuildingClaim': 195857.43,\n",
       "  'amountPaidOnContentsClaim': 0.0,\n",
       "  'yearofLoss': '2017-01-01T00:00:00.000Z',\n",
       "  'reportedZipcode': 77096,\n",
       "  'id': '5e398d6774cbd479fc898dea'},\n",
       " {'reportedCity': 'HOUSTON',\n",
       "  'dateOfLoss': '2008-09-12T00:00:00.000Z',\n",
       "  'elevatedBuildingIndicator': False,\n",
       "  'floodZone': 'X',\n",
       "  'latitude': 29.5,\n",
       "  'longitude': -95.1,\n",
       "  'lowestFloodElevation': nan,\n",
       "  'amountPaidOnBuildingClaim': 0.0,\n",
       "  'amountPaidOnContentsClaim': 0.0,\n",
       "  'yearofLoss': '2008-01-01T00:00:00.000Z',\n",
       "  'reportedZipcode': 77058,\n",
       "  'id': '5e398d6774cbd479fc898dfc'}]"
      ]
     },
     "execution_count": 3,
     "metadata": {},
     "output_type": "execute_result"
    }
   ],
   "source": [
    "claims_records = claims_df.to_dict('records')\n",
    "claims_records[:2]"
   ]
  },
  {
   "cell_type": "markdown",
   "metadata": {},
   "source": [
    "So it's nice to think about a dataframe is as a nested data structure."
   ]
  },
  {
   "cell_type": "markdown",
   "metadata": {},
   "source": [
    "> A **dataframe** is pandas object for storing data in a tabular format.  It consists of rows and columns, and can be thought of as a list of dictionaries, where each dictionary represents a different row."
   ]
  },
  {
   "cell_type": "markdown",
   "metadata": {},
   "source": [
    "So we just learned about our first datatype in pandas, the dataframe.  We'll talk more about dataframes later, but for now, let's select a single column from our dataframe and assign it to the variable `loss_date_ser`."
   ]
  },
  {
   "cell_type": "code",
   "execution_count": 3,
   "metadata": {},
   "outputs": [
    {
     "data": {
      "text/plain": [
       "0    2017-08-27T00:00:00.000Z\n",
       "1    2008-09-12T00:00:00.000Z\n",
       "Name: dateOfLoss, dtype: object"
      ]
     },
     "execution_count": 3,
     "metadata": {},
     "output_type": "execute_result"
    }
   ],
   "source": [
    "loss_date_ser = claims_df['dateOfLoss']\n",
    "loss_date_ser[:2]"
   ]
  },
  {
   "cell_type": "markdown",
   "metadata": {},
   "source": [
    "> In the code above, we selected the second column, `dateOfLoss` and assigned it to the variable `loss_date_ser`.  Then, in the next line, we selected the first two elements.  Let's see the datatype for this column."
   ]
  },
  {
   "cell_type": "code",
   "execution_count": 4,
   "metadata": {},
   "outputs": [
    {
     "data": {
      "text/plain": [
       "pandas.core.series.Series"
      ]
     },
     "execution_count": 4,
     "metadata": {},
     "output_type": "execute_result"
    }
   ],
   "source": [
    "type(loss_date_ser)"
   ]
  },
  {
   "cell_type": "markdown",
   "metadata": {},
   "source": [
    "So this is a different data structure in pandas, and it's called a series.  "
   ]
  },
  {
   "cell_type": "markdown",
   "metadata": {},
   "source": [
    "## What's a pandas series?"
   ]
  },
  {
   "cell_type": "markdown",
   "metadata": {},
   "source": [
    "Essentially, a series is like a list in Python.  And we can see this by calling the `to_list` method."
   ]
  },
  {
   "cell_type": "code",
   "execution_count": 17,
   "metadata": {},
   "outputs": [
    {
     "data": {
      "text/plain": [
       "['2017-08-27T00:00:00.000Z', '2008-09-12T00:00:00.000Z']"
      ]
     },
     "execution_count": 17,
     "metadata": {},
     "output_type": "execute_result"
    }
   ],
   "source": [
    "loss_date_ser.to_list()[:2]"
   ]
  },
  {
   "cell_type": "markdown",
   "metadata": {},
   "source": [
    "> By calling `to_list`, we just converted our series to a Python list."
   ]
  },
  {
   "cell_type": "markdown",
   "metadata": {},
   "source": [
    "So to summarize, a pandas dataframe is like a table of information and a pandas series is essentially a list. "
   ]
  },
  {
   "cell_type": "markdown",
   "metadata": {},
   "source": [
    "### The index"
   ]
  },
  {
   "cell_type": "markdown",
   "metadata": {},
   "source": [
    "Now so far we have seen the dataframe datatype, and the series datatype, but there is one more pandas datatype to cover, and that is the index.\n",
    "\n",
    "Let's take another look at our dataframe."
   ]
  },
  {
   "cell_type": "code",
   "execution_count": 18,
   "metadata": {},
   "outputs": [
    {
     "data": {
      "text/html": [
       "<div>\n",
       "<style scoped>\n",
       "    .dataframe tbody tr th:only-of-type {\n",
       "        vertical-align: middle;\n",
       "    }\n",
       "\n",
       "    .dataframe tbody tr th {\n",
       "        vertical-align: top;\n",
       "    }\n",
       "\n",
       "    .dataframe thead th {\n",
       "        text-align: right;\n",
       "    }\n",
       "</style>\n",
       "<table border=\"1\" class=\"dataframe\">\n",
       "  <thead>\n",
       "    <tr style=\"text-align: right;\">\n",
       "      <th></th>\n",
       "      <th>reportedCity</th>\n",
       "      <th>dateOfLoss</th>\n",
       "      <th>elevatedBuildingIndicator</th>\n",
       "      <th>floodZone</th>\n",
       "      <th>latitude</th>\n",
       "      <th>longitude</th>\n",
       "      <th>lowestFloodElevation</th>\n",
       "      <th>amountPaidOnBuildingClaim</th>\n",
       "      <th>amountPaidOnContentsClaim</th>\n",
       "      <th>yearofLoss</th>\n",
       "      <th>reportedZipcode</th>\n",
       "      <th>id</th>\n",
       "    </tr>\n",
       "  </thead>\n",
       "  <tbody>\n",
       "    <tr>\n",
       "      <th>0</th>\n",
       "      <td>HOUSTON</td>\n",
       "      <td>2017-08-27T00:00:00.000Z</td>\n",
       "      <td>False</td>\n",
       "      <td>X</td>\n",
       "      <td>29.7</td>\n",
       "      <td>-95.5</td>\n",
       "      <td>NaN</td>\n",
       "      <td>195857.43</td>\n",
       "      <td>0.0</td>\n",
       "      <td>2017-01-01T00:00:00.000Z</td>\n",
       "      <td>77096</td>\n",
       "      <td>5e398d6774cbd479fc898dea</td>\n",
       "    </tr>\n",
       "    <tr>\n",
       "      <th>1</th>\n",
       "      <td>HOUSTON</td>\n",
       "      <td>2008-09-12T00:00:00.000Z</td>\n",
       "      <td>False</td>\n",
       "      <td>X</td>\n",
       "      <td>29.5</td>\n",
       "      <td>-95.1</td>\n",
       "      <td>NaN</td>\n",
       "      <td>0.00</td>\n",
       "      <td>0.0</td>\n",
       "      <td>2008-01-01T00:00:00.000Z</td>\n",
       "      <td>77058</td>\n",
       "      <td>5e398d6774cbd479fc898dfc</td>\n",
       "    </tr>\n",
       "  </tbody>\n",
       "</table>\n",
       "</div>"
      ],
      "text/plain": [
       "  reportedCity                dateOfLoss elevatedBuildingIndicator floodZone  \\\n",
       "0      HOUSTON  2017-08-27T00:00:00.000Z                     False         X   \n",
       "1      HOUSTON  2008-09-12T00:00:00.000Z                     False         X   \n",
       "\n",
       "   latitude  longitude  lowestFloodElevation  amountPaidOnBuildingClaim  \\\n",
       "0      29.7      -95.5                   NaN                  195857.43   \n",
       "1      29.5      -95.1                   NaN                       0.00   \n",
       "\n",
       "   amountPaidOnContentsClaim                yearofLoss  reportedZipcode  \\\n",
       "0                        0.0  2017-01-01T00:00:00.000Z            77096   \n",
       "1                        0.0  2008-01-01T00:00:00.000Z            77058   \n",
       "\n",
       "                         id  \n",
       "0  5e398d6774cbd479fc898dea  \n",
       "1  5e398d6774cbd479fc898dfc  "
      ]
     },
     "execution_count": 18,
     "metadata": {},
     "output_type": "execute_result"
    }
   ],
   "source": [
    "claims_df[:2]"
   ]
  },
  {
   "cell_type": "markdown",
   "metadata": {},
   "source": [
    "Those numbers of `0` and `1` are part of the `index` series.  \n",
    "\n",
    "> The index is a special column in a pandas dataframe, that labels each row in our dataframe.  Every dataframe must have an index.\n",
    "\n",
    "Let's take a look at the index of `movies_df`."
   ]
  },
  {
   "cell_type": "code",
   "execution_count": 19,
   "metadata": {},
   "outputs": [
    {
     "data": {
      "text/plain": [
       "Int64Index([    0,     1,     2,     3,     4,     5,     6,     7,     8,\n",
       "                9,\n",
       "            ...\n",
       "            19990, 19991, 19992, 19993, 19994, 19995, 19996, 19997, 19998,\n",
       "            19999],\n",
       "           dtype='int64', length=20000)"
      ]
     },
     "execution_count": 19,
     "metadata": {},
     "output_type": "execute_result"
    }
   ],
   "source": [
    "claims_df.index"
   ]
  },
  {
   "cell_type": "markdown",
   "metadata": {},
   "source": [
    "So we can see that our index has a different number for each row in our dataframe.\n",
    "\n",
    "> The only rules we really have for the index is that all of the elements are unique and that we have a separate label for each row.  \n",
    "\n"
   ]
  },
  {
   "cell_type": "markdown",
   "metadata": {},
   "source": [
    "### Summary"
   ]
  },
  {
   "cell_type": "markdown",
   "metadata": {},
   "source": [
    "In this lesson, we were introduced to the dataframe, and the datatypes that it consists of, the series and an index.  We saw that we can think of a dataframe as a table, or a nested data structure in Python.  And we can think of a series as a Python list.  Finally, each dataframe has an index which allows us to reference the rows of a table."
   ]
  },
  {
   "cell_type": "markdown",
   "metadata": {},
   "source": [
    "### Resources\n",
    "\n",
    "[FEMA Data](https://www.fema.gov/openfema-data-page/fima-nfip-redacted-claims)"
   ]
  },
  {
   "cell_type": "markdown",
   "metadata": {},
   "source": [
    "[FEMA API](https://www.fema.gov/api/open/v1/FimaNfipClaims)"
   ]
  }
 ],
 "metadata": {
  "kernelspec": {
   "display_name": "Python 3",
   "language": "python",
   "name": "python3"
  },
  "language_info": {
   "codemirror_mode": {
    "name": "ipython",
    "version": 3
   },
   "file_extension": ".py",
   "mimetype": "text/x-python",
   "name": "python",
   "nbconvert_exporter": "python",
   "pygments_lexer": "ipython3",
   "version": "3.8.8"
  }
 },
 "nbformat": 4,
 "nbformat_minor": 4
}
