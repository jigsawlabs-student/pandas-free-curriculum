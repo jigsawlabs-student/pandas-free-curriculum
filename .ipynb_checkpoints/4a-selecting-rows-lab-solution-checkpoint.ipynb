{
 "cells": [
  {
   "cell_type": "markdown",
   "metadata": {},
   "source": [
    "# Selecting Rows Lab"
   ]
  },
  {
   "cell_type": "markdown",
   "metadata": {},
   "source": [
    "### Introduction "
   ]
  },
  {
   "cell_type": "markdown",
   "metadata": {},
   "source": [
    "In this lesson we'll work on selecting certain rows of a dataframe.  One of the trickier components is selecting rows based on a certain criteria in pandas.  Let's get started."
   ]
  },
  {
   "cell_type": "markdown",
   "metadata": {},
   "source": [
    "### Loading our Data"
   ]
  },
  {
   "cell_type": "markdown",
   "metadata": {},
   "source": [
    "Once again, let's work with our IMDB movies dataset.  We'll load up our dataset in pandas."
   ]
  },
  {
   "cell_type": "code",
   "execution_count": 4,
   "metadata": {},
   "outputs": [],
   "source": [
    "url = './imdb_movies.csv'"
   ]
  },
  {
   "cell_type": "code",
   "execution_count": 5,
   "metadata": {},
   "outputs": [],
   "source": [
    "import pandas as pd\n",
    "\n",
    "df = pd.read_csv(url)"
   ]
  },
  {
   "cell_type": "markdown",
   "metadata": {},
   "source": [
    "### Getting an Overview"
   ]
  },
  {
   "cell_type": "markdown",
   "metadata": {},
   "source": [
    "Now use the `head` method to select the first five rows from the dataset. "
   ]
  },
  {
   "cell_type": "code",
   "execution_count": 8,
   "metadata": {},
   "outputs": [
    {
     "data": {
      "text/html": [
       "<div>\n",
       "<style scoped>\n",
       "    .dataframe tbody tr th:only-of-type {\n",
       "        vertical-align: middle;\n",
       "    }\n",
       "\n",
       "    .dataframe tbody tr th {\n",
       "        vertical-align: top;\n",
       "    }\n",
       "\n",
       "    .dataframe thead th {\n",
       "        text-align: right;\n",
       "    }\n",
       "</style>\n",
       "<table border=\"1\" class=\"dataframe\">\n",
       "  <thead>\n",
       "    <tr style=\"text-align: right;\">\n",
       "      <th></th>\n",
       "      <th>title</th>\n",
       "      <th>genre</th>\n",
       "      <th>budget</th>\n",
       "      <th>runtime</th>\n",
       "      <th>year</th>\n",
       "      <th>month</th>\n",
       "      <th>revenue</th>\n",
       "    </tr>\n",
       "  </thead>\n",
       "  <tbody>\n",
       "    <tr>\n",
       "      <th>0</th>\n",
       "      <td>Avatar</td>\n",
       "      <td>Action</td>\n",
       "      <td>237000000</td>\n",
       "      <td>162.0</td>\n",
       "      <td>2009</td>\n",
       "      <td>12</td>\n",
       "      <td>2787965087</td>\n",
       "    </tr>\n",
       "    <tr>\n",
       "      <th>1</th>\n",
       "      <td>Pirates of the Caribbean: At World's End</td>\n",
       "      <td>Adventure</td>\n",
       "      <td>300000000</td>\n",
       "      <td>169.0</td>\n",
       "      <td>2007</td>\n",
       "      <td>5</td>\n",
       "      <td>961000000</td>\n",
       "    </tr>\n",
       "    <tr>\n",
       "      <th>2</th>\n",
       "      <td>Spectre</td>\n",
       "      <td>Action</td>\n",
       "      <td>245000000</td>\n",
       "      <td>148.0</td>\n",
       "      <td>2015</td>\n",
       "      <td>10</td>\n",
       "      <td>880674609</td>\n",
       "    </tr>\n",
       "    <tr>\n",
       "      <th>3</th>\n",
       "      <td>The Dark Knight Rises</td>\n",
       "      <td>Action</td>\n",
       "      <td>250000000</td>\n",
       "      <td>165.0</td>\n",
       "      <td>2012</td>\n",
       "      <td>7</td>\n",
       "      <td>1084939099</td>\n",
       "    </tr>\n",
       "    <tr>\n",
       "      <th>4</th>\n",
       "      <td>John Carter</td>\n",
       "      <td>Action</td>\n",
       "      <td>260000000</td>\n",
       "      <td>132.0</td>\n",
       "      <td>2012</td>\n",
       "      <td>3</td>\n",
       "      <td>284139100</td>\n",
       "    </tr>\n",
       "  </tbody>\n",
       "</table>\n",
       "</div>"
      ],
      "text/plain": [
       "                                      title      genre     budget  runtime  \\\n",
       "0                                    Avatar     Action  237000000    162.0   \n",
       "1  Pirates of the Caribbean: At World's End  Adventure  300000000    169.0   \n",
       "2                                   Spectre     Action  245000000    148.0   \n",
       "3                     The Dark Knight Rises     Action  250000000    165.0   \n",
       "4                               John Carter     Action  260000000    132.0   \n",
       "\n",
       "   year  month     revenue  \n",
       "0  2009     12  2787965087  \n",
       "1  2007      5   961000000  \n",
       "2  2015     10   880674609  \n",
       "3  2012      7  1084939099  \n",
       "4  2012      3   284139100  "
      ]
     },
     "execution_count": 8,
     "metadata": {},
     "output_type": "execute_result"
    }
   ],
   "source": [
    "df.head()\n",
    "\n",
    "# \ttitle\tgenre\tbudget\truntime\tyear\tmonth\trevenue\n",
    "# 0\tAvatar\tAction\t237000000\t162.0\t2009\t12\t2787965087\n",
    "# 1\tPirates of the Caribbean: At World's End\tAdventure\t300000000\t169.0\t2007\t5\t961000000\n",
    "# 2\tSpectre\tAction\t245000000\t148.0\t2015\t10\t880674609\n",
    "# 3\tThe Dark Knight Rises\tAction\t250000000\t165.0\t2012\t7\t1084939099\n",
    "# 4\tJohn Carter\tAction\t260000000\t132.0\t2012\t3\t284139100"
   ]
  },
  {
   "cell_type": "markdown",
   "metadata": {},
   "source": [
    "Then select the *last* five rows from the dataset."
   ]
  },
  {
   "cell_type": "code",
   "execution_count": 9,
   "metadata": {},
   "outputs": [
    {
     "data": {
      "text/html": [
       "<div>\n",
       "<style scoped>\n",
       "    .dataframe tbody tr th:only-of-type {\n",
       "        vertical-align: middle;\n",
       "    }\n",
       "\n",
       "    .dataframe tbody tr th {\n",
       "        vertical-align: top;\n",
       "    }\n",
       "\n",
       "    .dataframe thead th {\n",
       "        text-align: right;\n",
       "    }\n",
       "</style>\n",
       "<table border=\"1\" class=\"dataframe\">\n",
       "  <thead>\n",
       "    <tr style=\"text-align: right;\">\n",
       "      <th></th>\n",
       "      <th>title</th>\n",
       "      <th>genre</th>\n",
       "      <th>budget</th>\n",
       "      <th>runtime</th>\n",
       "      <th>year</th>\n",
       "      <th>month</th>\n",
       "      <th>revenue</th>\n",
       "    </tr>\n",
       "  </thead>\n",
       "  <tbody>\n",
       "    <tr>\n",
       "      <th>1995</th>\n",
       "      <td>Pitch Black</td>\n",
       "      <td>Thriller</td>\n",
       "      <td>23000000</td>\n",
       "      <td>108.0</td>\n",
       "      <td>2000</td>\n",
       "      <td>2</td>\n",
       "      <td>53187659</td>\n",
       "    </tr>\n",
       "    <tr>\n",
       "      <th>1996</th>\n",
       "      <td>Someone Like You...</td>\n",
       "      <td>Comedy</td>\n",
       "      <td>23000000</td>\n",
       "      <td>97.0</td>\n",
       "      <td>2001</td>\n",
       "      <td>3</td>\n",
       "      <td>0</td>\n",
       "    </tr>\n",
       "    <tr>\n",
       "      <th>1997</th>\n",
       "      <td>Her</td>\n",
       "      <td>Romance</td>\n",
       "      <td>23000000</td>\n",
       "      <td>126.0</td>\n",
       "      <td>2013</td>\n",
       "      <td>12</td>\n",
       "      <td>47351251</td>\n",
       "    </tr>\n",
       "    <tr>\n",
       "      <th>1998</th>\n",
       "      <td>Joy Ride</td>\n",
       "      <td>NaN</td>\n",
       "      <td>23000000</td>\n",
       "      <td>97.0</td>\n",
       "      <td>2001</td>\n",
       "      <td>10</td>\n",
       "      <td>36642838</td>\n",
       "    </tr>\n",
       "    <tr>\n",
       "      <th>1999</th>\n",
       "      <td>The Adventurer: The Curse of the Midas Box</td>\n",
       "      <td>Fantasy</td>\n",
       "      <td>25000000</td>\n",
       "      <td>99.0</td>\n",
       "      <td>2013</td>\n",
       "      <td>12</td>\n",
       "      <td>6399</td>\n",
       "    </tr>\n",
       "  </tbody>\n",
       "</table>\n",
       "</div>"
      ],
      "text/plain": [
       "                                           title     genre    budget  runtime  \\\n",
       "1995                                 Pitch Black  Thriller  23000000    108.0   \n",
       "1996                         Someone Like You...    Comedy  23000000     97.0   \n",
       "1997                                         Her   Romance  23000000    126.0   \n",
       "1998                                    Joy Ride       NaN  23000000     97.0   \n",
       "1999  The Adventurer: The Curse of the Midas Box   Fantasy  25000000     99.0   \n",
       "\n",
       "      year  month   revenue  \n",
       "1995  2000      2  53187659  \n",
       "1996  2001      3         0  \n",
       "1997  2013     12  47351251  \n",
       "1998  2001     10  36642838  \n",
       "1999  2013     12      6399  "
      ]
     },
     "execution_count": 9,
     "metadata": {},
     "output_type": "execute_result"
    }
   ],
   "source": [
    "df.tail()\n",
    "\n",
    "# title\tgenre\tbudget\truntime\tyear\tmonth\trevenue\n",
    "# 1995\tPitch Black\tThriller\t23000000\t108.0\t2000\t2\t53187659\n",
    "# 1996\tSomeone Like You...\tComedy\t23000000\t97.0\t2001\t3\t0\n",
    "# 1997\tHer\tRomance\t23000000\t126.0\t2013\t12\t47351251\n",
    "# 1998\tJoy Ride\tNaN\t23000000\t97.0\t2001\t10\t36642838\n",
    "# 1999\tThe Adventurer: The Curse of the Midas Box\tFantasy\t25000000\t99.0\t2013\t12\t6399"
   ]
  },
  {
   "cell_type": "markdown",
   "metadata": {},
   "source": [
    "### Selecting Rows by Criteria"
   ]
  },
  {
   "cell_type": "markdown",
   "metadata": {},
   "source": [
    "Now let's see if we can select rows by certain criteria.  We'll do one for you.  We'll start by selecting the Action movies."
   ]
  },
  {
   "cell_type": "code",
   "execution_count": 12,
   "metadata": {},
   "outputs": [
    {
     "data": {
      "text/html": [
       "<div>\n",
       "<style scoped>\n",
       "    .dataframe tbody tr th:only-of-type {\n",
       "        vertical-align: middle;\n",
       "    }\n",
       "\n",
       "    .dataframe tbody tr th {\n",
       "        vertical-align: top;\n",
       "    }\n",
       "\n",
       "    .dataframe thead th {\n",
       "        text-align: right;\n",
       "    }\n",
       "</style>\n",
       "<table border=\"1\" class=\"dataframe\">\n",
       "  <thead>\n",
       "    <tr style=\"text-align: right;\">\n",
       "      <th></th>\n",
       "      <th>title</th>\n",
       "      <th>genre</th>\n",
       "      <th>budget</th>\n",
       "      <th>runtime</th>\n",
       "      <th>year</th>\n",
       "      <th>month</th>\n",
       "      <th>revenue</th>\n",
       "    </tr>\n",
       "  </thead>\n",
       "  <tbody>\n",
       "    <tr>\n",
       "      <th>0</th>\n",
       "      <td>Avatar</td>\n",
       "      <td>Action</td>\n",
       "      <td>237000000</td>\n",
       "      <td>162.0</td>\n",
       "      <td>2009</td>\n",
       "      <td>12</td>\n",
       "      <td>2787965087</td>\n",
       "    </tr>\n",
       "    <tr>\n",
       "      <th>2</th>\n",
       "      <td>Spectre</td>\n",
       "      <td>Action</td>\n",
       "      <td>245000000</td>\n",
       "      <td>148.0</td>\n",
       "      <td>2015</td>\n",
       "      <td>10</td>\n",
       "      <td>880674609</td>\n",
       "    </tr>\n",
       "    <tr>\n",
       "      <th>3</th>\n",
       "      <td>The Dark Knight Rises</td>\n",
       "      <td>Action</td>\n",
       "      <td>250000000</td>\n",
       "      <td>165.0</td>\n",
       "      <td>2012</td>\n",
       "      <td>7</td>\n",
       "      <td>1084939099</td>\n",
       "    </tr>\n",
       "    <tr>\n",
       "      <th>4</th>\n",
       "      <td>John Carter</td>\n",
       "      <td>Action</td>\n",
       "      <td>260000000</td>\n",
       "      <td>132.0</td>\n",
       "      <td>2012</td>\n",
       "      <td>3</td>\n",
       "      <td>284139100</td>\n",
       "    </tr>\n",
       "    <tr>\n",
       "      <th>7</th>\n",
       "      <td>Avengers: Age of Ultron</td>\n",
       "      <td>Action</td>\n",
       "      <td>280000000</td>\n",
       "      <td>141.0</td>\n",
       "      <td>2015</td>\n",
       "      <td>4</td>\n",
       "      <td>1405403694</td>\n",
       "    </tr>\n",
       "    <tr>\n",
       "      <th>...</th>\n",
       "      <td>...</td>\n",
       "      <td>...</td>\n",
       "      <td>...</td>\n",
       "      <td>...</td>\n",
       "      <td>...</td>\n",
       "      <td>...</td>\n",
       "      <td>...</td>\n",
       "    </tr>\n",
       "    <tr>\n",
       "      <th>1939</th>\n",
       "      <td>BloodRayne</td>\n",
       "      <td>Action</td>\n",
       "      <td>25000000</td>\n",
       "      <td>95.0</td>\n",
       "      <td>2005</td>\n",
       "      <td>10</td>\n",
       "      <td>2405420</td>\n",
       "    </tr>\n",
       "    <tr>\n",
       "      <th>1956</th>\n",
       "      <td>Red Sky</td>\n",
       "      <td>Action</td>\n",
       "      <td>25000000</td>\n",
       "      <td>100.0</td>\n",
       "      <td>2014</td>\n",
       "      <td>3</td>\n",
       "      <td>0</td>\n",
       "    </tr>\n",
       "    <tr>\n",
       "      <th>1962</th>\n",
       "      <td>Jane Got a Gun</td>\n",
       "      <td>Action</td>\n",
       "      <td>25000000</td>\n",
       "      <td>98.0</td>\n",
       "      <td>2016</td>\n",
       "      <td>1</td>\n",
       "      <td>1397284</td>\n",
       "    </tr>\n",
       "    <tr>\n",
       "      <th>1978</th>\n",
       "      <td>Ready to Rumble</td>\n",
       "      <td>Action</td>\n",
       "      <td>24000000</td>\n",
       "      <td>107.0</td>\n",
       "      <td>2000</td>\n",
       "      <td>4</td>\n",
       "      <td>12372410</td>\n",
       "    </tr>\n",
       "    <tr>\n",
       "      <th>1991</th>\n",
       "      <td>Bad Boys</td>\n",
       "      <td>Action</td>\n",
       "      <td>19000000</td>\n",
       "      <td>118.0</td>\n",
       "      <td>1995</td>\n",
       "      <td>4</td>\n",
       "      <td>141407024</td>\n",
       "    </tr>\n",
       "  </tbody>\n",
       "</table>\n",
       "<p>483 rows × 7 columns</p>\n",
       "</div>"
      ],
      "text/plain": [
       "                        title   genre     budget  runtime  year  month  \\\n",
       "0                      Avatar  Action  237000000    162.0  2009     12   \n",
       "2                     Spectre  Action  245000000    148.0  2015     10   \n",
       "3       The Dark Knight Rises  Action  250000000    165.0  2012      7   \n",
       "4                 John Carter  Action  260000000    132.0  2012      3   \n",
       "7     Avengers: Age of Ultron  Action  280000000    141.0  2015      4   \n",
       "...                       ...     ...        ...      ...   ...    ...   \n",
       "1939               BloodRayne  Action   25000000     95.0  2005     10   \n",
       "1956                  Red Sky  Action   25000000    100.0  2014      3   \n",
       "1962           Jane Got a Gun  Action   25000000     98.0  2016      1   \n",
       "1978          Ready to Rumble  Action   24000000    107.0  2000      4   \n",
       "1991                 Bad Boys  Action   19000000    118.0  1995      4   \n",
       "\n",
       "         revenue  \n",
       "0     2787965087  \n",
       "2      880674609  \n",
       "3     1084939099  \n",
       "4      284139100  \n",
       "7     1405403694  \n",
       "...          ...  \n",
       "1939     2405420  \n",
       "1956           0  \n",
       "1962     1397284  \n",
       "1978    12372410  \n",
       "1991   141407024  \n",
       "\n",
       "[483 rows x 7 columns]"
      ]
     },
     "execution_count": 12,
     "metadata": {},
     "output_type": "execute_result"
    }
   ],
   "source": [
    "df[df['genre'] == 'Action']"
   ]
  },
  {
   "cell_type": "markdown",
   "metadata": {},
   "source": [
    "So notice that above, inside the first set of brackets we have `df['genre'] == 'Action'`.  This returns a series of True or False values for every row of data.  Then the rows with a True value are returned. "
   ]
  },
  {
   "cell_type": "code",
   "execution_count": 13,
   "metadata": {},
   "outputs": [
    {
     "data": {
      "text/plain": [
       "0        True\n",
       "1       False\n",
       "2        True\n",
       "3        True\n",
       "4        True\n",
       "        ...  \n",
       "1995    False\n",
       "1996    False\n",
       "1997    False\n",
       "1998    False\n",
       "1999    False\n",
       "Name: genre, Length: 2000, dtype: bool"
      ]
     },
     "execution_count": 13,
     "metadata": {},
     "output_type": "execute_result"
    }
   ],
   "source": [
    "df['genre'] == 'Action'"
   ]
  },
  {
   "cell_type": "markdown",
   "metadata": {},
   "source": [
    "> So notice that rows with index 0 and 2, 3, and 4 are returned in the dataframe above."
   ]
  },
  {
   "cell_type": "markdown",
   "metadata": {},
   "source": [
    "Now it's your turn.  Select only movies with a genre of `Drama`."
   ]
  },
  {
   "cell_type": "code",
   "execution_count": 15,
   "metadata": {},
   "outputs": [
    {
     "data": {
      "text/html": [
       "<div>\n",
       "<style scoped>\n",
       "    .dataframe tbody tr th:only-of-type {\n",
       "        vertical-align: middle;\n",
       "    }\n",
       "\n",
       "    .dataframe tbody tr th {\n",
       "        vertical-align: top;\n",
       "    }\n",
       "\n",
       "    .dataframe thead th {\n",
       "        text-align: right;\n",
       "    }\n",
       "</style>\n",
       "<table border=\"1\" class=\"dataframe\">\n",
       "  <thead>\n",
       "    <tr style=\"text-align: right;\">\n",
       "      <th></th>\n",
       "      <th>title</th>\n",
       "      <th>genre</th>\n",
       "      <th>budget</th>\n",
       "      <th>runtime</th>\n",
       "      <th>year</th>\n",
       "      <th>month</th>\n",
       "      <th>revenue</th>\n",
       "    </tr>\n",
       "  </thead>\n",
       "  <tbody>\n",
       "    <tr>\n",
       "      <th>25</th>\n",
       "      <td>Titanic</td>\n",
       "      <td>Drama</td>\n",
       "      <td>200000000</td>\n",
       "      <td>194.0</td>\n",
       "      <td>1997</td>\n",
       "      <td>11</td>\n",
       "      <td>1845034188</td>\n",
       "    </tr>\n",
       "    <tr>\n",
       "      <th>49</th>\n",
       "      <td>The Great Gatsby</td>\n",
       "      <td>Drama</td>\n",
       "      <td>105000000</td>\n",
       "      <td>143.0</td>\n",
       "      <td>2013</td>\n",
       "      <td>5</td>\n",
       "      <td>351040419</td>\n",
       "    </tr>\n",
       "    <tr>\n",
       "      <th>65</th>\n",
       "      <td>The Dark Knight</td>\n",
       "      <td>Drama</td>\n",
       "      <td>185000000</td>\n",
       "      <td>152.0</td>\n",
       "      <td>2008</td>\n",
       "      <td>7</td>\n",
       "      <td>1004558444</td>\n",
       "    </tr>\n",
       "    <tr>\n",
       "      <th>77</th>\n",
       "      <td>Inside Out</td>\n",
       "      <td>Drama</td>\n",
       "      <td>175000000</td>\n",
       "      <td>94.0</td>\n",
       "      <td>2015</td>\n",
       "      <td>6</td>\n",
       "      <td>857611174</td>\n",
       "    </tr>\n",
       "    <tr>\n",
       "      <th>84</th>\n",
       "      <td>47 Ronin</td>\n",
       "      <td>Drama</td>\n",
       "      <td>175000000</td>\n",
       "      <td>119.0</td>\n",
       "      <td>2013</td>\n",
       "      <td>12</td>\n",
       "      <td>150962475</td>\n",
       "    </tr>\n",
       "    <tr>\n",
       "      <th>...</th>\n",
       "      <td>...</td>\n",
       "      <td>...</td>\n",
       "      <td>...</td>\n",
       "      <td>...</td>\n",
       "      <td>...</td>\n",
       "      <td>...</td>\n",
       "      <td>...</td>\n",
       "    </tr>\n",
       "    <tr>\n",
       "      <th>1960</th>\n",
       "      <td>Rocky Balboa</td>\n",
       "      <td>Drama</td>\n",
       "      <td>24000000</td>\n",
       "      <td>102.0</td>\n",
       "      <td>2006</td>\n",
       "      <td>12</td>\n",
       "      <td>155721132</td>\n",
       "    </tr>\n",
       "    <tr>\n",
       "      <th>1965</th>\n",
       "      <td>Footloose</td>\n",
       "      <td>Drama</td>\n",
       "      <td>8200000</td>\n",
       "      <td>107.0</td>\n",
       "      <td>1984</td>\n",
       "      <td>2</td>\n",
       "      <td>80035402</td>\n",
       "    </tr>\n",
       "    <tr>\n",
       "      <th>1974</th>\n",
       "      <td>Girl, Interrupted</td>\n",
       "      <td>Drama</td>\n",
       "      <td>40000000</td>\n",
       "      <td>127.0</td>\n",
       "      <td>1999</td>\n",
       "      <td>12</td>\n",
       "      <td>0</td>\n",
       "    </tr>\n",
       "    <tr>\n",
       "      <th>1982</th>\n",
       "      <td>Beyond the Sea</td>\n",
       "      <td>Drama</td>\n",
       "      <td>23000000</td>\n",
       "      <td>118.0</td>\n",
       "      <td>2004</td>\n",
       "      <td>12</td>\n",
       "      <td>0</td>\n",
       "    </tr>\n",
       "    <tr>\n",
       "      <th>1994</th>\n",
       "      <td>The Ides of March</td>\n",
       "      <td>Drama</td>\n",
       "      <td>12500000</td>\n",
       "      <td>101.0</td>\n",
       "      <td>2011</td>\n",
       "      <td>9</td>\n",
       "      <td>75993061</td>\n",
       "    </tr>\n",
       "  </tbody>\n",
       "</table>\n",
       "<p>365 rows × 7 columns</p>\n",
       "</div>"
      ],
      "text/plain": [
       "                  title  genre     budget  runtime  year  month     revenue\n",
       "25              Titanic  Drama  200000000    194.0  1997     11  1845034188\n",
       "49     The Great Gatsby  Drama  105000000    143.0  2013      5   351040419\n",
       "65      The Dark Knight  Drama  185000000    152.0  2008      7  1004558444\n",
       "77           Inside Out  Drama  175000000     94.0  2015      6   857611174\n",
       "84             47 Ronin  Drama  175000000    119.0  2013     12   150962475\n",
       "...                 ...    ...        ...      ...   ...    ...         ...\n",
       "1960       Rocky Balboa  Drama   24000000    102.0  2006     12   155721132\n",
       "1965          Footloose  Drama    8200000    107.0  1984      2    80035402\n",
       "1974  Girl, Interrupted  Drama   40000000    127.0  1999     12           0\n",
       "1982     Beyond the Sea  Drama   23000000    118.0  2004     12           0\n",
       "1994  The Ides of March  Drama   12500000    101.0  2011      9    75993061\n",
       "\n",
       "[365 rows x 7 columns]"
      ]
     },
     "execution_count": 15,
     "metadata": {},
     "output_type": "execute_result"
    }
   ],
   "source": [
    "drama_df = df[df['genre'] == 'Drama']\n",
    "\n",
    "drama_df\n",
    "\n",
    "# \ttitle\tgenre\tbudget\truntime\tyear\tmonth\trevenue\n",
    "# 25\tTitanic\tDrama\t200000000\t194.0\t1997\t11\t1845034188\n",
    "# 49\tThe Great Gatsby\tDrama\t105000000\t143.0\t2013\t5\t351040419\n",
    "# 65\tThe Dark Knight\tDrama\t185000000\t152.0\t2008\t7\t1004558444\n",
    "# 77\tInside Out\tDrama\t175000000\t94.0\t2015\t6\t857611174\n",
    "# 84\t47 Ronin\tDrama\t175000000\t119.0\t2013\t12\t150962475\n",
    "# ...\t...\t...\t...\t...\t...\t...\t...\n",
    "# 1960\tRocky Balboa\tDrama\t24000000\t102.0\t2006\t12\t155721132\n",
    "# 1965\tFootloose\tDrama\t8200000\t107.0\t1984\t2\t80035402\n",
    "# 1974\tGirl, Interrupted\tDrama\t40000000\t127.0\t1999\t12\t0\n",
    "# 1982\tBeyond the Sea\tDrama\t23000000\t118.0\t2004\t12\t0\n",
    "# 1994\tThe Ides of March\tDrama\t12500000\t101.0\t2011\t9\t75993061\n",
    "# 365 rows × 7 columns"
   ]
  },
  {
   "cell_type": "markdown",
   "metadata": {},
   "source": [
    "Now let's plot data about our Drama movies.  We can plot our data about genre movies with the following."
   ]
  },
  {
   "cell_type": "code",
   "execution_count": 17,
   "metadata": {},
   "outputs": [
    {
     "data": {
      "text/plain": [
       "<matplotlib.axes._subplots.AxesSubplot at 0x123fb9430>"
      ]
     },
     "execution_count": 17,
     "metadata": {},
     "output_type": "execute_result"
    },
    {
     "data": {
      "image/png": "[encoded data removed]",
      "text/plain": [
       "<Figure size 432x288 with 1 Axes>"
      ]
     },
     "metadata": {
      "needs_background": "light"
     },
     "output_type": "display_data"
    }
   ],
   "source": [
    "drama_df.plot.scatter('year', 'revenue')"
   ]
  },
  {
   "cell_type": "markdown",
   "metadata": {},
   "source": [
    "Plot how the year and budget values in the cell below for our drama movies."
   ]
  },
  {
   "cell_type": "code",
   "execution_count": 18,
   "metadata": {},
   "outputs": [
    {
     "data": {
      "text/plain": [
       "<matplotlib.axes._subplots.AxesSubplot at 0x124267a90>"
      ]
     },
     "execution_count": 18,
     "metadata": {},
     "output_type": "execute_result"
    },
    {
     "data": {
      "image/png": "[encoded data removed]",
      "text/plain": [
       "<Figure size 432x288 with 1 Axes>"
      ]
     },
     "metadata": {
      "needs_background": "light"
     },
     "output_type": "display_data"
    }
   ],
   "source": [
    "drama_df.plot.scatter('year', 'budget')"
   ]
  },
  {
   "cell_type": "markdown",
   "metadata": {},
   "source": [
    "> Answer: <img src=\"./drama-movies-plot.png\" width=\"40%\">"
   ]
  },
  {
   "cell_type": "markdown",
   "metadata": {},
   "source": [
    "Now let's see if we can narrow down the range of years that we are looking at.  We'll start by selecting drama movies from a single year.\n",
    "\n",
    "Below we have our dataframe of drama movies again.  From `drama_df`, see if we can select just the movies from 2011."
   ]
  },
  {
   "cell_type": "code",
   "execution_count": 22,
   "metadata": {},
   "outputs": [],
   "source": [
    "drama_df_2011 = drama_df[drama_df['year'] == 2011]"
   ]
  },
  {
   "cell_type": "code",
   "execution_count": 25,
   "metadata": {},
   "outputs": [
    {
     "data": {
      "text/html": [
       "<div>\n",
       "<style scoped>\n",
       "    .dataframe tbody tr th:only-of-type {\n",
       "        vertical-align: middle;\n",
       "    }\n",
       "\n",
       "    .dataframe tbody tr th {\n",
       "        vertical-align: top;\n",
       "    }\n",
       "\n",
       "    .dataframe thead th {\n",
       "        text-align: right;\n",
       "    }\n",
       "</style>\n",
       "<table border=\"1\" class=\"dataframe\">\n",
       "  <thead>\n",
       "    <tr style=\"text-align: right;\">\n",
       "      <th></th>\n",
       "      <th>title</th>\n",
       "      <th>genre</th>\n",
       "      <th>budget</th>\n",
       "      <th>runtime</th>\n",
       "      <th>year</th>\n",
       "      <th>month</th>\n",
       "      <th>revenue</th>\n",
       "    </tr>\n",
       "  </thead>\n",
       "  <tbody>\n",
       "    <tr>\n",
       "      <th>317</th>\n",
       "      <td>The Flowers of War</td>\n",
       "      <td>Drama</td>\n",
       "      <td>94000000</td>\n",
       "      <td>145.0</td>\n",
       "      <td>2011</td>\n",
       "      <td>12</td>\n",
       "      <td>95311434</td>\n",
       "    </tr>\n",
       "    <tr>\n",
       "      <th>406</th>\n",
       "      <td>Arthur Christmas</td>\n",
       "      <td>Drama</td>\n",
       "      <td>0</td>\n",
       "      <td>97.0</td>\n",
       "      <td>2011</td>\n",
       "      <td>2</td>\n",
       "      <td>0</td>\n",
       "    </tr>\n",
       "    <tr>\n",
       "      <th>585</th>\n",
       "      <td>War Horse</td>\n",
       "      <td>Drama</td>\n",
       "      <td>66000000</td>\n",
       "      <td>146.0</td>\n",
       "      <td>2011</td>\n",
       "      <td>12</td>\n",
       "      <td>177584879</td>\n",
       "    </tr>\n",
       "    <tr>\n",
       "      <th>720</th>\n",
       "      <td>Contagion</td>\n",
       "      <td>Drama</td>\n",
       "      <td>60000000</td>\n",
       "      <td>106.0</td>\n",
       "      <td>2011</td>\n",
       "      <td>9</td>\n",
       "      <td>137551594</td>\n",
       "    </tr>\n",
       "    <tr>\n",
       "      <th>921</th>\n",
       "      <td>We Bought a Zoo</td>\n",
       "      <td>Drama</td>\n",
       "      <td>50000000</td>\n",
       "      <td>124.0</td>\n",
       "      <td>2011</td>\n",
       "      <td>12</td>\n",
       "      <td>120081841</td>\n",
       "    </tr>\n",
       "  </tbody>\n",
       "</table>\n",
       "</div>"
      ],
      "text/plain": [
       "                  title  genre    budget  runtime  year  month    revenue\n",
       "317  The Flowers of War  Drama  94000000    145.0  2011     12   95311434\n",
       "406    Arthur Christmas  Drama         0     97.0  2011      2          0\n",
       "585           War Horse  Drama  66000000    146.0  2011     12  177584879\n",
       "720           Contagion  Drama  60000000    106.0  2011      9  137551594\n",
       "921     We Bought a Zoo  Drama  50000000    124.0  2011     12  120081841"
      ]
     },
     "execution_count": 25,
     "metadata": {},
     "output_type": "execute_result"
    }
   ],
   "source": [
    "drama_df_2011.head()\n",
    "\n",
    "# \ttitle\tgenre\tbudget\truntime\tyear\tmonth\trevenue\n",
    "# 317\tThe Flowers of War\tDrama\t94000000\t145.0\t2011\t12\t95311434\n",
    "# 406\tArthur Christmas\tDrama\t0\t97.0\t2011\t2\t0\n",
    "# 585\tWar Horse\tDrama\t66000000\t146.0\t2011\t12\t177584879\n",
    "# 720\tContagion\tDrama\t60000000\t106.0\t2011\t9\t137551594\n",
    "# 921\tWe Bought a Zoo\tDrama\t50000000\t124.0\t2011\t12\t120081841"
   ]
  },
  {
   "cell_type": "markdown",
   "metadata": {},
   "source": [
    "Finally, let's select all drama movies with a year greater than $2000$.  \n",
    "\n",
    "> We can do so by using the `>` symbol instead of `==` to select movies by year."
   ]
  },
  {
   "cell_type": "code",
   "execution_count": 28,
   "metadata": {},
   "outputs": [
    {
     "data": {
      "text/html": [
       "<div>\n",
       "<style scoped>\n",
       "    .dataframe tbody tr th:only-of-type {\n",
       "        vertical-align: middle;\n",
       "    }\n",
       "\n",
       "    .dataframe tbody tr th {\n",
       "        vertical-align: top;\n",
       "    }\n",
       "\n",
       "    .dataframe thead th {\n",
       "        text-align: right;\n",
       "    }\n",
       "</style>\n",
       "<table border=\"1\" class=\"dataframe\">\n",
       "  <thead>\n",
       "    <tr style=\"text-align: right;\">\n",
       "      <th></th>\n",
       "      <th>title</th>\n",
       "      <th>genre</th>\n",
       "      <th>budget</th>\n",
       "      <th>runtime</th>\n",
       "      <th>year</th>\n",
       "      <th>month</th>\n",
       "      <th>revenue</th>\n",
       "    </tr>\n",
       "  </thead>\n",
       "  <tbody>\n",
       "    <tr>\n",
       "      <th>49</th>\n",
       "      <td>The Great Gatsby</td>\n",
       "      <td>Drama</td>\n",
       "      <td>105000000</td>\n",
       "      <td>143.0</td>\n",
       "      <td>2013</td>\n",
       "      <td>5</td>\n",
       "      <td>351040419</td>\n",
       "    </tr>\n",
       "    <tr>\n",
       "      <th>65</th>\n",
       "      <td>The Dark Knight</td>\n",
       "      <td>Drama</td>\n",
       "      <td>185000000</td>\n",
       "      <td>152.0</td>\n",
       "      <td>2008</td>\n",
       "      <td>7</td>\n",
       "      <td>1004558444</td>\n",
       "    </tr>\n",
       "    <tr>\n",
       "      <th>77</th>\n",
       "      <td>Inside Out</td>\n",
       "      <td>Drama</td>\n",
       "      <td>175000000</td>\n",
       "      <td>94.0</td>\n",
       "      <td>2015</td>\n",
       "      <td>6</td>\n",
       "      <td>857611174</td>\n",
       "    </tr>\n",
       "    <tr>\n",
       "      <th>84</th>\n",
       "      <td>47 Ronin</td>\n",
       "      <td>Drama</td>\n",
       "      <td>175000000</td>\n",
       "      <td>119.0</td>\n",
       "      <td>2013</td>\n",
       "      <td>12</td>\n",
       "      <td>150962475</td>\n",
       "    </tr>\n",
       "    <tr>\n",
       "      <th>116</th>\n",
       "      <td>I Am Legend</td>\n",
       "      <td>Drama</td>\n",
       "      <td>150000000</td>\n",
       "      <td>101.0</td>\n",
       "      <td>2007</td>\n",
       "      <td>12</td>\n",
       "      <td>585349010</td>\n",
       "    </tr>\n",
       "  </tbody>\n",
       "</table>\n",
       "</div>"
      ],
      "text/plain": [
       "                title  genre     budget  runtime  year  month     revenue\n",
       "49   The Great Gatsby  Drama  105000000    143.0  2013      5   351040419\n",
       "65    The Dark Knight  Drama  185000000    152.0  2008      7  1004558444\n",
       "77         Inside Out  Drama  175000000     94.0  2015      6   857611174\n",
       "84           47 Ronin  Drama  175000000    119.0  2013     12   150962475\n",
       "116       I Am Legend  Drama  150000000    101.0  2007     12   585349010"
      ]
     },
     "execution_count": 28,
     "metadata": {},
     "output_type": "execute_result"
    }
   ],
   "source": [
    "drama_df_post_2000 = drama_df[drama_df['year'] > 2000]\n",
    "\n",
    "drama_df_post_2000.head()\n",
    "\n",
    "# \ttitle\tgenre\tbudget\truntime\tyear\tmonth\trevenue\n",
    "# 49\tThe Great Gatsby\tDrama\t105000000\t143.0\t2013\t5\t351040419\n",
    "# 65\tThe Dark Knight\tDrama\t185000000\t152.0\t2008\t7\t1004558444\n",
    "# 77\tInside Out\tDrama\t175000000\t94.0\t2015\t6\t857611174\n",
    "# 84\t47 Ronin\tDrama\t175000000\t119.0\t2013\t12\t150962475\n",
    "# 116\tI Am Legend\tDrama\t150000000\t101.0\t2007\t12\t585349010"
   ]
  },
  {
   "cell_type": "markdown",
   "metadata": {},
   "source": [
    "And now let's just plot the year and revenue of drama movies from after 2000."
   ]
  },
  {
   "cell_type": "code",
   "execution_count": 31,
   "metadata": {},
   "outputs": [
    {
     "data": {
      "text/plain": [
       "<matplotlib.axes._subplots.AxesSubplot at 0x1243a1b20>"
      ]
     },
     "execution_count": 31,
     "metadata": {},
     "output_type": "execute_result"
    },
    {
     "data": {
      "image/png": "[encoded data removed]",
      "text/plain": [
       "<Figure size 432x288 with 1 Axes>"
      ]
     },
     "metadata": {
      "needs_background": "light"
     },
     "output_type": "display_data"
    }
   ],
   "source": [
    "drama_df_post_2000.plot.scatter('year', 'revenue')"
   ]
  },
  {
   "cell_type": "markdown",
   "metadata": {},
   "source": [
    "So it does not appear there is a significant increase revenue of drama movies as movie beyond 2000.  \n",
    "\n",
    "> However, we would have to use further analysis before drawing any conclusions."
   ]
  },
  {
   "cell_type": "markdown",
   "metadata": {},
   "source": [
    "### Summary"
   ]
  },
  {
   "cell_type": "code",
   "execution_count": null,
   "metadata": {},
   "outputs": [],
   "source": [
    "In this lesson, we saw how to "
   ]
  }
 ],
 "metadata": {
  "kernelspec": {
   "display_name": "Python 3",
   "language": "python",
   "name": "python3"
  },
  "language_info": {
   "codemirror_mode": {
    "name": "ipython",
    "version": 3
   },
   "file_extension": ".py",
   "mimetype": "text/x-python",
   "name": "python",
   "nbconvert_exporter": "python",
   "pygments_lexer": "ipython3",
   "version": "3.8.3"
  }
 },
 "nbformat": 4,
 "nbformat_minor": 4
}
