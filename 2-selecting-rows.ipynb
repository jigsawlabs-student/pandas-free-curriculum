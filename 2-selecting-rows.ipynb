{
 "cells": [
  {
   "cell_type": "markdown",
   "metadata": {},
   "source": [
    "# Selecting Rows"
   ]
  },
  {
   "cell_type": "markdown",
   "metadata": {},
   "source": [
    "### Introduction"
   ]
  },
  {
   "cell_type": "markdown",
   "metadata": {},
   "source": [
    "Now that we know how to work with a dataframe and select individual columns, it's time for us to see if we can begin to understand our data."
   ]
  },
  {
   "cell_type": "markdown",
   "metadata": {},
   "source": [
    "> For example, in our FEMA datasets, are we looking at data from all of the states?  \n",
    "\n",
    "The answer to these questions will have an impact on how we interpret our results. "
   ]
  },
  {
   "cell_type": "markdown",
   "metadata": {},
   "source": [
    "### Exploring a DataFrame"
   ]
  },
  {
   "cell_type": "markdown",
   "metadata": {},
   "source": [
    "So let's get a better sense of the data in our FEMA dataset.  The first thing we'll do is load up the data, and then perhaps look at the columns available."
   ]
  },
  {
   "cell_type": "code",
   "execution_count": 1,
   "metadata": {},
   "outputs": [
    {
     "data": {
      "text/html": [
       "<div>\n",
       "<style scoped>\n",
       "    .dataframe tbody tr th:only-of-type {\n",
       "        vertical-align: middle;\n",
       "    }\n",
       "\n",
       "    .dataframe tbody tr th {\n",
       "        vertical-align: top;\n",
       "    }\n",
       "\n",
       "    .dataframe thead th {\n",
       "        text-align: right;\n",
       "    }\n",
       "</style>\n",
       "<table border=\"1\" class=\"dataframe\">\n",
       "  <thead>\n",
       "    <tr style=\"text-align: right;\">\n",
       "      <th></th>\n",
       "      <th>reportedCity</th>\n",
       "      <th>dateOfLoss</th>\n",
       "      <th>elevatedBuildingIndicator</th>\n",
       "      <th>floodZone</th>\n",
       "      <th>latitude</th>\n",
       "      <th>longitude</th>\n",
       "      <th>lowestFloodElevation</th>\n",
       "      <th>amountPaidOnBuildingClaim</th>\n",
       "      <th>amountPaidOnContentsClaim</th>\n",
       "      <th>yearofLoss</th>\n",
       "      <th>reportedZipcode</th>\n",
       "      <th>id</th>\n",
       "    </tr>\n",
       "  </thead>\n",
       "  <tbody>\n",
       "    <tr>\n",
       "      <th>0</th>\n",
       "      <td>HOUSTON</td>\n",
       "      <td>2017-08-27T00:00:00.000Z</td>\n",
       "      <td>False</td>\n",
       "      <td>X</td>\n",
       "      <td>29.7</td>\n",
       "      <td>-95.5</td>\n",
       "      <td>NaN</td>\n",
       "      <td>195857.43</td>\n",
       "      <td>0.0</td>\n",
       "      <td>2017-01-01T00:00:00.000Z</td>\n",
       "      <td>77096</td>\n",
       "      <td>5e398d6774cbd479fc898dea</td>\n",
       "    </tr>\n",
       "    <tr>\n",
       "      <th>1</th>\n",
       "      <td>HOUSTON</td>\n",
       "      <td>2008-09-12T00:00:00.000Z</td>\n",
       "      <td>False</td>\n",
       "      <td>X</td>\n",
       "      <td>29.5</td>\n",
       "      <td>-95.1</td>\n",
       "      <td>NaN</td>\n",
       "      <td>0.00</td>\n",
       "      <td>0.0</td>\n",
       "      <td>2008-01-01T00:00:00.000Z</td>\n",
       "      <td>77058</td>\n",
       "      <td>5e398d6774cbd479fc898dfc</td>\n",
       "    </tr>\n",
       "    <tr>\n",
       "      <th>2</th>\n",
       "      <td>HOUSTON</td>\n",
       "      <td>2004-06-29T00:00:00.000Z</td>\n",
       "      <td>False</td>\n",
       "      <td>X</td>\n",
       "      <td>29.8</td>\n",
       "      <td>-95.6</td>\n",
       "      <td>NaN</td>\n",
       "      <td>1420.89</td>\n",
       "      <td>0.0</td>\n",
       "      <td>2004-01-01T00:00:00.000Z</td>\n",
       "      <td>77042</td>\n",
       "      <td>5e398d6774cbd479fc898e4b</td>\n",
       "    </tr>\n",
       "  </tbody>\n",
       "</table>\n",
       "</div>"
      ],
      "text/plain": [
       "  reportedCity                dateOfLoss elevatedBuildingIndicator floodZone  \\\n",
       "0      HOUSTON  2017-08-27T00:00:00.000Z                     False         X   \n",
       "1      HOUSTON  2008-09-12T00:00:00.000Z                     False         X   \n",
       "2      HOUSTON  2004-06-29T00:00:00.000Z                     False         X   \n",
       "\n",
       "   latitude  longitude  lowestFloodElevation  amountPaidOnBuildingClaim  \\\n",
       "0      29.7      -95.5                   NaN                  195857.43   \n",
       "1      29.5      -95.1                   NaN                       0.00   \n",
       "2      29.8      -95.6                   NaN                    1420.89   \n",
       "\n",
       "   amountPaidOnContentsClaim                yearofLoss  reportedZipcode  \\\n",
       "0                        0.0  2017-01-01T00:00:00.000Z            77096   \n",
       "1                        0.0  2008-01-01T00:00:00.000Z            77058   \n",
       "2                        0.0  2004-01-01T00:00:00.000Z            77042   \n",
       "\n",
       "                         id  \n",
       "0  5e398d6774cbd479fc898dea  \n",
       "1  5e398d6774cbd479fc898dfc  \n",
       "2  5e398d6774cbd479fc898e4b  "
      ]
     },
     "execution_count": 1,
     "metadata": {},
     "output_type": "execute_result"
    }
   ],
   "source": [
    "import pandas as pd\n",
    "url = \"https://raw.githubusercontent.com/jigsawlabs-student/pandas-free-curriculum/master/houston_claims.csv\"\n",
    "claims_df = pd.read_csv(url, index_col = 0)\n",
    "claims_df[:3]"
   ]
  },
  {
   "cell_type": "code",
   "execution_count": 2,
   "metadata": {},
   "outputs": [
    {
     "data": {
      "text/plain": [
       "Index(['reportedCity', 'dateOfLoss', 'elevatedBuildingIndicator', 'floodZone',\n",
       "       'latitude', 'longitude', 'lowestFloodElevation',\n",
       "       'amountPaidOnBuildingClaim', 'amountPaidOnContentsClaim', 'yearofLoss',\n",
       "       'reportedZipcode', 'id'],\n",
       "      dtype='object')"
      ]
     },
     "execution_count": 2,
     "metadata": {},
     "output_type": "execute_result"
    }
   ],
   "source": [
    "claims_df.columns"
   ]
  },
  {
   "cell_type": "markdown",
   "metadata": {},
   "source": [
    "### Viewing a subset of rows"
   ]
  },
  {
   "cell_type": "markdown",
   "metadata": {},
   "source": [
    "It may be difficult to understand what information is in these columns so perhaps we want to look at some of the initial values, which we can do with the `head` or `tail` methods."
   ]
  },
  {
   "cell_type": "code",
   "execution_count": 5,
   "metadata": {},
   "outputs": [
    {
     "data": {
      "text/html": [
       "<div>\n",
       "<style scoped>\n",
       "    .dataframe tbody tr th:only-of-type {\n",
       "        vertical-align: middle;\n",
       "    }\n",
       "\n",
       "    .dataframe tbody tr th {\n",
       "        vertical-align: top;\n",
       "    }\n",
       "\n",
       "    .dataframe thead th {\n",
       "        text-align: right;\n",
       "    }\n",
       "</style>\n",
       "<table border=\"1\" class=\"dataframe\">\n",
       "  <thead>\n",
       "    <tr style=\"text-align: right;\">\n",
       "      <th></th>\n",
       "      <th>reportedCity</th>\n",
       "      <th>dateOfLoss</th>\n",
       "      <th>elevatedBuildingIndicator</th>\n",
       "      <th>floodZone</th>\n",
       "      <th>latitude</th>\n",
       "      <th>longitude</th>\n",
       "      <th>lowestFloodElevation</th>\n",
       "      <th>amountPaidOnBuildingClaim</th>\n",
       "      <th>amountPaidOnContentsClaim</th>\n",
       "      <th>yearofLoss</th>\n",
       "      <th>reportedZipcode</th>\n",
       "      <th>id</th>\n",
       "    </tr>\n",
       "  </thead>\n",
       "  <tbody>\n",
       "    <tr>\n",
       "      <th>0</th>\n",
       "      <td>HOUSTON</td>\n",
       "      <td>2017-08-27T00:00:00.000Z</td>\n",
       "      <td>False</td>\n",
       "      <td>X</td>\n",
       "      <td>29.7</td>\n",
       "      <td>-95.5</td>\n",
       "      <td>NaN</td>\n",
       "      <td>195857.43</td>\n",
       "      <td>0.0</td>\n",
       "      <td>2017-01-01T00:00:00.000Z</td>\n",
       "      <td>77096</td>\n",
       "      <td>5e398d6774cbd479fc898dea</td>\n",
       "    </tr>\n",
       "    <tr>\n",
       "      <th>1</th>\n",
       "      <td>HOUSTON</td>\n",
       "      <td>2008-09-12T00:00:00.000Z</td>\n",
       "      <td>False</td>\n",
       "      <td>X</td>\n",
       "      <td>29.5</td>\n",
       "      <td>-95.1</td>\n",
       "      <td>NaN</td>\n",
       "      <td>0.00</td>\n",
       "      <td>0.0</td>\n",
       "      <td>2008-01-01T00:00:00.000Z</td>\n",
       "      <td>77058</td>\n",
       "      <td>5e398d6774cbd479fc898dfc</td>\n",
       "    </tr>\n",
       "  </tbody>\n",
       "</table>\n",
       "</div>"
      ],
      "text/plain": [
       "  reportedCity                dateOfLoss elevatedBuildingIndicator floodZone  \\\n",
       "0      HOUSTON  2017-08-27T00:00:00.000Z                     False         X   \n",
       "1      HOUSTON  2008-09-12T00:00:00.000Z                     False         X   \n",
       "\n",
       "   latitude  longitude  lowestFloodElevation  amountPaidOnBuildingClaim  \\\n",
       "0      29.7      -95.5                   NaN                  195857.43   \n",
       "1      29.5      -95.1                   NaN                       0.00   \n",
       "\n",
       "   amountPaidOnContentsClaim                yearofLoss  reportedZipcode  \\\n",
       "0                        0.0  2017-01-01T00:00:00.000Z            77096   \n",
       "1                        0.0  2008-01-01T00:00:00.000Z            77058   \n",
       "\n",
       "                         id  \n",
       "0  5e398d6774cbd479fc898dea  \n",
       "1  5e398d6774cbd479fc898dfc  "
      ]
     },
     "execution_count": 5,
     "metadata": {},
     "output_type": "execute_result"
    }
   ],
   "source": [
    "claims_df.head(2)"
   ]
  },
  {
   "cell_type": "code",
   "execution_count": 6,
   "metadata": {},
   "outputs": [
    {
     "data": {
      "text/html": [
       "<div>\n",
       "<style scoped>\n",
       "    .dataframe tbody tr th:only-of-type {\n",
       "        vertical-align: middle;\n",
       "    }\n",
       "\n",
       "    .dataframe tbody tr th {\n",
       "        vertical-align: top;\n",
       "    }\n",
       "\n",
       "    .dataframe thead th {\n",
       "        text-align: right;\n",
       "    }\n",
       "</style>\n",
       "<table border=\"1\" class=\"dataframe\">\n",
       "  <thead>\n",
       "    <tr style=\"text-align: right;\">\n",
       "      <th></th>\n",
       "      <th>reportedCity</th>\n",
       "      <th>dateOfLoss</th>\n",
       "      <th>elevatedBuildingIndicator</th>\n",
       "      <th>floodZone</th>\n",
       "      <th>latitude</th>\n",
       "      <th>longitude</th>\n",
       "      <th>lowestFloodElevation</th>\n",
       "      <th>amountPaidOnBuildingClaim</th>\n",
       "      <th>amountPaidOnContentsClaim</th>\n",
       "      <th>yearofLoss</th>\n",
       "      <th>reportedZipcode</th>\n",
       "      <th>id</th>\n",
       "    </tr>\n",
       "  </thead>\n",
       "  <tbody>\n",
       "    <tr>\n",
       "      <th>19998</th>\n",
       "      <td>HOUSTON</td>\n",
       "      <td>2016-04-18T00:00:00.000Z</td>\n",
       "      <td>False</td>\n",
       "      <td>AE</td>\n",
       "      <td>29.9</td>\n",
       "      <td>-95.5</td>\n",
       "      <td>94.0</td>\n",
       "      <td>34746.10</td>\n",
       "      <td>7156.78</td>\n",
       "      <td>2016-01-01T00:00:00.000Z</td>\n",
       "      <td>77040</td>\n",
       "      <td>5e398dac74cbd479fc8e448a</td>\n",
       "    </tr>\n",
       "    <tr>\n",
       "      <th>19999</th>\n",
       "      <td>HOUSTON</td>\n",
       "      <td>2017-08-26T00:00:00.000Z</td>\n",
       "      <td>False</td>\n",
       "      <td>X</td>\n",
       "      <td>29.7</td>\n",
       "      <td>-95.3</td>\n",
       "      <td>NaN</td>\n",
       "      <td>28863.65</td>\n",
       "      <td>30000.00</td>\n",
       "      <td>2017-01-01T00:00:00.000Z</td>\n",
       "      <td>77087</td>\n",
       "      <td>5e398dac74cbd479fc8e449b</td>\n",
       "    </tr>\n",
       "  </tbody>\n",
       "</table>\n",
       "</div>"
      ],
      "text/plain": [
       "      reportedCity                dateOfLoss elevatedBuildingIndicator  \\\n",
       "19998      HOUSTON  2016-04-18T00:00:00.000Z                     False   \n",
       "19999      HOUSTON  2017-08-26T00:00:00.000Z                     False   \n",
       "\n",
       "      floodZone  latitude  longitude  lowestFloodElevation  \\\n",
       "19998        AE      29.9      -95.5                  94.0   \n",
       "19999         X      29.7      -95.3                   NaN   \n",
       "\n",
       "       amountPaidOnBuildingClaim  amountPaidOnContentsClaim  \\\n",
       "19998                   34746.10                    7156.78   \n",
       "19999                   28863.65                   30000.00   \n",
       "\n",
       "                     yearofLoss  reportedZipcode                        id  \n",
       "19998  2016-01-01T00:00:00.000Z            77040  5e398dac74cbd479fc8e448a  \n",
       "19999  2017-01-01T00:00:00.000Z            77087  5e398dac74cbd479fc8e449b  "
      ]
     },
     "execution_count": 6,
     "metadata": {},
     "output_type": "execute_result"
    }
   ],
   "source": [
    "claims_df.tail(2)"
   ]
  },
  {
   "cell_type": "markdown",
   "metadata": {},
   "source": [
    "### Filtering Rows"
   ]
  },
  {
   "cell_type": "markdown",
   "metadata": {},
   "source": [
    "Ok, now that we know how to select the first and last rows of data, let's see if we can select rows by a certain criteria.  For example, let's start by selecting only the counties in Texas with the zipcode `77096`."
   ]
  },
  {
   "cell_type": "markdown",
   "metadata": {},
   "source": [
    "> We can do so with the following."
   ]
  },
  {
   "cell_type": "code",
   "execution_count": 12,
   "metadata": {},
   "outputs": [],
   "source": [
    "selected_claims = claims_df[claims_df['reportedZipcode'] == 77096]"
   ]
  },
  {
   "cell_type": "code",
   "execution_count": 13,
   "metadata": {},
   "outputs": [
    {
     "data": {
      "text/html": [
       "<div>\n",
       "<style scoped>\n",
       "    .dataframe tbody tr th:only-of-type {\n",
       "        vertical-align: middle;\n",
       "    }\n",
       "\n",
       "    .dataframe tbody tr th {\n",
       "        vertical-align: top;\n",
       "    }\n",
       "\n",
       "    .dataframe thead th {\n",
       "        text-align: right;\n",
       "    }\n",
       "</style>\n",
       "<table border=\"1\" class=\"dataframe\">\n",
       "  <thead>\n",
       "    <tr style=\"text-align: right;\">\n",
       "      <th></th>\n",
       "      <th>reportedCity</th>\n",
       "      <th>dateOfLoss</th>\n",
       "      <th>elevatedBuildingIndicator</th>\n",
       "      <th>floodZone</th>\n",
       "      <th>latitude</th>\n",
       "      <th>longitude</th>\n",
       "      <th>lowestFloodElevation</th>\n",
       "      <th>amountPaidOnBuildingClaim</th>\n",
       "      <th>amountPaidOnContentsClaim</th>\n",
       "      <th>yearofLoss</th>\n",
       "      <th>reportedZipcode</th>\n",
       "      <th>id</th>\n",
       "    </tr>\n",
       "  </thead>\n",
       "  <tbody>\n",
       "    <tr>\n",
       "      <th>117</th>\n",
       "      <td>HOUSTON</td>\n",
       "      <td>2001-06-08T00:00:00.000Z</td>\n",
       "      <td>False</td>\n",
       "      <td>X</td>\n",
       "      <td>29.9</td>\n",
       "      <td>-95.6</td>\n",
       "      <td>NaN</td>\n",
       "      <td>845.09</td>\n",
       "      <td>0.0</td>\n",
       "      <td>2001-01-01T00:00:00.000Z</td>\n",
       "      <td>77040</td>\n",
       "      <td>5e398d6874cbd479fc8997e2</td>\n",
       "    </tr>\n",
       "    <tr>\n",
       "      <th>144</th>\n",
       "      <td>HOUSTON</td>\n",
       "      <td>2001-06-08T00:00:00.000Z</td>\n",
       "      <td>False</td>\n",
       "      <td>AE</td>\n",
       "      <td>29.9</td>\n",
       "      <td>-95.6</td>\n",
       "      <td>105.0</td>\n",
       "      <td>94409.03</td>\n",
       "      <td>20300.0</td>\n",
       "      <td>2001-01-01T00:00:00.000Z</td>\n",
       "      <td>77040</td>\n",
       "      <td>5e398d6874cbd479fc899905</td>\n",
       "    </tr>\n",
       "  </tbody>\n",
       "</table>\n",
       "</div>"
      ],
      "text/plain": [
       "    reportedCity                dateOfLoss elevatedBuildingIndicator  \\\n",
       "117      HOUSTON  2001-06-08T00:00:00.000Z                     False   \n",
       "144      HOUSTON  2001-06-08T00:00:00.000Z                     False   \n",
       "\n",
       "    floodZone  latitude  longitude  lowestFloodElevation  \\\n",
       "117         X      29.9      -95.6                   NaN   \n",
       "144        AE      29.9      -95.6                 105.0   \n",
       "\n",
       "     amountPaidOnBuildingClaim  amountPaidOnContentsClaim  \\\n",
       "117                     845.09                        0.0   \n",
       "144                   94409.03                    20300.0   \n",
       "\n",
       "                   yearofLoss  reportedZipcode                        id  \n",
       "117  2001-01-01T00:00:00.000Z            77040  5e398d6874cbd479fc8997e2  \n",
       "144  2001-01-01T00:00:00.000Z            77040  5e398d6874cbd479fc899905  "
      ]
     },
     "execution_count": 13,
     "metadata": {},
     "output_type": "execute_result"
    }
   ],
   "source": [
    "selected_claims[:2]"
   ]
  },
  {
   "cell_type": "markdown",
   "metadata": {},
   "source": [
    "The above can be quite confusing, as it's really two steps combined.  Let's break it down. \n",
    "\n",
    "* The first step is to select the reportedZipcode column, and repeatedly ask the question, is the zipcode `77096`."
   ]
  },
  {
   "cell_type": "code",
   "execution_count": 15,
   "metadata": {},
   "outputs": [
    {
     "data": {
      "text/plain": [
       "0         True\n",
       "1        False\n",
       "2        False\n",
       "3        False\n",
       "4        False\n",
       "         ...  \n",
       "19995    False\n",
       "19996    False\n",
       "19997    False\n",
       "19998    False\n",
       "19999    False\n",
       "Name: reportedZipcode, Length: 20000, dtype: bool"
      ]
     },
     "execution_count": 15,
     "metadata": {},
     "output_type": "execute_result"
    }
   ],
   "source": [
    "claims_df['reportedZipcode'] == 77096"
   ]
  },
  {
   "cell_type": "markdown",
   "metadata": {},
   "source": [
    "> This returns to us a series of true or false values for each row of data. \n",
    "\n",
    "Then, if we pass this series of true or false values into the dataframe, pandas will only return the values for which the value is true, and drop any of the false values."
   ]
  },
  {
   "cell_type": "code",
   "execution_count": 16,
   "metadata": {},
   "outputs": [],
   "source": [
    "is_correct_zip = claims_df['reportedZipcode'] == 77096\n",
    "zip_claims = claims_df[is_correct_zip]"
   ]
  },
  {
   "cell_type": "code",
   "execution_count": 17,
   "metadata": {},
   "outputs": [
    {
     "data": {
      "text/html": [
       "<div>\n",
       "<style scoped>\n",
       "    .dataframe tbody tr th:only-of-type {\n",
       "        vertical-align: middle;\n",
       "    }\n",
       "\n",
       "    .dataframe tbody tr th {\n",
       "        vertical-align: top;\n",
       "    }\n",
       "\n",
       "    .dataframe thead th {\n",
       "        text-align: right;\n",
       "    }\n",
       "</style>\n",
       "<table border=\"1\" class=\"dataframe\">\n",
       "  <thead>\n",
       "    <tr style=\"text-align: right;\">\n",
       "      <th></th>\n",
       "      <th>reportedCity</th>\n",
       "      <th>dateOfLoss</th>\n",
       "      <th>elevatedBuildingIndicator</th>\n",
       "      <th>floodZone</th>\n",
       "      <th>latitude</th>\n",
       "      <th>longitude</th>\n",
       "      <th>lowestFloodElevation</th>\n",
       "      <th>amountPaidOnBuildingClaim</th>\n",
       "      <th>amountPaidOnContentsClaim</th>\n",
       "      <th>yearofLoss</th>\n",
       "      <th>reportedZipcode</th>\n",
       "      <th>id</th>\n",
       "    </tr>\n",
       "  </thead>\n",
       "  <tbody>\n",
       "    <tr>\n",
       "      <th>0</th>\n",
       "      <td>HOUSTON</td>\n",
       "      <td>2017-08-27T00:00:00.000Z</td>\n",
       "      <td>False</td>\n",
       "      <td>X</td>\n",
       "      <td>29.7</td>\n",
       "      <td>-95.5</td>\n",
       "      <td>NaN</td>\n",
       "      <td>195857.43</td>\n",
       "      <td>0.00</td>\n",
       "      <td>2017-01-01T00:00:00.000Z</td>\n",
       "      <td>77096</td>\n",
       "      <td>5e398d6774cbd479fc898dea</td>\n",
       "    </tr>\n",
       "    <tr>\n",
       "      <th>10</th>\n",
       "      <td>HOUSTON</td>\n",
       "      <td>2017-08-28T00:00:00.000Z</td>\n",
       "      <td>False</td>\n",
       "      <td>X</td>\n",
       "      <td>29.7</td>\n",
       "      <td>-95.5</td>\n",
       "      <td>NaN</td>\n",
       "      <td>231888.28</td>\n",
       "      <td>65814.56</td>\n",
       "      <td>2017-01-01T00:00:00.000Z</td>\n",
       "      <td>77096</td>\n",
       "      <td>5e398d6774cbd479fc898fb4</td>\n",
       "    </tr>\n",
       "  </tbody>\n",
       "</table>\n",
       "</div>"
      ],
      "text/plain": [
       "   reportedCity                dateOfLoss elevatedBuildingIndicator floodZone  \\\n",
       "0       HOUSTON  2017-08-27T00:00:00.000Z                     False         X   \n",
       "10      HOUSTON  2017-08-28T00:00:00.000Z                     False         X   \n",
       "\n",
       "    latitude  longitude  lowestFloodElevation  amountPaidOnBuildingClaim  \\\n",
       "0       29.7      -95.5                   NaN                  195857.43   \n",
       "10      29.7      -95.5                   NaN                  231888.28   \n",
       "\n",
       "    amountPaidOnContentsClaim                yearofLoss  reportedZipcode  \\\n",
       "0                        0.00  2017-01-01T00:00:00.000Z            77096   \n",
       "10                   65814.56  2017-01-01T00:00:00.000Z            77096   \n",
       "\n",
       "                          id  \n",
       "0   5e398d6774cbd479fc898dea  \n",
       "10  5e398d6774cbd479fc898fb4  "
      ]
     },
     "execution_count": 17,
     "metadata": {},
     "output_type": "execute_result"
    }
   ],
   "source": [
    "zip_claims[:2]"
   ]
  },
  {
   "cell_type": "markdown",
   "metadata": {},
   "source": [
    "Let's see this again.  This time selecting those rows where the latitude is 29.5. \n",
    "\n",
    "> First we select the `latitude` column and ask if the latitude equals 29.5."
   ]
  },
  {
   "cell_type": "code",
   "execution_count": 18,
   "metadata": {},
   "outputs": [
    {
     "data": {
      "text/plain": [
       "0        False\n",
       "1         True\n",
       "2        False\n",
       "3        False\n",
       "4        False\n",
       "         ...  \n",
       "19995    False\n",
       "19996    False\n",
       "19997    False\n",
       "19998    False\n",
       "19999    False\n",
       "Name: latitude, Length: 20000, dtype: bool"
      ]
     },
     "execution_count": 18,
     "metadata": {},
     "output_type": "execute_result"
    }
   ],
   "source": [
    "claims_df['latitude'] == 29.5"
   ]
  },
  {
   "cell_type": "markdown",
   "metadata": {},
   "source": [
    "Then we can pass this query into our dataframe."
   ]
  },
  {
   "cell_type": "code",
   "execution_count": 20,
   "metadata": {},
   "outputs": [
    {
     "data": {
      "text/html": [
       "<div>\n",
       "<style scoped>\n",
       "    .dataframe tbody tr th:only-of-type {\n",
       "        vertical-align: middle;\n",
       "    }\n",
       "\n",
       "    .dataframe tbody tr th {\n",
       "        vertical-align: top;\n",
       "    }\n",
       "\n",
       "    .dataframe thead th {\n",
       "        text-align: right;\n",
       "    }\n",
       "</style>\n",
       "<table border=\"1\" class=\"dataframe\">\n",
       "  <thead>\n",
       "    <tr style=\"text-align: right;\">\n",
       "      <th></th>\n",
       "      <th>reportedCity</th>\n",
       "      <th>dateOfLoss</th>\n",
       "      <th>elevatedBuildingIndicator</th>\n",
       "      <th>floodZone</th>\n",
       "      <th>latitude</th>\n",
       "      <th>longitude</th>\n",
       "      <th>lowestFloodElevation</th>\n",
       "      <th>amountPaidOnBuildingClaim</th>\n",
       "      <th>amountPaidOnContentsClaim</th>\n",
       "      <th>yearofLoss</th>\n",
       "      <th>reportedZipcode</th>\n",
       "      <th>id</th>\n",
       "    </tr>\n",
       "  </thead>\n",
       "  <tbody>\n",
       "    <tr>\n",
       "      <th>1</th>\n",
       "      <td>HOUSTON</td>\n",
       "      <td>2008-09-12T00:00:00.000Z</td>\n",
       "      <td>False</td>\n",
       "      <td>X</td>\n",
       "      <td>29.5</td>\n",
       "      <td>-95.1</td>\n",
       "      <td>NaN</td>\n",
       "      <td>0.00</td>\n",
       "      <td>0.00</td>\n",
       "      <td>2008-01-01T00:00:00.000Z</td>\n",
       "      <td>77058</td>\n",
       "      <td>5e398d6774cbd479fc898dfc</td>\n",
       "    </tr>\n",
       "    <tr>\n",
       "      <th>34</th>\n",
       "      <td>HOUSTON</td>\n",
       "      <td>2008-09-13T00:00:00.000Z</td>\n",
       "      <td>False</td>\n",
       "      <td>X</td>\n",
       "      <td>29.5</td>\n",
       "      <td>-95.1</td>\n",
       "      <td>NaN</td>\n",
       "      <td>121524.32</td>\n",
       "      <td>52966.91</td>\n",
       "      <td>2008-01-01T00:00:00.000Z</td>\n",
       "      <td>77058</td>\n",
       "      <td>5e398d6774cbd479fc899102</td>\n",
       "    </tr>\n",
       "  </tbody>\n",
       "</table>\n",
       "</div>"
      ],
      "text/plain": [
       "   reportedCity                dateOfLoss elevatedBuildingIndicator floodZone  \\\n",
       "1       HOUSTON  2008-09-12T00:00:00.000Z                     False         X   \n",
       "34      HOUSTON  2008-09-13T00:00:00.000Z                     False         X   \n",
       "\n",
       "    latitude  longitude  lowestFloodElevation  amountPaidOnBuildingClaim  \\\n",
       "1       29.5      -95.1                   NaN                       0.00   \n",
       "34      29.5      -95.1                   NaN                  121524.32   \n",
       "\n",
       "    amountPaidOnContentsClaim                yearofLoss  reportedZipcode  \\\n",
       "1                        0.00  2008-01-01T00:00:00.000Z            77058   \n",
       "34                   52966.91  2008-01-01T00:00:00.000Z            77058   \n",
       "\n",
       "                          id  \n",
       "1   5e398d6774cbd479fc898dfc  \n",
       "34  5e398d6774cbd479fc899102  "
      ]
     },
     "execution_count": 20,
     "metadata": {},
     "output_type": "execute_result"
    }
   ],
   "source": [
    "selected_latitude_claims = claims_df[claims_df['latitude'] == 29.5]\n",
    "selected_latitude_claims[:2]"
   ]
  },
  {
   "cell_type": "markdown",
   "metadata": {},
   "source": [
    "So notice that `claims_df` is listed twice.  Once to query if the latitude is `29.5`, and a second time, to select from `claims_df` where the query has a value of True."
   ]
  },
  {
   "cell_type": "markdown",
   "metadata": {},
   "source": [
    "```python\n",
    "claims_df[claims_df['latitude'] == 29.5]\n",
    "```"
   ]
  },
  {
   "cell_type": "markdown",
   "metadata": {},
   "source": [
    "### Summary"
   ]
  },
  {
   "cell_type": "markdown",
   "metadata": {},
   "source": [
    "In this lesson, we learned some basic methods for exploring data.  We saw how to get an overview of the data in an entire dataframe with the `head`, `tail` methods.\n",
    "\n",
    "Then we moved onto selecting rows that meet a certain criteria, for example, where the latitude is `29.5`.\n",
    "\n",
    "```python\n",
    "claims_df[claims_df['latitude'] == 29.5]\n",
    "```"
   ]
  },
  {
   "cell_type": "markdown",
   "metadata": {},
   "source": [
    "We saw that it can be helpful to break down queries like the one above into two steps.  \n",
    "\n",
    "1. Return a series of True or False values for every observation, answering whether the state equals \"TEXAS\""
   ]
  },
  {
   "cell_type": "code",
   "execution_count": 21,
   "metadata": {},
   "outputs": [
    {
     "data": {
      "text/plain": [
       "0        False\n",
       "1         True\n",
       "2        False\n",
       "3        False\n",
       "4        False\n",
       "         ...  \n",
       "19995    False\n",
       "19996    False\n",
       "19997    False\n",
       "19998    False\n",
       "19999    False\n",
       "Name: latitude, Length: 20000, dtype: bool"
      ]
     },
     "execution_count": 21,
     "metadata": {},
     "output_type": "execute_result"
    }
   ],
   "source": [
    "claims_df['latitude'] == 29.5\n"
   ]
  },
  {
   "cell_type": "markdown",
   "metadata": {},
   "source": [
    "Then, from the `claims_df` dataframe, select the rows where the value above is `True`."
   ]
  },
  {
   "cell_type": "code",
   "execution_count": 23,
   "metadata": {},
   "outputs": [
    {
     "data": {
      "text/html": [
       "<div>\n",
       "<style scoped>\n",
       "    .dataframe tbody tr th:only-of-type {\n",
       "        vertical-align: middle;\n",
       "    }\n",
       "\n",
       "    .dataframe tbody tr th {\n",
       "        vertical-align: top;\n",
       "    }\n",
       "\n",
       "    .dataframe thead th {\n",
       "        text-align: right;\n",
       "    }\n",
       "</style>\n",
       "<table border=\"1\" class=\"dataframe\">\n",
       "  <thead>\n",
       "    <tr style=\"text-align: right;\">\n",
       "      <th></th>\n",
       "      <th>reportedCity</th>\n",
       "      <th>dateOfLoss</th>\n",
       "      <th>elevatedBuildingIndicator</th>\n",
       "      <th>floodZone</th>\n",
       "      <th>latitude</th>\n",
       "      <th>longitude</th>\n",
       "      <th>lowestFloodElevation</th>\n",
       "      <th>amountPaidOnBuildingClaim</th>\n",
       "      <th>amountPaidOnContentsClaim</th>\n",
       "      <th>yearofLoss</th>\n",
       "      <th>reportedZipcode</th>\n",
       "      <th>id</th>\n",
       "    </tr>\n",
       "  </thead>\n",
       "  <tbody>\n",
       "    <tr>\n",
       "      <th>1</th>\n",
       "      <td>HOUSTON</td>\n",
       "      <td>2008-09-12T00:00:00.000Z</td>\n",
       "      <td>False</td>\n",
       "      <td>X</td>\n",
       "      <td>29.5</td>\n",
       "      <td>-95.1</td>\n",
       "      <td>NaN</td>\n",
       "      <td>0.00</td>\n",
       "      <td>0.00</td>\n",
       "      <td>2008-01-01T00:00:00.000Z</td>\n",
       "      <td>77058</td>\n",
       "      <td>5e398d6774cbd479fc898dfc</td>\n",
       "    </tr>\n",
       "    <tr>\n",
       "      <th>34</th>\n",
       "      <td>HOUSTON</td>\n",
       "      <td>2008-09-13T00:00:00.000Z</td>\n",
       "      <td>False</td>\n",
       "      <td>X</td>\n",
       "      <td>29.5</td>\n",
       "      <td>-95.1</td>\n",
       "      <td>NaN</td>\n",
       "      <td>121524.32</td>\n",
       "      <td>52966.91</td>\n",
       "      <td>2008-01-01T00:00:00.000Z</td>\n",
       "      <td>77058</td>\n",
       "      <td>5e398d6774cbd479fc899102</td>\n",
       "    </tr>\n",
       "    <tr>\n",
       "      <th>45</th>\n",
       "      <td>HOUSTON</td>\n",
       "      <td>1998-09-11T00:00:00.000Z</td>\n",
       "      <td>True</td>\n",
       "      <td>AE</td>\n",
       "      <td>29.5</td>\n",
       "      <td>-95.1</td>\n",
       "      <td>5.0</td>\n",
       "      <td>0.00</td>\n",
       "      <td>NaN</td>\n",
       "      <td>1998-01-01T00:00:00.000Z</td>\n",
       "      <td>77058</td>\n",
       "      <td>5e398d6874cbd479fc8993cf</td>\n",
       "    </tr>\n",
       "  </tbody>\n",
       "</table>\n",
       "</div>"
      ],
      "text/plain": [
       "   reportedCity                dateOfLoss elevatedBuildingIndicator floodZone  \\\n",
       "1       HOUSTON  2008-09-12T00:00:00.000Z                     False         X   \n",
       "34      HOUSTON  2008-09-13T00:00:00.000Z                     False         X   \n",
       "45      HOUSTON  1998-09-11T00:00:00.000Z                      True        AE   \n",
       "\n",
       "    latitude  longitude  lowestFloodElevation  amountPaidOnBuildingClaim  \\\n",
       "1       29.5      -95.1                   NaN                       0.00   \n",
       "34      29.5      -95.1                   NaN                  121524.32   \n",
       "45      29.5      -95.1                   5.0                       0.00   \n",
       "\n",
       "    amountPaidOnContentsClaim                yearofLoss  reportedZipcode  \\\n",
       "1                        0.00  2008-01-01T00:00:00.000Z            77058   \n",
       "34                   52966.91  2008-01-01T00:00:00.000Z            77058   \n",
       "45                        NaN  1998-01-01T00:00:00.000Z            77058   \n",
       "\n",
       "                          id  \n",
       "1   5e398d6774cbd479fc898dfc  \n",
       "34  5e398d6774cbd479fc899102  \n",
       "45  5e398d6874cbd479fc8993cf  "
      ]
     },
     "execution_count": 23,
     "metadata": {},
     "output_type": "execute_result"
    }
   ],
   "source": [
    "selected_latitude_claims = claims_df[claims_df['latitude'] == 29.5]\n",
    "selected_latitude_claims[:3]"
   ]
  }
 ],
 "metadata": {
  "kernelspec": {
   "display_name": "Python 3",
   "language": "python",
   "name": "python3"
  },
  "language_info": {
   "codemirror_mode": {
    "name": "ipython",
    "version": 3
   },
   "file_extension": ".py",
   "mimetype": "text/x-python",
   "name": "python",
   "nbconvert_exporter": "python",
   "pygments_lexer": "ipython3",
   "version": "3.8.3"
  }
 },
 "nbformat": 4,
 "nbformat_minor": 4
}
